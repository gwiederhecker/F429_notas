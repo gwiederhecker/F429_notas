{
 "cells": [
  {
   "cell_type": "markdown",
   "metadata": {},
   "source": [
    "# Inteferômetros de Michelson\n",
    "\n",
    "## Captura de franjas de interferência usando webcam"
   ]
  },
  {
   "cell_type": "markdown",
   "metadata": {},
   "source": [
    "# 0) Inicialização"
   ]
  },
  {
   "cell_type": "code",
   "execution_count": 3,
   "metadata": {},
   "outputs": [
    {
     "ename": "ModuleNotFoundError",
     "evalue": "No module named 'cv2'",
     "output_type": "error",
     "traceback": [
      "\u001b[0;31m---------------------------------------------------------------------------\u001b[0m",
      "\u001b[0;31mModuleNotFoundError\u001b[0m                       Traceback (most recent call last)",
      "\u001b[0;32m<ipython-input-3-7b2341f8d8c9>\u001b[0m in \u001b[0;36m<module>\u001b[0;34m()\u001b[0m\n\u001b[1;32m      4\u001b[0m \u001b[0;32mimport\u001b[0m \u001b[0mnumpy\u001b[0m \u001b[0;32mas\u001b[0m \u001b[0mnp\u001b[0m\u001b[0;34m\u001b[0m\u001b[0m\n\u001b[1;32m      5\u001b[0m \u001b[0;32mimport\u001b[0m \u001b[0mos\u001b[0m\u001b[0;34m\u001b[0m\u001b[0m\n\u001b[0;32m----> 6\u001b[0;31m \u001b[0;32mimport\u001b[0m \u001b[0mcv2\u001b[0m\u001b[0;34m\u001b[0m\u001b[0m\n\u001b[0m\u001b[1;32m      7\u001b[0m \u001b[0;32mimport\u001b[0m \u001b[0mmatplotlib\u001b[0m\u001b[0;34m\u001b[0m\u001b[0m\n\u001b[1;32m      8\u001b[0m \u001b[0;32mimport\u001b[0m \u001b[0mmatplotlib\u001b[0m\u001b[0;34m.\u001b[0m\u001b[0mpyplot\u001b[0m \u001b[0;32mas\u001b[0m \u001b[0mplt\u001b[0m\u001b[0;34m\u001b[0m\u001b[0m\n",
      "\u001b[0;31mModuleNotFoundError\u001b[0m: No module named 'cv2'"
     ]
    }
   ],
   "source": [
    "#for MACOS only\n",
    "import sys\n",
    "sys.path.append('/usr/local/lib/python3.6/site-packages')\n",
    "import numpy as np\n",
    "import os\n",
    "import cv2\n",
    "import matplotlib\n",
    "import matplotlib.pyplot as plt\n",
    "#%matplotlib inline\n",
    "import pandas as pd\n",
    "import time   "
   ]
  },
  {
   "cell_type": "markdown",
   "metadata": {},
   "source": [
    "# 1) Funções para capturar video, não edite!"
   ]
  },
  {
   "cell_type": "code",
   "execution_count": null,
   "metadata": {
    "collapsed": true
   },
   "outputs": [],
   "source": [
    "def captura_ajuste(camera_id = 1, xyc=(0.5,0.5),dx=10):\n",
    "    cap = cv2.VideoCapture(camera_id)\n",
    "    time.sleep(1)\n",
    "    #img = np.zeros((512,512,3), np.uint8)\n",
    "    while(True):\n",
    "        # Capture frame-by-frame\n",
    "        ret, frame0 = cap.read()        \n",
    "        # Our operations on the frame come here\n",
    "        try: \n",
    "            frame = cv2.cvtColor(frame0, cv2.COLOR_BGR2GRAY)\n",
    "        except cv2.error as e:\n",
    "            print('Erro no OpenCV')\n",
    "            cap.release()\n",
    "            cv2.destroyAllWindows\n",
    "                # Display the resulting frame\n",
    "        f_shape = frame.shape # frame size\n",
    "        f_shape = np.round(np.array([f_shape[0]*xyc[1], f_shape[1]*xyc[0]]))\n",
    "        di,dj = dx, dx\n",
    "        j0,i0 = int(f_shape[0])-dj, int(f_shape[1])-di\n",
    "        cv2.rectangle(frame,(i0,j0),(i0+di,j0+dj),(255,255,255),1)\n",
    "        rect_media = frame[j0:j0+di,i0:i0+dj]\n",
    "        med2=rect_media.mean()\n",
    "        #font = cv2.FONT_HERSHEY_SIMPLEX\n",
    "        font = cv2.FONT_HERSHEY_SIMPLEX\n",
    "        cv2.putText(frame,'Media={:3.3g}'.format(med2/255*100),(10,100), font, 1.2,(255,255,255),2)\n",
    "        cv2.imshow('Ajuste a posicao da camera, aperte a tecla \"q\" para fechar',frame)\n",
    "        if cv2.waitKey(1) & 0xFF == ord('q'):\n",
    "            cap.release()\n",
    "            cv2.destroyAllWindows()\n",
    "            break\n",
    "    cap.release()\n",
    "    cv2.destroyAllWindows()\n",
    "    # When everything done, release the capture\n",
    "#funçao de captura\n",
    "def captura_franjas(tempo, camera_id=1, xyc=(0.5,0.5),dx=10, tempo_aviso=10, fps_chute=23):\n",
    "    #print(\"Digite por quantos segundos você quer filmar:\")\n",
    "    print(arquivo_video)\n",
    "    t=tempo\n",
    "    cap = cv2.VideoCapture(camera_id) #abre a webcam\n",
    "    time.sleep(1)\n",
    "    #setting up\n",
    "    #cap.set(cv2.CAP_PROP_FPS, 999) #Coloca o FPS no máximo\n",
    "    fourcc = cv2.VideoWriter_fourcc(*'XVID')#Começa a salvar o vídeo\n",
    "    out = cv2.VideoWriter(arquivo_video,fourcc, 20.0, (640,480))#Ajustes para salvar\n",
    "    #fourcc = cv2.VideoWriter_fourcc(*'avc1')\n",
    "    #fourcc = cv2.VideoWriter_fourcc('m', 'p', '4', 'v') # note the lower cas\n",
    "    #out = cv2.VideoWriter(arquivo_video,-1, 20.0, (640,480))#Ajustes para salvar\n",
    "    print('Captura iniciando, expanda a janela (na barra do windows) para ver em tempo real!')\n",
    "    k=0#contadora de frames\n",
    "    a=[]#lista onde armazenaremos a luminosidade\n",
    "    d=[]#lista onde armazenaremos o tempo\n",
    "    start=time.time()#Checa há quanto tempo o programa está rodando até aqui\n",
    "    seconds=0#Variável de tempo\n",
    "    while seconds<t:\n",
    "        ret, frame0 = cap.read() #lê a camera\n",
    "        end=time.time()#Checa há quanto tempo o programa está rodando até aqui\n",
    "        seconds=end-start#Quanto tempo demorou do início dos loops até aqui\n",
    "        #r operations on the frame come here\n",
    "        try: \n",
    "            frame = cv2.cvtColor(frame0, cv2.COLOR_BGR2GRAY)\n",
    "        except cv2.error as e:\n",
    "            print('Erro no OpenCV')\n",
    "            cap.release()\n",
    "            cv2.destroyAllWindows()\n",
    "            raise\n",
    "        # Display the resulting frame\n",
    "        #----------------------------------\n",
    "        #---averaging\n",
    "        f_shape = frame.shape # frame size\n",
    "        f_shape = np.round(np.array([f_shape[0]*xyc[1], f_shape[1]*xyc[0]]))\n",
    "        di,dj = dx, dx\n",
    "        j0,i0 = int(f_shape[0])-dj, int(f_shape[1])-di\n",
    "        cv2.rectangle(frame,(i0,j0),(i0+di,j0+dj),(255,255,255),1)\n",
    "        rect_media = frame[j0:j0+di,i0:i0+dj]\n",
    "        med=rect_media.mean()\n",
    "        #----------------------------------\n",
    "        #---movie caption\n",
    "        font = cv2.FONT_HERSHEY_SIMPLEX\n",
    "        cv2.putText(frame,'Media={:3.3g}'.format(med/255*100),(10,100), font, 1.2,(255,255,255),2)\n",
    "        str_tempo = 't={:1.3g}%'.format(seconds/tempo*100)\n",
    "        cv2.putText(frame,str_tempo,(10,200), font, 1.2,(255,255,255),2)\n",
    "        cv2.imshow('Aperte a tecla \"q\" para fechar',frame)\n",
    "        #----------------------------------\n",
    "        #---writing\n",
    "        out.write(frame)#salva o frame no arquivo de vídeo\n",
    "        #post \n",
    "        a.append(med)#coloca a luminosidade na lista\n",
    "        d.append(seconds)#Salva o tempo na list\n",
    "        k=k+1#Conta o frame\n",
    "        if (k%(fps_chute*tempo_aviso))==0:\n",
    "            str_tempo = 'tempo passado={:2.2g} segundos, {:3.2g}%'.format(seconds,seconds/tempo*100)\n",
    "            #cv2.putText(frame,str_tempo,(10,200), font, 1.2,(255,255,255),2)\n",
    "            print(str_tempo)\n",
    "        if cv2.waitKey(1) & 0xFF == ord('q'):\n",
    "            break\n",
    "    out.release()\n",
    "    cap.release()\n",
    "    cv2.destroyAllWindows()\n",
    "    nframes=k\n",
    "    fps=nframes/seconds\n",
    "    tempo_vec=np.array(d)\n",
    "    intensidade_vec=np.array(a)\n",
    "    print (\"O tempo de filmagem foi de {:2.2g} segundos\".format(seconds))\n",
    "    print (\"O número de frames da filmagem é:\", nframes)\n",
    "    print (\"O número de frames por segundo da filmagem é {:2.2g}\".format(fps))\n",
    "    return tempo_vec, intensidade_vec"
   ]
  },
  {
   "cell_type": "markdown",
   "metadata": {},
   "source": [
    "# 2. Ajuste a posição da camera enquanto executar a linha abaixo\n",
    "\n",
    "*<span style=color:red>aperte a tecla q na janela aberta (veja a barra do windows) para fechar </span>\n",
    "\n",
    "*<span style=color:red>CERTIFIQUE-SE QUE A WEBCAM ESTÁ CONECTADA NA PORTA USB DO COMPUTADOR </span>"
   ]
  },
  {
   "cell_type": "code",
   "execution_count": null,
   "metadata": {
    "collapsed": true
   },
   "outputs": [],
   "source": [
    "captura_ajuste(xyc=(0.5,0.5), dx=30)\n",
    "#é possível ajustar o tamanho e posição do quadrado central, alterando os valores de x0,y0, como sugerido\n",
    "#xyc=(x0,y0), sendo que x0 e y0 são coordenadas normalizadas da imagem (0<x0<1;0<y0<1)\n",
    "#dx = numero de pixels correspondende às dimensões do quadrado: O TAMANHO DO QUADRADO NÃO DEVE SER MENOR QUE UMA FRANJA"
   ]
  },
  {
   "cell_type": "markdown",
   "metadata": {},
   "source": [
    "# 3. Captura das franjas"
   ]
  },
  {
   "cell_type": "markdown",
   "metadata": {},
   "source": [
    "## 3.1 Ajuste parâmetros para salvar arquivo"
   ]
  },
  {
   "cell_type": "code",
   "execution_count": null,
   "metadata": {
    "collapsed": true
   },
   "outputs": [],
   "source": [
    "## parametros de varredura\n",
    "PATH = 'meu_experimento/'     # pasta onde salvar todos os arquivos\n",
    "## Não coloque .dat aqui, pois as extensões são adicionadas automaticamente\n",
    "nome_arquivo = 'exp_michelson'    # nome prefixo dos arquivos  \n",
    "##--------------------------------------------------------\n",
    "#Cria a pasta no computador, veja a variável PATH\n",
    "try: \n",
    "    os.makedirs(PATH)     # make new directory unless it already exists\n",
    "except OSError:\n",
    "    if not os.path.isdir(PATH):\n",
    "        raise\n",
    "#qual pasta estou?\n",
    "print('pasta atual:',os.getcwd())   \n",
    "time_suf = time.strftime('_%H_%M_%S', time.localtime(time.time()))\n",
    "arquivo_video = PATH+nome_arquivo+'_franjas_'+time_suf+'.avi'\n",
    "print('nome do arquivo de video:',arquivo_video)"
   ]
  },
  {
   "cell_type": "markdown",
   "metadata": {},
   "source": [
    "## 3.2 Executando a captura e graficando"
   ]
  },
  {
   "cell_type": "code",
   "execution_count": null,
   "metadata": {
    "collapsed": true
   },
   "outputs": [],
   "source": [
    "#O TEMPO (em segundos) DEVE SER AJUSTADO!\n",
    "#use os valores de xyc e dx que você testou no ajuste.\n",
    "t_vec,lum_vec=captura_franjas(tempo=10, xyc=(0.5,0.5), dx=10)\n",
    "#-----------------------------------\n",
    "dados = pd.DataFrame()\n",
    "dados['Tempo']=np.array(t_vec)\n",
    "dados['Luminosidade']=np.array(lum_vec)\n",
    "#-----------------------------------\n",
    "figure=plt.figure()\n",
    "plt.plot(dados['Tempo'],dados['Luminosidade'],'.-')\n",
    "plt.xlabel('Tempo (s)')\n",
    "plt.ylabel('Intensidade (arb.)')\n",
    "plt.show()"
   ]
  },
  {
   "cell_type": "markdown",
   "metadata": {},
   "source": [
    "## 3.3 __SALVANDO FIGURAS E DADOS__"
   ]
  },
  {
   "cell_type": "code",
   "execution_count": null,
   "metadata": {
    "collapsed": true
   },
   "outputs": [],
   "source": [
    "nome_fig = PATH + nome_arquivo + '_bode' + time_suf + '.png'\n",
    "nome_csv = PATH + nome_arquivo + '_dados' + time_suf + '.dat'\n",
    "#Salvando\n",
    "figure.savefig(nome_fig, bbox_inches = 'tight')  # salva figura na pasta de trabalho\n",
    "dados.to_csv(nome_csv, sep = '\\t',index=False)   # \\t significa que o separador é uma tabulação, index=False remove os indices da coluna"
   ]
  }
 ],
 "metadata": {
  "kernelspec": {
   "display_name": "Python 3",
   "language": "python",
   "name": "python3"
  },
  "language_info": {
   "codemirror_mode": {
    "name": "ipython",
    "version": 3
   },
   "file_extension": ".py",
   "mimetype": "text/x-python",
   "name": "python",
   "nbconvert_exporter": "python",
   "pygments_lexer": "ipython3",
   "version": "3.6.4"
  },
  "toc": {
   "nav_menu": {},
   "number_sections": true,
   "sideBar": true,
   "skip_h1_title": false,
   "title_cell": "Table of Contents",
   "title_sidebar": "Contents",
   "toc_cell": false,
   "toc_position": {},
   "toc_section_display": true,
   "toc_window_display": false
  }
 },
 "nbformat": 4,
 "nbformat_minor": 2
}
