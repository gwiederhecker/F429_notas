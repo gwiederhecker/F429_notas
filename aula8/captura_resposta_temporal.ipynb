{
 "cells": [
  {
   "cell_type": "markdown",
   "metadata": {
    "button": false,
    "deletable": true,
    "new_sheet": false,
    "run_control": {
     "read_only": false
    }
   },
   "source": [
    "# Exemplo de programa para capturar as formas de onda do osciloscópio"
   ]
  },
  {
   "cell_type": "markdown",
   "metadata": {
    "button": false,
    "deletable": true,
    "new_sheet": false,
    "run_control": {
     "read_only": false
    }
   },
   "source": [
    "## 1.Inicialização"
   ]
  },
  {
   "cell_type": "code",
   "execution_count": 2,
   "metadata": {
    "button": false,
    "collapsed": true,
    "deletable": true,
    "new_sheet": false,
    "run_control": {
     "read_only": false
    }
   },
   "outputs": [],
   "source": [
    "'''importa as bibliotecas necessárias'''\n",
    "import pylef   # importar pylef \n",
    "import visa    # importar a bilioteca pyVISA para lidar com virtualização de instrumentos\n",
    "import matplotlib.pyplot as plt  # importar a bilioteca pyplot para fazer gráficos\n",
    "import numpy as np   # importar a biblioteca Numpy para lidar com matrizes\n",
    "import time          # importar a bilioteca para funções temporais\n",
    "import pandas as pd   # importa bilioteca pandas para  lidar com processamento de dados\n",
    "import os            # biblioteca para lidar com diretórios\n",
    "# próxima linha faz plotar o gráfico dentro do notebook\n",
    "%matplotlib inline   "
   ]
  },
  {
   "cell_type": "code",
   "execution_count": null,
   "metadata": {
    "button": false,
    "collapsed": true,
    "deletable": true,
    "new_sheet": false,
    "run_control": {
     "read_only": false
    }
   },
   "outputs": [],
   "source": [
    "# imprime os recursos para ter certeza que os instrumentos estão conectados\n",
    "visa.ResourceManager().list_resources()"
   ]
  },
  {
   "cell_type": "code",
   "execution_count": null,
   "metadata": {
    "button": false,
    "collapsed": true,
    "deletable": true,
    "new_sheet": false,
    "run_control": {
     "read_only": false
    }
   },
   "outputs": [],
   "source": [
    "'''Inicializa classes para controlar instrumentos'''\n",
    "scope = pylef.TektronixTBS1062()   # definição do osciloscópio"
   ]
  },
  {
   "cell_type": "markdown",
   "metadata": {
    "button": false,
    "deletable": true,
    "new_sheet": false,
    "run_control": {
     "read_only": false
    }
   },
   "source": [
    "## 2. Captura das ondas do osciloscópio\n",
    "<span style='color:red'>Você deverá configurar manualmente o gerador de funções e as escalas (horizontais e verticais) do osciloscópio."
   ]
  },
  {
   "cell_type": "markdown",
   "metadata": {
    "button": false,
    "deletable": true,
    "new_sheet": false,
    "run_control": {
     "read_only": false
    }
   },
   "source": [
    "Você pode simplesmente capturar as formas de onda para variáveis locais:"
   ]
  },
  {
   "cell_type": "code",
   "execution_count": null,
   "metadata": {
    "button": false,
    "collapsed": true,
    "deletable": true,
    "new_sheet": false,
    "run_control": {
     "read_only": false
    }
   },
   "outputs": [],
   "source": [
    "### Capturando o canal 1\n",
    "t1, V1 = scope.ch1.read_channel()   # adquire dados de tensão por tempo\n",
    "plt.plot(t1, V1,'.')   # plot V x t\n",
    "plt.xlabel('Tempo (s)')\n",
    "plt.ylabel('Tensão (V)')\n",
    "plt.show()       # mostra o gráfico"
   ]
  },
  {
   "cell_type": "code",
   "execution_count": null,
   "metadata": {
    "button": false,
    "collapsed": true,
    "deletable": true,
    "new_sheet": false,
    "run_control": {
     "read_only": false
    }
   },
   "outputs": [],
   "source": [
    "### Capturando o canal 2\n",
    "t2, V2 = scope.ch2.read_channel()   # adquire dados de tensão por tempo\n",
    "plt.plot(t2, V2,'.')   # plot V x t\n",
    "plt.xlabel('Tempo (s)')\n",
    "plt.ylabel('Tensão (V)')\n",
    "plt.show()       # mostra o gráfico"
   ]
  },
  {
   "cell_type": "markdown",
   "metadata": {
    "button": false,
    "deletable": true,
    "new_sheet": false,
    "run_control": {
     "read_only": false
    }
   },
   "source": [
    "<span style='color:red'>Ou, caso as formas de onda mostradas na tela do osciloscópio estejam de acordo com o seu desejo, salve-as diretamente utilizando o comando abaixo:</span>"
   ]
  },
  {
   "cell_type": "markdown",
   "metadata": {
    "button": false,
    "deletable": true,
    "new_sheet": false,
    "run_control": {
     "read_only": false
    }
   },
   "source": [
    "<span style='color:red'>Anote o nome do arquivo salvo em seu caderno, e todos os parâmetros relevantes que correspondem ao arquivo</span>"
   ]
  },
  {
   "cell_type": "code",
   "execution_count": 24,
   "metadata": {
    "button": false,
    "collapsed": false,
    "deletable": true,
    "new_sheet": false,
    "run_control": {
     "read_only": false
    }
   },
   "outputs": [
    {
     "data": {
      "image/png": "[encoded data removed]",
      "text/plain": [
       "<matplotlib.figure.Figure at 0x10efa8c88>"
      ]
     },
     "metadata": {},
     "output_type": "display_data"
    },
    {
     "name": "stdout",
     "output_type": "stream",
     "text": [
      "Pasta atual: /Users/gsw/Dropbox/Disciplinas/f429/2017_1s/python\n",
      "Nome da figura: int_dif/exp_2_v1v2_time_21_53_36.png\n",
      "Nome da tabela de dados: int_dif/exp_2_v1v2_time_21_53_36.dat\n"
     ]
    }
   ],
   "source": [
    "#-----------------------\n",
    "#salva os dois canais do osciloscópio\n",
    "t1, V1 = scope.ch1.read_channel()\n",
    "t2, V2 = scope.ch2.read_channel()\n",
    "plt.plot(t1, V1,'b.',label='V1')   # plot V x t\n",
    "plt.plot(t2, V2,'r.',label='V2')   # plot V x t\n",
    "plt.xlabel('Tempo (s)')\n",
    "plt.ylabel('Tensão (V)')\n",
    "fig=plt.gcf()\n",
    "plt.show()\n",
    "#-----------------------\n",
    "#gerando tabelas pandas\n",
    "dados = pd.DataFrame()   # inicializa um dataframe do pandas\n",
    "dados['t (s)'] = t1 # note que t1 e t2 devem ser iguais!\n",
    "dados['V1 (V)'] = V1\n",
    "dados['V2 (V)'] = V2\n",
    "#-----------------------\n",
    "## parametros de varredura\n",
    "PATH = 'int_dif/'     # pasta onde salvar todos os arquivos\n",
    "## Não coloque .dat aqui, pois as extensões são adicionadas automaticamente\n",
    "nome_arquivo = 'exp_2'    # nome prefixo dos arquivos  \n",
    "##--------------------------------------------------------\n",
    "##------------SALVANDO ARQUIVOS------------\n",
    "##--------------------------------------------------------\n",
    "#Cria a pasta no computador, veja a variável PATH\n",
    "try: \n",
    "    os.makedirs(PATH)     # tenta fazer nova pasta, caso ela não exista\n",
    "except OSError:\n",
    "    if not os.path.isdir(PATH):\n",
    "        raise\n",
    "#qual pasta estou?\n",
    "print('Pasta atual:',os.getcwd())  \n",
    "#gerando um sufixo de tempo para evitar arquivo com nome duplicado\n",
    "time_suf = time.strftime('_%H_%M_%S', time.localtime(time.time())) \n",
    "nome_fig = PATH + nome_arquivo + '_v1v2' + '_time' + time_suf + '.png'\n",
    "nome_dat = PATH + nome_arquivo + '_v1v2' + '_time' + time_suf + '.dat'\n",
    "#----------------------\n",
    "#figura\n",
    "fig.savefig(nome_fig, bbox_inches = 'tight')\n",
    "print('Nome da figura:', nome_fig)  \n",
    "#-----------------------\n",
    "#tabela de dados\n",
    "dados.to_csv(nome_csv, sep = '\\t', index=False)   # \\t significa que o separador é uma tabulação, index=False remove os indices da coluna\n",
    "print('Nome da tabela de dados:', nome_dat) "
   ]
  },
  {
   "cell_type": "code",
   "execution_count": null,
   "metadata": {
    "button": false,
    "collapsed": true,
    "deletable": true,
    "new_sheet": false,
    "run_control": {
     "read_only": false
    }
   },
   "outputs": [],
   "source": []
  }
 ],
 "metadata": {
  "kernelspec": {
   "display_name": "Python 3",
   "language": "python",
   "name": "python3"
  },
  "language_info": {
   "codemirror_mode": {
    "name": "ipython",
    "version": 3
   },
   "file_extension": ".py",
   "mimetype": "text/x-python",
   "name": "python",
   "nbconvert_exporter": "python",
   "pygments_lexer": "ipython3",
   "version": "3.5.0"
  }
 },
 "nbformat": 4,
 "nbformat_minor": 0
}
