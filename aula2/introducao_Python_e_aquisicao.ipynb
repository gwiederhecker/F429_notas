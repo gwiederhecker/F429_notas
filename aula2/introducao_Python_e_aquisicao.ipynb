{
 "cells": [
  {
   "cell_type": "markdown",
   "metadata": {
    "button": false,
    "deletable": true,
    "new_sheet": false,
    "run_control": {
     "read_only": false
    }
   },
   "source": [
    "Este tutorial é uma adaptação de tutoriais previamente existentes, em particular:\n",
    "\n",
    "* [_Pineapple_](https://nwhitehead.github.io/pineapple/) \n",
    "* [_Matplotlib_](http://matplotlib.org)\n",
    "* [_Numpy_](http://cs231n.github.io/python-numpy-tutorial/), Adaptado do tutorial feito por Volodymyr Kuleshov e Isaac Caswell, (que foi baseado no tutorial CS231n Python por Justin Johnson)"
   ]
  },
  {
   "cell_type": "markdown",
   "metadata": {
    "button": false,
    "deletable": true,
    "new_sheet": false,
    "run_control": {
     "read_only": false
    }
   },
   "source": [
    "# <span style=\"color:blue\"> 1. Jupyter - os princípios </span>\n",
    "\n",
    "Bem-vindo ao _Jupyter_, uma interface gráfica para Python baseado em  IPython. O _Jupyter_ deixa-o organizar seu código em um formato executável do caderno que suporta o código, o texto, as expressões matemáticas, os lotes inline, e a outra mídia.\n",
    "\n",
    "## Por que um caderno?\n",
    "\n",
    "O formato notebook para escrever código traz muitas vantagens.\n",
    "- Código de mistura e explicação do que você está fazendo\n",
    "- Veja seu código com realce de sintaxe\n",
    "- Avaliar partes específicas do código quantas vezes for necessário sem reiniciar\n",
    "- Exibição gráfica dos resultados\n",
    "- O código e os resultados são organizados em conjunto"
   ]
  },
  {
   "cell_type": "markdown",
   "metadata": {
    "button": false,
    "deletable": true,
    "new_sheet": false,
    "run_control": {
     "read_only": false
    }
   },
   "source": [
    "## Células\n",
    "\n",
    "Um _cell_ em _Jupyter_ é um único bloco no caderno. As células podem ser de diferentes tipos:\n",
    "- Código (Python)\n",
    "- Texto (Markdown)"
   ]
  },
  {
   "cell_type": "code",
   "execution_count": null,
   "metadata": {
    "button": false,
    "collapsed": false,
    "deletable": true,
    "new_sheet": false,
    "run_control": {
     "read_only": false
    }
   },
   "outputs": [],
   "source": [
    "# Este é o código Python nesta célula.\n",
    "# Você pode avaliar uma célula pressionando Shift-Return\n",
    "# Quando o cursor estiver na célula\n",
    "2+2"
   ]
  },
  {
   "cell_type": "code",
   "execution_count": null,
   "metadata": {
    "button": false,
    "collapsed": false,
    "deletable": true,
    "new_sheet": false,
    "run_control": {
     "read_only": false
    }
   },
   "outputs": [],
   "source": [
    "# Você também pode fazer coisas normais Python\n",
    "def f(x):\n",
    "    return x + 5\n",
    "f(10)"
   ]
  },
  {
   "cell_type": "markdown",
   "metadata": {
    "button": false,
    "deletable": true,
    "new_sheet": false,
    "run_control": {
     "read_only": false
    }
   },
   "source": [
    "Observe que o valor da última expressão é exibido na parte de saída da célula. Às vezes você não quer nenhum valor. Nesse caso, você pode usar um ponto-e-vírgula no final."
   ]
  },
  {
   "cell_type": "code",
   "execution_count": null,
   "metadata": {
    "button": false,
    "collapsed": true,
    "deletable": true,
    "new_sheet": false,
    "run_control": {
     "read_only": false
    }
   },
   "outputs": [],
   "source": [
    "f(10);"
   ]
  },
  {
   "cell_type": "markdown",
   "metadata": {
    "button": false,
    "deletable": true,
    "new_sheet": false,
    "run_control": {
     "read_only": false
    }
   },
   "source": [
    "Você também deve notar que a definição de `f` ainda está ativa. Mesmo que você possa ter muitas células de código, há apenas uma sessão com Python por notebook chamado kernel."
   ]
  },
  {
   "cell_type": "code",
   "execution_count": null,
   "metadata": {
    "button": false,
    "collapsed": false,
    "deletable": true,
    "new_sheet": false,
    "run_control": {
     "read_only": false
    }
   },
   "outputs": [],
   "source": [
    "f(0)"
   ]
  },
  {
   "cell_type": "markdown",
   "metadata": {
    "button": false,
    "deletable": true,
    "new_sheet": false,
    "run_control": {
     "read_only": false
    }
   },
   "source": [
    "Para ajudar você a acompanhar o estado atual do Python, cada célula Python tem um número ao lado das seções `In []  e  `Out []. À medida que você executa células, você verá os números aumentarem.\n",
    "\n",
    "## Avaliando células\n",
    "\n",
    "| Tecla | Ação |\n",
    "| ---- | ------ |\n",
    "| <kbd><span class=\"symbol\">⇧</span> Shift</kbd> + <kbd>Return <span class=\"symbol\">⏎</span></kbd> | Avaliar a célula e mover o cursor para baixo|\n",
    "| <kbd><span class=\"symbol\">Ctrl</span></kbd> + <kbd>Return <span class=\"symbol\">⏎</span></kbd> | Avaliar célula sem movimento do cursor |\n",
    "|  <kbd><span class=\"symbol\">⇧</span> Shift</kbd> + <kbd><span class=\"symbol\">Ctrl</span></kbd> + <kbd>Return <span class=\"symbol\">⏎</span></kbd> | Avaliar todas as células em ordem |\n"
   ]
  },
  {
   "cell_type": "markdown",
   "metadata": {
    "button": false,
    "deletable": true,
    "new_sheet": false,
    "run_control": {
     "read_only": false
    }
   },
   "source": [
    "## Interrompendo\n",
    "\n",
    "Se um cálculo está demorando muito tempo, ou parece estar preso em um loop infinito, você pode interromper o cálculo usando <kbd><span class=\"symbol\">Ctrl</span></kbd> + <kbd>I</kbd>.\n",
    "\n",
    "Aqui está um exemplo que leva artificialmente alguns segundos para terminar. Tente avaliar a célula. Você deve ver o número `In []` mudar para o símbolo de ocupado `*`. Se você estiver impaciente, pressione\n",
    " <kbd>I</kbd> , <kbd>I</kbd> (das vezes a tecla <kbd>I</kbd>) e veja  que acontece."
   ]
  },
  {
   "cell_type": "code",
   "execution_count": null,
   "metadata": {
    "button": false,
    "collapsed": false,
    "deletable": true,
    "new_sheet": false,
    "run_control": {
     "read_only": false
    }
   },
   "outputs": [],
   "source": [
    "from time import sleep\n",
    "sleep(5)\n",
    "2+2"
   ]
  },
  {
   "cell_type": "code",
   "execution_count": null,
   "metadata": {
    "button": false,
    "collapsed": true,
    "deletable": true,
    "new_sheet": false,
    "run_control": {
     "read_only": false
    }
   },
   "outputs": [],
   "source": [
    "import matplotlib.pyplot as plt\n",
    "%matplotlib inline"
   ]
  },
  {
   "cell_type": "markdown",
   "metadata": {
    "button": false,
    "deletable": true,
    "new_sheet": false,
    "run_control": {
     "read_only": false
    }
   },
   "source": [
    "## Reiniciando\n",
    "\n",
    "Interromper a avaliação apenas interrompe a computação. Ele não redefine o estado do interpretador Python. Você pode reiniciar o interpretador Python de uma planilha em branco através da opção de menu `Kernel - Restart` ou pressionando <kbd><span class=\"symbol\">Ctrl</span></kbd> + <kbd>0</kbd>. Quaisquer variáveis que você salvou ou funções definidas serão esquecidas.\n",
    "\n",
    "Tente reiniciar o kernel e, em seguida, avaliar a chamada de função. Você verá um erro porque `f` não está mais definido."
   ]
  },
  {
   "cell_type": "code",
   "execution_count": null,
   "metadata": {
    "button": false,
    "collapsed": false,
    "deletable": true,
    "new_sheet": false,
    "run_control": {
     "read_only": false
    }
   },
   "outputs": [],
   "source": [
    "plt.plot([1,2,3],'*')"
   ]
  },
  {
   "cell_type": "code",
   "execution_count": null,
   "metadata": {
    "button": false,
    "collapsed": false,
    "deletable": true,
    "new_sheet": false,
    "run_control": {
     "read_only": false
    }
   },
   "outputs": [],
   "source": [
    "f(3)"
   ]
  },
  {
   "cell_type": "markdown",
   "metadata": {
    "button": false,
    "deletable": true,
    "new_sheet": false,
    "run_control": {
     "read_only": false
    }
   },
   "source": [
    "## Operações de Arquivo\n",
    "\n",
    "Os notebooks são arquivos salvos em um formato de texto especial com a extensão `.ipynb`. As opções de menu padrão, como `Novo`,` Abrir`, `Salvar` e` Salvar como` devem funcionar conforme o esperado.\n",
    "\n",
    "__Note__ O Jupyter salva automaticamente os arquivos enquanto você trabalha. Se pretender manter uma cópia original do seu portátil, depois de abrir o documento, faça imediatamente 'Guardar como' com um novo nome para que a versão original não seja alterada.\n",
    "\n",
    "Os novos arquivos são nomeados `Untitled.ipynb` por padrão e salvos no diretório` Documents`.\n",
    "\n",
    "Você pode clicar duas vezes em arquivos `.ipynb` do Finder para abri-los no Jupyter.\n",
    "\n",
    "Não abra o mesmo arquivo várias vezes em diferentes janelas do Jupyter; As mudanças nas janelas diferentes entrarão em conflito e você poderá perder o trabalho."
   ]
  },
  {
   "cell_type": "markdown",
   "metadata": {
    "button": false,
    "deletable": true,
    "new_sheet": false,
    "run_control": {
     "read_only": false
    }
   },
   "source": [
    "## Exportar\n",
    "\n",
    "Notebooks podem ser exportados usando Jupyter nos seguintes formatos.\n",
    "\n",
    "__Python__ <br />\n",
    "A saída é um script `.py` Python. As células de código tornam-se código Python no script, as células de saída e de texto tornam-se comentários no código.\n",
    "\n",
    "__HTML__ <br />\n",
    "Isso cria um único arquivo `.html` que pode ser aberto em um navegador da Web\n",
    "Para ver o notebook. Note que notebooks abertos a partir do arquivo não são\n",
    "interativo.\n",
    "\n",
    "__Markdown__ <br />\n",
    "Isso cria um único arquivo de texto \".md\" Markdown ou um arquivo .zip\n",
    "Contendo o arquivo Markdown juntamente com outros recursos necessários para exibir\n",
    "A página (por exemplo, imagens em células de saída). No texto Markdown, o código de entrada\n",
    "Blocos são indicados usando backticks explícitos, código de saída é indicado usando recuo."
   ]
  },
  {
   "cell_type": "markdown",
   "metadata": {
    "button": false,
    "deletable": true,
    "new_sheet": false,
    "run_control": {
     "read_only": false
    }
   },
   "source": [
    "---"
   ]
  },
  {
   "cell_type": "markdown",
   "metadata": {
    "button": false,
    "deletable": true,
    "new_sheet": false,
    "run_control": {
     "read_only": false
    }
   },
   "source": [
    "# 2. <span style=\"color:blue\"> Breve introdução ao _Python_</span>"
   ]
  },
  {
   "cell_type": "markdown",
   "metadata": {
    "button": false,
    "deletable": true,
    "new_sheet": false,
    "run_control": {
     "read_only": false
    }
   },
   "source": [
    "Existem atualmente duas versões suportadas diferentes do Python, 2.7 e 3.4. Um tanto confuso, o Python 3.0 introduziu muitas mudanças incompatíveis para o idioma, de modo que o código escrito para o 2.7 pode não funcionar em 3.4 e vice-versa. Para esta classe todo o código usará o Python 2.7."
   ]
  },
  {
   "cell_type": "markdown",
   "metadata": {
    "button": false,
    "deletable": true,
    "new_sheet": false,
    "run_control": {
     "read_only": false
    }
   },
   "source": [
    "### Tipos de variável"
   ]
  },
  {
   "cell_type": "markdown",
   "metadata": {
    "button": false,
    "deletable": true,
    "new_sheet": false,
    "run_control": {
     "read_only": false
    }
   },
   "source": [
    "#### Números"
   ]
  },
  {
   "cell_type": "markdown",
   "metadata": {
    "button": false,
    "deletable": true,
    "new_sheet": false,
    "run_control": {
     "read_only": false
    }
   },
   "source": [
    "Os números inteiros e os flutuantes funcionam como seria de esperar de outros idiomas:"
   ]
  },
  {
   "cell_type": "code",
   "execution_count": null,
   "metadata": {
    "button": false,
    "collapsed": false,
    "deletable": true,
    "new_sheet": false,
    "run_control": {
     "read_only": false
    }
   },
   "outputs": [],
   "source": [
    "x = 3\n",
    "print(x)\n",
    "print(type(x))"
   ]
  },
  {
   "cell_type": "code",
   "execution_count": null,
   "metadata": {
    "button": false,
    "collapsed": false,
    "deletable": true,
    "new_sheet": false,
    "run_control": {
     "read_only": false
    }
   },
   "outputs": [],
   "source": [
    "print(x + 1)  # Addition;\n",
    "print(x - 1)   # Subtraction;\n",
    "print(x * 2)   # Multiplication;\n",
    "print(x ** 2)  # Exponentiation;"
   ]
  },
  {
   "cell_type": "markdown",
   "metadata": {
    "button": false,
    "deletable": true,
    "new_sheet": false,
    "run_control": {
     "read_only": false
    }
   },
   "source": [
    "Você pode incrementar o valor de `x` utilizando operadores antes do símbolo `=`\n",
    "\n",
    "Execute o código abaixo mais de uma vez..."
   ]
  },
  {
   "cell_type": "code",
   "execution_count": null,
   "metadata": {
    "button": false,
    "collapsed": false,
    "deletable": true,
    "new_sheet": false,
    "run_control": {
     "read_only": false
    }
   },
   "outputs": [],
   "source": [
    "x += 1\n",
    "print(x)  # Prints \"4\"\n",
    "x *= 2\n",
    "print(x)  # Prints \"8\""
   ]
  },
  {
   "cell_type": "code",
   "execution_count": null,
   "metadata": {
    "button": false,
    "collapsed": false,
    "deletable": true,
    "new_sheet": false,
    "run_control": {
     "read_only": false
    }
   },
   "outputs": [],
   "source": [
    "#Tipos flutuantes\n",
    "y = 2.5\n",
    "print(type(y)) # Prints \"<type 'float'>\"\n",
    "print(y, y + 1, y * 2, y ** 2) # Prints \"2.5 3.5 5.0 6.25\""
   ]
  },
  {
   "cell_type": "markdown",
   "metadata": {
    "button": false,
    "deletable": true,
    "new_sheet": false,
    "run_control": {
     "read_only": false
    }
   },
   "source": [
    "Observe que, ao contrário de muitas linguagens, o Python não possui operadores de incremento unário (x ++) ou decremento (x--). O Python também possui tipos embutidos para inteiros longos e números complexos; Você pode encontrar todos os detalhes na [documentação](https://docs.python.org/2/library/stdtypes.html#numeric-types-int-float-long-complex)."
   ]
  },
  {
   "cell_type": "markdown",
   "metadata": {
    "button": false,
    "deletable": true,
    "new_sheet": false,
    "run_control": {
     "read_only": false
    }
   },
   "source": [
    "#### Booleanos\n",
    "\n",
    "O Python implementa todos os operadores usuais para a lógica Booleana, mas usa palavras em inglês em vez de símbolos (&&, ||, etc.):"
   ]
  },
  {
   "cell_type": "code",
   "execution_count": null,
   "metadata": {
    "button": false,
    "collapsed": false,
    "deletable": true,
    "new_sheet": false,
    "run_control": {
     "read_only": false
    }
   },
   "outputs": [],
   "source": [
    "t, f = True, False\n",
    "print(type(t))# Prints \"<type 'bool'>\""
   ]
  },
  {
   "cell_type": "markdown",
   "metadata": {
    "button": false,
    "deletable": true,
    "new_sheet": false,
    "run_control": {
     "read_only": false
    }
   },
   "source": [
    "Alguns testes lógicos..."
   ]
  },
  {
   "cell_type": "code",
   "execution_count": null,
   "metadata": {
    "button": false,
    "collapsed": false,
    "deletable": true,
    "new_sheet": false,
    "run_control": {
     "read_only": false
    }
   },
   "outputs": [],
   "source": [
    "print(t and f )# Logical AND;\n",
    "print(t or f  )# Logical OR;\n",
    "print(not t  ) # Logical NOT;\n",
    "print(t != f)  # Logical XOR;"
   ]
  },
  {
   "cell_type": "markdown",
   "metadata": {
    "button": false,
    "deletable": true,
    "new_sheet": false,
    "run_control": {
     "read_only": false
    }
   },
   "source": [
    "### Strings (literais)"
   ]
  },
  {
   "cell_type": "code",
   "execution_count": null,
   "metadata": {
    "button": false,
    "collapsed": false,
    "deletable": true,
    "new_sheet": false,
    "run_control": {
     "read_only": false
    }
   },
   "outputs": [],
   "source": [
    "hello = 'hello'   # Literais de seqüência podem usar aspas simples\n",
    "world = \"world\"   # Ou aspas duplas; isso não importa.\n",
    "print(hello, len(hello))"
   ]
  },
  {
   "cell_type": "code",
   "execution_count": null,
   "metadata": {
    "button": false,
    "collapsed": false,
    "deletable": true,
    "new_sheet": false,
    "run_control": {
     "read_only": false
    }
   },
   "outputs": [],
   "source": [
    "hw = hello + ' ' + world  # String concatenation\n",
    "print(hw)  # prints \"hello world\"\n"
   ]
  },
  {
   "cell_type": "markdown",
   "metadata": {
    "button": false,
    "deletable": true,
    "new_sheet": false,
    "run_control": {
     "read_only": false
    }
   },
   "source": [
    "Objetos String têm um monte de métodos úteis; por exemplo:"
   ]
  },
  {
   "cell_type": "code",
   "execution_count": null,
   "metadata": {
    "button": false,
    "collapsed": false,
    "deletable": true,
    "new_sheet": false,
    "run_control": {
     "read_only": false
    }
   },
   "outputs": [],
   "source": [
    "s = \"hello\"\n",
    "print(s.capitalize())  # Capitalize a string; prints \"Hello\"\n",
    "print(s.upper()     )  # Convert a string to uppercase; prints \"HELLO\"\n",
    "print(s.replace('l', '(ell)') ) # Replace all instances of one substring with another;                              "
   ]
  },
  {
   "cell_type": "markdown",
   "metadata": {
    "button": false,
    "deletable": true,
    "new_sheet": false,
    "run_control": {
     "read_only": false
    }
   },
   "source": [
    "Você pode encontrar uma lista de todos os métodos de seqüência de caracteres na [documentação](https://docs.python.org/3.5/library/stdtypes.html#string-methods)."
   ]
  },
  {
   "cell_type": "markdown",
   "metadata": {
    "button": false,
    "deletable": true,
    "new_sheet": false,
    "run_control": {
     "read_only": false
    }
   },
   "source": [
    "## Compostos"
   ]
  },
  {
   "cell_type": "markdown",
   "metadata": {
    "button": false,
    "deletable": true,
    "new_sheet": false,
    "run_control": {
     "read_only": false
    }
   },
   "source": [
    "O Python inclui vários tipos de compostos internos: listas, dicionários, conjuntos e tuplas.\n",
    "\n",
    "Neste curso nos concentraremos apenas nas listas. Se tiver mais curiosidades, procure a documentação"
   ]
  },
  {
   "cell_type": "markdown",
   "metadata": {
    "button": false,
    "deletable": true,
    "new_sheet": false,
    "run_control": {
     "read_only": false
    }
   },
   "source": [
    "### Listas"
   ]
  },
  {
   "cell_type": "code",
   "execution_count": null,
   "metadata": {
    "button": false,
    "collapsed": false,
    "deletable": true,
    "new_sheet": false,
    "run_control": {
     "read_only": false
    }
   },
   "outputs": [],
   "source": [
    "xs = [3, 1, 2]   # Create a list\n",
    "print(xs)\n",
    "print(xs[0]) #primeiro elemento -- A INDEXAÇÃO DAS LISTAS COMEÇA COM ZERO!!!\n",
    "print(xs[1])\n",
    "print(xs[2])"
   ]
  },
  {
   "cell_type": "markdown",
   "metadata": {
    "button": false,
    "deletable": true,
    "new_sheet": false,
    "run_control": {
     "read_only": false
    }
   },
   "source": [
    "os elementos também pode ser acessados em ordem reversa, utilizando o sinal negativo: "
   ]
  },
  {
   "cell_type": "code",
   "execution_count": null,
   "metadata": {
    "button": false,
    "collapsed": false,
    "deletable": true,
    "new_sheet": false,
    "run_control": {
     "read_only": false
    }
   },
   "outputs": [],
   "source": [
    "print(xs[-1])     # último elemento\n",
    "print(xs[-2])    # penúltimo elemento"
   ]
  },
  {
   "cell_type": "markdown",
   "metadata": {
    "button": false,
    "deletable": true,
    "new_sheet": false,
    "run_control": {
     "read_only": false
    }
   },
   "source": [
    "Adicionando elementos em uma lista existente, <span style=\"color:red\"> note que a podemos misturar números e strings em uma mesma lista! </span>"
   ]
  },
  {
   "cell_type": "code",
   "execution_count": null,
   "metadata": {
    "button": false,
    "collapsed": false,
    "deletable": true,
    "new_sheet": false,
    "run_control": {
     "read_only": false
    }
   },
   "outputs": [],
   "source": [
    "xs.append('bar') # Add a new element to the end of the list\n",
    "print(xs)"
   ]
  },
  {
   "cell_type": "markdown",
   "metadata": {
    "button": false,
    "deletable": true,
    "new_sheet": false,
    "run_control": {
     "read_only": false
    }
   },
   "source": [
    "Ou até mesmo adicionar uma lista como elemento da lista (<span style=\"color:red\">tipo Dream inside a dream</span>)"
   ]
  },
  {
   "cell_type": "code",
   "execution_count": null,
   "metadata": {
    "button": false,
    "collapsed": false,
    "deletable": true,
    "new_sheet": false,
    "run_control": {
     "read_only": false
    }
   },
   "outputs": [],
   "source": [
    "xs.append([5,6,7]) # Add a new element to the end of the list\n",
    "print(xs)\n",
    "print(xs[-1])"
   ]
  },
  {
   "cell_type": "markdown",
   "metadata": {
    "button": false,
    "deletable": true,
    "new_sheet": false,
    "run_control": {
     "read_only": false
    }
   },
   "source": [
    "### Recortando listas"
   ]
  },
  {
   "cell_type": "code",
   "execution_count": null,
   "metadata": {
    "button": false,
    "collapsed": false,
    "deletable": true,
    "new_sheet": false,
    "run_control": {
     "read_only": false
    }
   },
   "outputs": [],
   "source": [
    "nums = list(range(5))    # range é uma função do python que cria uma lista de inteiros\n",
    "print(nums    )# Prints \"[0, 1, 2, 3, 4]\"\n",
    "print(nums[2:4] )   # Get a slice from index 2 to 4 (exclusive); prints \"[2, 3]\"\n",
    "print(nums[2:]  )   # Get a slice from index 2 to the end; prints \"[2, 3, 4]\"\n",
    "print(nums[:2]  )   # Get a slice from the start to index 2 (exclusive); prints \"[0, 1]\"\n",
    "print(nums[:]   )   # Get a slice of the whole list; prints [\"0, 1, 2, 3, 4]\"\n",
    "print(nums[:-1] )   # Slice indices can be negative; prints [\"0, 1, 2, 3]\""
   ]
  },
  {
   "cell_type": "code",
   "execution_count": null,
   "metadata": {
    "button": false,
    "collapsed": false,
    "deletable": true,
    "new_sheet": false,
    "run_control": {
     "read_only": false
    }
   },
   "outputs": [],
   "source": [
    "nums[2:4] = [8, 9] # Atribui uma nova lista ao recorte\n",
    "print(nums ) # Prints \"[0, 1, 8, 8, 4]\""
   ]
  },
  {
   "cell_type": "markdown",
   "metadata": {
    "button": false,
    "deletable": true,
    "new_sheet": false,
    "run_control": {
     "read_only": false
    }
   },
   "source": [
    "<span style=\"color:red\">O uso de recortes é muito importante ao manipular dados, por exemplo, você deseja remover um ponto ruim do seu vetor de dados. </span>"
   ]
  },
  {
   "cell_type": "markdown",
   "metadata": {
    "button": false,
    "deletable": true,
    "new_sheet": false,
    "run_control": {
     "read_only": false
    }
   },
   "source": [
    "## Loops\n",
    "\n",
    "Loops são essenciais em qualquer programação, permitindo a automatização de operações repetidas. <span style=\"color:red\"> Preste atenção que, no Python, o início e o fim dos loops são determinados pela _identação_ do código</span>"
   ]
  },
  {
   "cell_type": "markdown",
   "metadata": {
    "button": false,
    "deletable": true,
    "new_sheet": false,
    "run_control": {
     "read_only": false
    }
   },
   "source": [
    "Funciona:"
   ]
  },
  {
   "cell_type": "code",
   "execution_count": null,
   "metadata": {
    "button": false,
    "collapsed": false,
    "deletable": true,
    "new_sheet": false,
    "run_control": {
     "read_only": false
    }
   },
   "outputs": [],
   "source": [
    "animals = ['cat', 'dog', 'monkey']\n",
    "for animal in animals:\n",
    "    print(animal)\n",
    "    print('não saiu do loop!')\n",
    "print('Agora sim saiu do loop!')"
   ]
  },
  {
   "cell_type": "markdown",
   "metadata": {
    "button": false,
    "deletable": true,
    "new_sheet": false,
    "run_control": {
     "read_only": false
    }
   },
   "source": [
    "Funciona:"
   ]
  },
  {
   "cell_type": "code",
   "execution_count": null,
   "metadata": {
    "button": false,
    "collapsed": false,
    "deletable": true,
    "new_sheet": false,
    "run_control": {
     "read_only": false
    }
   },
   "outputs": [],
   "source": [
    "animals = ['cat', 'dog', 'monkey']\n",
    "for animal in animals: print(animal),print('não saiu do loop!')\n",
    "print('Agora sim saiu do loop!')"
   ]
  },
  {
   "cell_type": "markdown",
   "metadata": {
    "button": false,
    "deletable": true,
    "new_sheet": false,
    "run_control": {
     "read_only": false
    }
   },
   "source": [
    "Não funciona, tente compreender a mensagem de erro!"
   ]
  },
  {
   "cell_type": "code",
   "execution_count": null,
   "metadata": {
    "button": false,
    "collapsed": false,
    "deletable": true,
    "new_sheet": false,
    "run_control": {
     "read_only": false
    }
   },
   "outputs": [],
   "source": [
    "animals = ['cat', 'dog', 'monkey']\n",
    "for animal in animals:\n",
    "print(animal)"
   ]
  },
  {
   "cell_type": "markdown",
   "metadata": {
    "button": false,
    "deletable": true,
    "new_sheet": false,
    "run_control": {
     "read_only": false
    }
   },
   "source": [
    "Ao programar, freqüentemente queremos transformar um tipo de dados em outro. Como um exemplo simples, considere o seguinte código que calcula números quadrados:\n",
    "\n",
    "Abaixo começamos com um vetor `squares` vazio e acumulamos os resultados de um `for` neste vetor:"
   ]
  },
  {
   "cell_type": "code",
   "execution_count": null,
   "metadata": {
    "button": false,
    "collapsed": false,
    "deletable": true,
    "new_sheet": false,
    "run_control": {
     "read_only": false
    },
    "scrolled": true
   },
   "outputs": [],
   "source": [
    "nums = [0, 1, 2, 3, 4]\n",
    "squares = []\n",
    "for x in nums:\n",
    "    squares.append(x ** 2)\n",
    "print(squares)"
   ]
  },
  {
   "cell_type": "markdown",
   "metadata": {
    "button": false,
    "deletable": true,
    "new_sheet": false,
    "run_control": {
     "read_only": false
    }
   },
   "source": [
    "## Funções"
   ]
  },
  {
   "cell_type": "markdown",
   "metadata": {
    "button": false,
    "deletable": true,
    "new_sheet": false,
    "run_control": {
     "read_only": false
    }
   },
   "source": [
    "Função é uma construção muito importante para processar dados, no  python isto é feito através da palavra `def`"
   ]
  },
  {
   "cell_type": "code",
   "execution_count": null,
   "metadata": {
    "button": false,
    "collapsed": false,
    "deletable": true,
    "new_sheet": false,
    "run_control": {
     "read_only": false
    }
   },
   "outputs": [],
   "source": [
    "#---------------------\n",
    "#função para indicar se um número é positivo ou negativo\n",
    "#---------------------\n",
    "def sign(x):\n",
    "    if x > 0:\n",
    "        return 'positivo'\n",
    "    elif x < 0:\n",
    "        return 'negativo'\n",
    "    else:\n",
    "        return 'zero'\n",
    "#---------------------\n",
    "#fim da função \n",
    "#---------------------\n",
    "#testando a função\n",
    "print(sign(3))\n",
    "#teste mais completo\n",
    "for x in range(-2,2):\n",
    "    print(x,sign(x))"
   ]
  },
  {
   "cell_type": "markdown",
   "metadata": {
    "button": false,
    "deletable": true,
    "new_sheet": false,
    "run_control": {
     "read_only": false
    }
   },
   "source": [
    "# <span style=\"color:blue\">  Introdução ao _Numpy_ </span>"
   ]
  },
  {
   "cell_type": "markdown",
   "metadata": {
    "button": false,
    "deletable": true,
    "new_sheet": false,
    "run_control": {
     "read_only": false
    }
   },
   "source": [
    "Utilizaremos a biblioteca _Numpy_ para implementar as funções matemáticas e operações com vetores e matrizes necessárias. Para evitar possíveis conflitos com outras bibliotecas, importaremos todos as funções do Numpy com o prefixo `np.`"
   ]
  },
  {
   "cell_type": "code",
   "execution_count": null,
   "metadata": {
    "button": false,
    "collapsed": true,
    "deletable": true,
    "new_sheet": false,
    "run_control": {
     "read_only": false
    }
   },
   "outputs": [],
   "source": [
    "import numpy as np"
   ]
  },
  {
   "cell_type": "markdown",
   "metadata": {
    "button": false,
    "collapsed": true,
    "deletable": true,
    "new_sheet": false,
    "run_control": {
     "read_only": false
    }
   },
   "source": [
    "## Matrizes"
   ]
  },
  {
   "cell_type": "markdown",
   "metadata": {
    "button": false,
    "deletable": true,
    "new_sheet": false,
    "run_control": {
     "read_only": false
    }
   },
   "source": [
    "Uma matriz numpy é uma grade de valores, todos do mesmo tipo, e é indexada por uma tupla de inteiros não negativos. O número de dimensões é o grau da matriz; A forma de uma matriz é uma tupla de inteiros que dão o tamanho da matriz ao longo de cada dimensão.\n",
    "Podemos inicializar matrizes numpy de listas de Python aninhadas e acessar elementos usando colchetes:"
   ]
  },
  {
   "cell_type": "code",
   "execution_count": null,
   "metadata": {
    "button": false,
    "collapsed": false,
    "deletable": true,
    "new_sheet": false,
    "run_control": {
     "read_only": false
    }
   },
   "outputs": [],
   "source": [
    "a = np.array([1, 2, 3])  # Cria matriz (tensor) de rank-1 ou um vetor\n",
    "print(type(a), a.shape, a[0], a[1], a[2])\n",
    "a[0] = 5                 # Change an element of the array\n",
    "print(a)\n",
    "#dimensões da matriz:\n",
    "print(a.shape)"
   ]
  },
  {
   "cell_type": "code",
   "execution_count": null,
   "metadata": {
    "button": false,
    "collapsed": false,
    "deletable": true,
    "new_sheet": false,
    "run_control": {
     "read_only": false
    }
   },
   "outputs": [],
   "source": [
    "b = np.array([[1,2,3],[4,5,6]])   # Cria matriz (tensor) de rank-2 ou uma matriz\n",
    "print(b)"
   ]
  },
  {
   "cell_type": "code",
   "execution_count": null,
   "metadata": {
    "button": false,
    "collapsed": false,
    "deletable": true,
    "new_sheet": false,
    "run_control": {
     "read_only": false
    }
   },
   "outputs": [],
   "source": [
    "#dimensões da matriz:\n",
    "print(b.shape)\n",
    "#extraindo elementos\n",
    "print(b[0, 0])\n",
    "print(b[0, 1])\n",
    "print(b[1, 0])"
   ]
  },
  {
   "cell_type": "markdown",
   "metadata": {
    "button": false,
    "deletable": true,
    "new_sheet": false,
    "run_control": {
     "read_only": false
    }
   },
   "source": [
    "Numpy também fornece muitas funções para criar matrizes:"
   ]
  },
  {
   "cell_type": "code",
   "execution_count": null,
   "metadata": {
    "button": false,
    "collapsed": false,
    "deletable": true,
    "new_sheet": false,
    "run_control": {
     "read_only": false
    }
   },
   "outputs": [],
   "source": [
    "a = np.zeros((2,2))  # Create an array of all zeros\n",
    "print(a)"
   ]
  },
  {
   "cell_type": "code",
   "execution_count": null,
   "metadata": {
    "button": false,
    "collapsed": false,
    "deletable": true,
    "new_sheet": false,
    "run_control": {
     "read_only": false
    }
   },
   "outputs": [],
   "source": [
    "b = np.ones((1,2))   # Create an array of all ones\n",
    "print(b)"
   ]
  },
  {
   "cell_type": "code",
   "execution_count": null,
   "metadata": {
    "button": false,
    "collapsed": false,
    "deletable": true,
    "new_sheet": false,
    "run_control": {
     "read_only": false
    }
   },
   "outputs": [],
   "source": [
    "c = np.full((2,2), 7) # Create a constant array\n",
    "print(c)"
   ]
  },
  {
   "cell_type": "code",
   "execution_count": null,
   "metadata": {
    "button": false,
    "collapsed": false,
    "deletable": true,
    "new_sheet": false,
    "run_control": {
     "read_only": false
    }
   },
   "outputs": [],
   "source": [
    "d = np.eye(2)        # Create a 2x2 identity matrix\n",
    "print(d)"
   ]
  },
  {
   "cell_type": "code",
   "execution_count": null,
   "metadata": {
    "button": false,
    "collapsed": false,
    "deletable": true,
    "new_sheet": false,
    "run_control": {
     "read_only": false
    }
   },
   "outputs": [],
   "source": [
    "e = np.random.random((2,2)) # Create an array filled with random values\n",
    "print(e)"
   ]
  },
  {
   "cell_type": "markdown",
   "metadata": {
    "button": false,
    "deletable": true,
    "new_sheet": false,
    "run_control": {
     "read_only": false
    }
   },
   "source": [
    "### Indexação de matrizes"
   ]
  },
  {
   "cell_type": "code",
   "execution_count": null,
   "metadata": {
    "button": false,
    "collapsed": false,
    "deletable": true,
    "new_sheet": false,
    "run_control": {
     "read_only": false
    }
   },
   "outputs": [],
   "source": [
    "# Create the following rank 2 array with shape (3, 4)\n",
    "# [[ 1  2  3  4]\n",
    "#  [ 5  6  7  8]\n",
    "#  [ 9 10 11 12]]\n",
    "a = np.array([[1,2,3,4], [5,6,7,8], [9,10,11,12]])\n",
    "\n",
    "# Use slicing to pull out the subarray consisting of the first 2 rows\n",
    "# and columns 1 and 2; b is the following array of shape (2, 2):\n",
    "# [[2 3]\n",
    "#  [6 7]]\n",
    "b = a[:2, 1:3]\n",
    "print(b)"
   ]
  },
  {
   "cell_type": "markdown",
   "metadata": {
    "button": false,
    "deletable": true,
    "new_sheet": false,
    "run_control": {
     "read_only": false
    }
   },
   "source": [
    "\n",
    "Duas formas de acessar os dados na linha do meio da matriz. A indexação inteira de mistura com fatias produz uma matriz de menor classificação, enquanto usando somente fatias produz uma matriz da mesma classificação que a matriz original:"
   ]
  },
  {
   "cell_type": "code",
   "execution_count": null,
   "metadata": {
    "button": false,
    "collapsed": false,
    "deletable": true,
    "new_sheet": false,
    "run_control": {
     "read_only": false
    }
   },
   "outputs": [],
   "source": [
    "row_r1 = a[1, :]    # Rank 1 view of the second row of a  \n",
    "row_r2 = a[1:2, :]  # Rank 2 view of the second row of a\n",
    "row_r3 = a[[1], :]  # Rank 2 view of the second row of a\n",
    "print(row_r1, row_r1.shape)\n",
    "print(row_r2, row_r2.shape)\n",
    "print(row_r3, row_r3.shape)"
   ]
  },
  {
   "cell_type": "code",
   "execution_count": null,
   "metadata": {
    "button": false,
    "collapsed": false,
    "deletable": true,
    "new_sheet": false,
    "run_control": {
     "read_only": false
    }
   },
   "outputs": [],
   "source": [
    "# We can make the same distinction when accessing columns of an array:\n",
    "col_r1 = a[:, 1]\n",
    "col_r2 = a[:, 1:2]\n",
    "print(col_r1, col_r1.shape)\n",
    "print()\n",
    "print(col_r2, col_r2.shape)"
   ]
  },
  {
   "cell_type": "code",
   "execution_count": null,
   "metadata": {
    "button": false,
    "collapsed": false,
    "deletable": true,
    "new_sheet": false,
    "run_control": {
     "read_only": false
    }
   },
   "outputs": [],
   "source": [
    "a = np.array([[1,2], [3, 4], [5, 6]])\n",
    "print(a)\n",
    "\n",
    "# An example of integer array indexing.\n",
    "# The returned array will have shape (3,) and \n",
    "print(a[[0, 1, 2], [0, 1, 0]])\n",
    "\n",
    "# The above example of integer array indexing is equivalent to this:\n",
    "print(np.array([a[0, 0], a[1, 1], a[2, 0]]))"
   ]
  },
  {
   "cell_type": "markdown",
   "metadata": {
    "button": false,
    "deletable": true,
    "new_sheet": false,
    "run_control": {
     "read_only": false
    }
   },
   "source": [
    "### Filtrando uma matriz"
   ]
  },
  {
   "cell_type": "code",
   "execution_count": null,
   "metadata": {
    "button": false,
    "collapsed": false,
    "deletable": true,
    "new_sheet": false,
    "run_control": {
     "read_only": false
    }
   },
   "outputs": [],
   "source": [
    "a = np.array([[1,2], [3, 4], [5, 6]])\n",
    "\n",
    "bool_idx = (a > 2)  # Find the elements of a that are bigger than 2;\n",
    "                    # this returns a numpy array of Booleans of the same\n",
    "                    # shape as a, where each slot of bool_idx tells\n",
    "                    # whether that element of a is > 2.\n",
    "\n",
    "print(bool_idx)"
   ]
  },
  {
   "cell_type": "code",
   "execution_count": null,
   "metadata": {
    "button": false,
    "collapsed": false,
    "deletable": true,
    "new_sheet": false,
    "run_control": {
     "read_only": false
    }
   },
   "outputs": [],
   "source": [
    "# We use boolean array indexing to construct a rank 1 array\n",
    "# consisting of the elements of a corresponding to the True values\n",
    "# of bool_idx\n",
    "print(a[bool_idx])\n",
    "\n",
    "# We can do all of the above in a single concise statement:\n",
    "print(a[a > 2])"
   ]
  },
  {
   "cell_type": "markdown",
   "metadata": {
    "button": false,
    "deletable": true,
    "new_sheet": false,
    "run_control": {
     "read_only": false
    }
   },
   "source": [
    "### Matemática com as matrizes\n",
    "\n",
    "\n",
    "Funções matemáticas básicas operam elementwise em arrays, e estão disponíveis tanto como sobrecargas do operador como como funções no módulo numpy:"
   ]
  },
  {
   "cell_type": "code",
   "execution_count": null,
   "metadata": {
    "button": false,
    "collapsed": false,
    "deletable": true,
    "new_sheet": false,
    "run_control": {
     "read_only": false
    }
   },
   "outputs": [],
   "source": [
    "x = np.array([[1,2],[3,4]])\n",
    "y = np.array([[5,6],[7,8]])\n",
    "\n",
    "# Elementwise sum; both produce the array\n",
    "print(x + y)\n",
    "print(np.add(x, y))"
   ]
  },
  {
   "cell_type": "code",
   "execution_count": null,
   "metadata": {
    "button": false,
    "collapsed": false,
    "deletable": true,
    "new_sheet": false,
    "run_control": {
     "read_only": false
    }
   },
   "outputs": [],
   "source": [
    "# Elementwise difference; both produce the array\n",
    "print(x - y)\n",
    "print(np.subtract(x, y))"
   ]
  },
  {
   "cell_type": "code",
   "execution_count": null,
   "metadata": {
    "button": false,
    "collapsed": false,
    "deletable": true,
    "new_sheet": false,
    "run_control": {
     "read_only": false
    }
   },
   "outputs": [],
   "source": [
    "# Elementwise product; both produce the array\n",
    "print(x * y)\n",
    "print(np.multiply(x, y))"
   ]
  },
  {
   "cell_type": "code",
   "execution_count": null,
   "metadata": {
    "button": false,
    "collapsed": false,
    "deletable": true,
    "new_sheet": false,
    "run_control": {
     "read_only": false
    }
   },
   "outputs": [],
   "source": [
    "# Elementwise division; both produce the array\n",
    "# [[ 0.2         0.33333333]\n",
    "#  [ 0.42857143  0.5       ]]\n",
    "print(x / y)\n",
    "print(np.divide(x, y))"
   ]
  },
  {
   "cell_type": "code",
   "execution_count": null,
   "metadata": {
    "button": false,
    "collapsed": false,
    "deletable": true,
    "new_sheet": false,
    "run_control": {
     "read_only": false
    }
   },
   "outputs": [],
   "source": [
    "# Elementwise square root; produces the array\n",
    "# [[ 1.          1.41421356]\n",
    "#  [ 1.73205081  2.        ]]\n",
    "print(np.sqrt(x))"
   ]
  },
  {
   "cell_type": "markdown",
   "metadata": {
    "button": false,
    "deletable": true,
    "new_sheet": false,
    "run_control": {
     "read_only": false
    }
   },
   "source": [
    "Note que ao contrário de MATLAB, * é multiplicação elementar, não multiplicação matricial. Em vez disso, usamos a função dot para calcular produtos internos de vetores, multiplicar um vetor por matriz e multiplicar matrizes. Dot está disponível como uma função no módulo numpy e como um método de instância de objetos de matriz:"
   ]
  },
  {
   "cell_type": "code",
   "execution_count": null,
   "metadata": {
    "button": false,
    "collapsed": false,
    "deletable": true,
    "new_sheet": false,
    "run_control": {
     "read_only": false
    }
   },
   "outputs": [],
   "source": [
    "x = np.array([[1,2],[3,4]])\n",
    "y = np.array([[5,6],[7,8]])\n",
    "\n",
    "v = np.array([9,10])\n",
    "w = np.array([11, 12])\n",
    "\n",
    "# Inner product of vectors; both produce 219\n",
    "print(v.dot(w))\n",
    "print(np.dot(v, w))"
   ]
  },
  {
   "cell_type": "code",
   "execution_count": null,
   "metadata": {
    "button": false,
    "collapsed": false,
    "deletable": true,
    "new_sheet": false,
    "run_control": {
     "read_only": false
    }
   },
   "outputs": [],
   "source": [
    "# Matrix / vector product; both produce the rank 1 array [29 67]\n",
    "print(x.dot(v))\n",
    "print(np.dot(x, v))"
   ]
  },
  {
   "cell_type": "code",
   "execution_count": null,
   "metadata": {
    "button": false,
    "collapsed": false,
    "deletable": true,
    "new_sheet": false,
    "run_control": {
     "read_only": false
    }
   },
   "outputs": [],
   "source": [
    "# Matrix / matrix product; both produce the rank 2 array\n",
    "# [[19 22]\n",
    "#  [43 50]]\n",
    "print(x.dot(y))\n",
    "print(np.dot(x, y))"
   ]
  },
  {
   "cell_type": "markdown",
   "metadata": {
    "button": false,
    "deletable": true,
    "new_sheet": false,
    "run_control": {
     "read_only": false
    }
   },
   "source": [
    "Numpy fornece muitas funções úteis para executar computações em arrays; Um dos mais úteis é a soma:"
   ]
  },
  {
   "cell_type": "code",
   "execution_count": null,
   "metadata": {
    "button": false,
    "collapsed": false,
    "deletable": true,
    "new_sheet": false,
    "run_control": {
     "read_only": false
    }
   },
   "outputs": [],
   "source": [
    "x = np.array([[1,2],[3,4]])\n",
    "\n",
    "print(np.sum(x))  # Calcula a soma de todos elementos; prints \"10\"\n",
    "print(np.sum(x, axis=0))  # Calcula a soma de cada coluna; prints \"[4 6]\"\n",
    "print(np.sum(x, axis=1))  # Calcula a soma de cada linha; prints \"[3 7]\""
   ]
  },
  {
   "cell_type": "markdown",
   "metadata": {
    "button": false,
    "deletable": true,
    "new_sheet": false,
    "run_control": {
     "read_only": false
    }
   },
   "source": [
    "Numpy operações bem gerais com matrizes. Por exemplo, suponha que queremos adicionar um vetor constante a cada linha de uma matriz. Poderíamos fazê-lo assim:"
   ]
  },
  {
   "cell_type": "code",
   "execution_count": null,
   "metadata": {
    "button": false,
    "collapsed": false,
    "deletable": true,
    "new_sheet": false,
    "run_control": {
     "read_only": false
    }
   },
   "outputs": [],
   "source": [
    "# Iremos adicionar o vetor v a cada linha da matriz x\n",
    "# e armazenar o resultado na matriz y\n",
    "x = np.array([[1,2,3], [4,5,6], [7,8,9], [10, 11, 12]])\n",
    "v = np.array([1, 0, 1])\n",
    "print('x=',x)\n",
    "print('v=',v)\n",
    "y = x + v  # Add v to each row of x using broadcasting\n",
    "print('y=x+v=',y)"
   ]
  },
  {
   "cell_type": "markdown",
   "metadata": {
    "button": false,
    "deletable": true,
    "new_sheet": false,
    "run_control": {
     "read_only": false
    }
   },
   "source": [
    "A linha y = x + v funciona mesmo que x tenha forma (4, 3) e v tenha forma (3,) devido à difusão; Esta linha funciona como se v tivesse realmente forma (4, 3), onde cada linha era uma cópia de v, e a soma era realizada elementwise."
   ]
  },
  {
   "cell_type": "markdown",
   "metadata": {
    "button": false,
    "deletable": true,
    "new_sheet": false,
    "run_control": {
     "read_only": false
    }
   },
   "source": [
    "---"
   ]
  },
  {
   "cell_type": "markdown",
   "metadata": {
    "button": false,
    "deletable": true,
    "new_sheet": false,
    "run_control": {
     "read_only": false
    }
   },
   "source": [
    "# <span style=\"color:blue\">3. Introdução  _Matplotlib_</span>"
   ]
  },
  {
   "cell_type": "markdown",
   "metadata": {
    "button": false,
    "deletable": true,
    "new_sheet": false,
    "run_control": {
     "read_only": false
    }
   },
   "source": [
    "Outra biblioteca que usaremos extensivamente é a _Matplotlib_, voltada para criação de gráficos. Apesar de existirem outras bibliotecas para gerar gráficos, _Matplotlib_ é a mais popular e bastante completa; de fato, diversas outras bibliotecas são baseadas nesta."
   ]
  },
  {
   "cell_type": "markdown",
   "metadata": {
    "button": false,
    "deletable": true,
    "new_sheet": false,
    "run_control": {
     "read_only": false
    }
   },
   "source": [
    "## Gráficos\n",
    "\n",
    "Uma das maiores vantagens do formato de notebook é que você pode\n",
    "Mix código e parcelas.\n",
    "\n",
    "Neste exemplo, vamos desenhar algumas funções matemáticas simples usando `matplotlib`"
   ]
  },
  {
   "cell_type": "markdown",
   "metadata": {
    "button": false,
    "deletable": true,
    "new_sheet": false,
    "run_control": {
     "read_only": false
    }
   },
   "source": [
    "## Configuração\n",
    "\n",
    "A primeira coisa que você precisa fazer é dizer ao kernel que você gostaria de usar\n",
    "Matplotlib para fazer parcelas.\n",
    "\n",
    "Você faz isso usando a invocação mágica:\n",
    "\n",
    "    % Matplotlib inline\n",
    "\n",
    "A opção `inline` significa que as parcelas aparecerão diretamente na célula de saída\n",
    "Do notebook. Mais adiante neste bloco de notas tentaremos outras opções."
   ]
  },
  {
   "cell_type": "code",
   "execution_count": null,
   "metadata": {
    "button": false,
    "collapsed": true,
    "deletable": true,
    "new_sheet": false,
    "run_control": {
     "read_only": false
    }
   },
   "outputs": [],
   "source": [
    "%matplotlib inline"
   ]
  },
  {
   "cell_type": "markdown",
   "metadata": {
    "button": false,
    "deletable": true,
    "new_sheet": false,
    "run_control": {
     "read_only": false
    }
   },
   "source": [
    "##  Desenhando um gráfico\n",
    "\n",
    "Em seguida, desenharemos um gráfico usando os comandos padrão matplotlib. Use o módulo `pyplot` que tem uma interface semelhante ao MATLAB e Octave\n",
    "para traçar.\n",
    "\n",
    "Veja a página oficial [matplotlib] (http://matplotlib.org/) para obter documentação sobre matplotlib e exemplos."
   ]
  },
  {
   "cell_type": "code",
   "execution_count": null,
   "metadata": {
    "button": false,
    "collapsed": false,
    "deletable": true,
    "new_sheet": false,
    "run_control": {
     "read_only": false
    }
   },
   "outputs": [],
   "source": [
    "from matplotlib import pyplot as plt\n",
    "\n",
    "x = [1, 2, 3]\n",
    "y = [2, 4, 3]\n",
    "plt.plot(x, y);"
   ]
  },
  {
   "cell_type": "markdown",
   "metadata": {
    "button": false,
    "deletable": true,
    "new_sheet": false,
    "run_control": {
     "read_only": false
    }
   },
   "source": [
    "## Gráfico mais bonito\n",
    "\n",
    "Matplotlib tem muitas opções para fazer parcelas bonitas. Aqui está um exemplo\n",
    "De um oscilador amortecido simulado. Neste exemplo, estamos usando `numpy` para gerar e acompanhar os dados numéricos.\n",
    "\n",
    "Demo source:\n",
    "Http://matplotlib.org/users/screenshots.html"
   ]
  },
  {
   "cell_type": "code",
   "execution_count": null,
   "metadata": {
    "button": false,
    "collapsed": false,
    "deletable": true,
    "new_sheet": false,
    "run_control": {
     "read_only": false
    }
   },
   "outputs": [],
   "source": [
    "\"\"\"\n",
    "Demonstração simples com  múltiplos subgráficos.\n",
    "\"\"\"\n",
    "import matplotlib.pyplot as plt\n",
    "\n",
    "\n",
    "x1 = np.linspace(0.0, 5.0)\n",
    "x2 = np.linspace(0.0, 2.0)\n",
    "\n",
    "y1 = np.cos(2 * np.pi * x1) * np.exp(-x1)\n",
    "y2 = np.cos(2 * np.pi * x2)\n",
    "\n",
    "plt.subplot(2, 1, 1)\n",
    "plt.plot(x1, y1, 'yo-') # usa círculos para os pontos e linhas os conectando\n",
    "plt.title('Dois subgráficos')\n",
    "plt.ylabel('Oscilação amortecida')\n",
    "\n",
    "plt.subplot(2, 1, 2)\n",
    "plt.plot(x2, y2, 'r.-') # usa pontos para os pontos e linhas os conectando\n",
    "plt.xlabel('tempo (s)')\n",
    "plt.ylabel('Não amortecida')\n",
    "plt.show()"
   ]
  },
  {
   "cell_type": "markdown",
   "metadata": {
    "button": false,
    "deletable": true,
    "new_sheet": false,
    "run_control": {
     "read_only": false
    }
   },
   "source": [
    "Tarefa: \n",
    "* tente alterar os parâmetros das funções acima\n",
    "* crie um arranjo gráfico com 1 linha e 2 colunas"
   ]
  },
  {
   "cell_type": "markdown",
   "metadata": {
    "button": false,
    "deletable": true,
    "new_sheet": false,
    "run_control": {
     "read_only": false
    }
   },
   "source": [
    "## Tamanho\n",
    "\n",
    "Para alterar o tamanho dos gráficos você pode usar o matplotlib regular\n",
    "Comandos. Aqui está um pequeno enredo de coseno."
   ]
  },
  {
   "cell_type": "code",
   "execution_count": null,
   "metadata": {
    "button": false,
    "collapsed": false,
    "deletable": true,
    "new_sheet": false,
    "run_control": {
     "read_only": false
    }
   },
   "outputs": [],
   "source": [
    "\"\"\"\n",
    "Gráfico reduzido\n",
    "\"\"\"\n",
    "import numpy as np\n",
    "from matplotlib import pyplot as plt\n",
    "\n",
    "x = np.linspace(0, 10)\n",
    "y = np.cos(x)\n",
    "plt.figure(figsize=(2, 2))\n",
    "plt.plot(x, y);"
   ]
  },
  {
   "cell_type": "code",
   "execution_count": null,
   "metadata": {
    "button": false,
    "collapsed": false,
    "deletable": true,
    "new_sheet": false,
    "run_control": {
     "read_only": false
    }
   },
   "outputs": [],
   "source": [
    "\"\"\"\n",
    "Gráfico grande.\n",
    "\"\"\"\n",
    "import numpy as np\n",
    "from matplotlib import pyplot as plt\n",
    "\n",
    "x = np.linspace(0, 10)\n",
    "y = np.cos(x)\n",
    "plt.figure(figsize=(10, 10))\n",
    "plt.plot(x, y);"
   ]
  },
  {
   "cell_type": "markdown",
   "metadata": {
    "button": false,
    "deletable": true,
    "new_sheet": false,
    "run_control": {
     "read_only": false
    }
   },
   "source": [
    "# <span style=\"color:blue\"> 4. Interface com os instrumentos</span>"
   ]
  },
  {
   "cell_type": "markdown",
   "metadata": {
    "button": false,
    "deletable": true,
    "new_sheet": false,
    "run_control": {
     "read_only": false
    }
   },
   "source": [
    "__Antes de prosseguir com este tutorial, conecte os dois canais do gerador de funções ao osciloscópio.__\n",
    "\n",
    "Abaixo importamos todas as bibliotecas necessárias para o restante deste tutorial.\n",
    "\n",
    "<span style=\"color:red\">Caso aconteça algum erro de comunicação, uma receita que costuma resolver qualquer problema é</span>:\n",
    "\n",
    " 1) reinicie o Kernel do _Jupyter_;\n",
    " \n",
    " 2) execute a novamente a célula abaixo, recarregando todas as bibliotecas;\n",
    " \n",
    " 3) e execute todas as celulas (a partir da próxima), até chegar na célula na qual você teve problema;\n",
    " \n",
    " 4) caso o problema persista, "
   ]
  },
  {
   "cell_type": "code",
   "execution_count": null,
   "metadata": {
    "button": false,
    "collapsed": true,
    "deletable": true,
    "new_sheet": false,
    "run_control": {
     "read_only": false
    }
   },
   "outputs": [],
   "source": [
    "import pylef   # importar pylef \n",
    "import visa    # importar a bilioteca pyVISA para lidar com virtualização de instrumentos\n",
    "import matplotlib.pyplot as plt  # importar a bilioteca pyplot para fazer gráficos\n",
    "import numpy as np   # importar a biblioteca Numpy para lidar com matrizes\n",
    "import time          # importar a bilioteca para funções temporais\n",
    "import pandas as pd   # importa bilioteca pandas para  lidar com processamento de dados\n",
    "# próxima linha faz plotar o gráfico dentro do notebook\n",
    "%matplotlib inline"
   ]
  },
  {
   "cell_type": "markdown",
   "metadata": {
    "button": false,
    "deletable": true,
    "new_sheet": false,
    "run_control": {
     "read_only": false
    }
   },
   "source": [
    "Verificando a conexão com os instrumentos (feita através da biblioteca PyVISA - Virtual Instrument), após a execução da próxima célula, deverá aparecer algo como\n",
    "``('USB0::0x0699::0x03B0::C011184::INSTR',``\n",
    "``'USB0::0xF4ED::0xEE3A::389K15136::INSTR')``\n",
    "\n",
    "O posfixo ``::INSTR`` é um indicador de instrumento, você deve ter dois, um representa o osciloscópio (Tektronix), o outro representa o gerador de funções (BK instruments)"
   ]
  },
  {
   "cell_type": "code",
   "execution_count": null,
   "metadata": {
    "button": false,
    "collapsed": false,
    "deletable": true,
    "new_sheet": false,
    "run_control": {
     "read_only": false
    },
    "scrolled": true
   },
   "outputs": [],
   "source": [
    "# imprime os recursos para ter certeza que os instrumentos estão conectados\n",
    "visa.ResourceManager().list_resources()"
   ]
  },
  {
   "cell_type": "markdown",
   "metadata": {
    "button": false,
    "deletable": true,
    "new_sheet": false,
    "run_control": {
     "read_only": false
    }
   },
   "source": [
    "## Gerador de funções"
   ]
  },
  {
   "cell_type": "markdown",
   "metadata": {
    "run_control": {}
   },
   "source": [
    "Após o comando abaixo, deverás receber uma mensagem do tipo:\n",
    "\n",
    "``Gerador de Funções conectado! Id = *IDN BK Precision,SDG1010,389K15136,1.01.01.37R5,04-00-00-23-28``,\n",
    "\n",
    "caso não receba, reconecte os cabos USB."
   ]
  },
  {
   "cell_type": "code",
   "execution_count": null,
   "metadata": {
    "button": false,
    "collapsed": false,
    "deletable": true,
    "new_sheet": false,
    "run_control": {
     "read_only": false
    }
   },
   "outputs": [],
   "source": [
    "func_gen = pylef.BK4052()          # definição do gerador de funções"
   ]
  },
  {
   "cell_type": "code",
   "execution_count": null,
   "metadata": {
    "button": false,
    "collapsed": true,
    "deletable": true,
    "new_sheet": false,
    "run_control": {
     "read_only": false
    }
   },
   "outputs": [],
   "source": [
    "# imprime ajuda para o gerador de funções\n",
    "?func_gen"
   ]
  },
  {
   "cell_type": "markdown",
   "metadata": {
    "button": false,
    "deletable": true,
    "new_sheet": false,
    "run_control": {
     "read_only": false
    }
   },
   "source": [
    "### informações sobre o gerador de fuções\n"
   ]
  },
  {
   "cell_type": "code",
   "execution_count": null,
   "metadata": {
    "button": false,
    "collapsed": false,
    "deletable": true,
    "new_sheet": false,
    "run_control": {
     "read_only": false
    }
   },
   "outputs": [],
   "source": [
    "print(func_gen.ch1.wave_info())   # informações sobre a função no canal 1\n",
    "print(func_gen.ch2.wave_info())  # informações sobre a função no canal 2"
   ]
  },
  {
   "cell_type": "markdown",
   "metadata": {
    "button": false,
    "collapsed": true,
    "deletable": true,
    "new_sheet": false,
    "run_control": {
     "read_only": false
    }
   },
   "source": [
    "<span style=\"color:red\">Tarefa</span>: Altere alguma propriedade do canal manualmente e verifique se entendes o comando acima. Para fazer isto, crie uma nova célula pressionando o símbolo $+$ na barra de opções do _Jupyter_."
   ]
  },
  {
   "cell_type": "code",
   "execution_count": null,
   "metadata": {
    "button": false,
    "collapsed": false,
    "deletable": true,
    "new_sheet": false,
    "run_control": {
     "read_only": false
    }
   },
   "outputs": [],
   "source": [
    "# checar se o canal está ligado\n",
    "print(func_gen.ch1.state())  # checa se o canal está ligado ou desligado\n",
    "func_gen.ch1.turn_on()    # liga o canal 1\n",
    "print(func_gen.ch1.state())  # checa se o canal está ligado ou desligado"
   ]
  },
  {
   "cell_type": "code",
   "execution_count": null,
   "metadata": {
    "button": false,
    "collapsed": true,
    "deletable": true,
    "new_sheet": false,
    "run_control": {
     "read_only": false
    }
   },
   "outputs": [],
   "source": [
    "func_gen.ch2.turn_on() # liga o canal 2"
   ]
  },
  {
   "cell_type": "code",
   "execution_count": null,
   "metadata": {
    "button": false,
    "collapsed": true,
    "deletable": true,
    "new_sheet": false,
    "run_control": {
     "read_only": false
    }
   },
   "outputs": [],
   "source": [
    "#tempo para aguardar entre cada comando enviado\n",
    "wait = 0.5 #tempo em segundos\n",
    "### vamos colocar a onda que queremos\n",
    "freq = 200.0 # frequência de 100 Hz\n",
    "Vpp = 1.0    # voltagem pico-a-pico de 2 V\n",
    "offset = 0.0  # offset zero\n",
    "tipo = 'sine'   # tipo da forma de onda (em inglês)\n",
    "### enviar comando \n",
    "func_gen.ch1.set_function(tipo)\n",
    "time.sleep(wait) # aguarda\n",
    "func_gen.ch1.set_frequency(freq) \n",
    "time.sleep(wait) # aguarda\n",
    "func_gen.ch1.set_Vpp(Vpp)\n",
    "time.sleep(wait) # aguarda\n",
    "func_gen.ch1.set_offset(offset)"
   ]
  },
  {
   "cell_type": "markdown",
   "metadata": {
    "button": false,
    "deletable": true,
    "new_sheet": false,
    "run_control": {
     "read_only": false
    }
   },
   "source": [
    "<span style=\"color:red\">Tarefa</span>: Crie um código similar ao superior para ajustar as propriedades do canal 2"
   ]
  },
  {
   "cell_type": "code",
   "execution_count": null,
   "metadata": {
    "button": false,
    "collapsed": false,
    "deletable": true,
    "new_sheet": false,
    "run_control": {
     "read_only": false
    }
   },
   "outputs": [],
   "source": [
    "# Quais tipos de onda podemos ter?\n",
    "func_gen.ch1.functions"
   ]
  },
  {
   "cell_type": "code",
   "execution_count": null,
   "metadata": {
    "button": false,
    "collapsed": false,
    "deletable": true,
    "new_sheet": false,
    "run_control": {
     "read_only": false
    }
   },
   "outputs": [],
   "source": [
    "# é vital usar uma das strings acima, caso contrário ocorrerá um erro:\n",
    "#ajusta para onda triangular?\n",
    "func_gen.ch1.set_function('tamp')"
   ]
  },
  {
   "cell_type": "markdown",
   "metadata": {
    "run_control": {}
   },
   "source": [
    "<span style=\"color:red\">Ops, deu errado! Leia a mensagem de erro!! Achou o erro?</span>"
   ]
  },
  {
   "cell_type": "code",
   "execution_count": null,
   "metadata": {
    "button": false,
    "collapsed": false,
    "deletable": true,
    "new_sheet": false,
    "run_control": {
     "read_only": false
    }
   },
   "outputs": [],
   "source": [
    "func_gen.ch1.set_function('square')"
   ]
  },
  {
   "cell_type": "code",
   "execution_count": null,
   "metadata": {
    "button": false,
    "collapsed": false,
    "deletable": true,
    "new_sheet": false,
    "run_control": {
     "read_only": false
    }
   },
   "outputs": [],
   "source": [
    "#informações sobre o canal 1\n",
    "func_gen.ch1.wave_info()"
   ]
  },
  {
   "cell_type": "markdown",
   "metadata": {
    "button": false,
    "deletable": true,
    "new_sheet": false,
    "run_control": {
     "read_only": false
    }
   },
   "source": [
    "## Ajustando a fase do canal 1 (em relação ao 2):\n",
    "\n",
    "Para visualizar o efeito abaixo, coloque o oscilocópio no modo XY (aperte o botão Display, depois escolha XY/YT).\n",
    "\n",
    "<span style=\"color:red\">Para que a demonstração abaixo faça sentido, garanta que os dois canais do gerador estão ligados!</span>"
   ]
  },
  {
   "cell_type": "code",
   "execution_count": null,
   "metadata": {
    "button": false,
    "collapsed": false,
    "deletable": true,
    "new_sheet": false,
    "run_control": {
     "read_only": false
    }
   },
   "outputs": [],
   "source": [
    "#forma de onda\n",
    "func_gen.ch1.set_function('sine')\n",
    "func_gen.ch2.set_function('sine')\n",
    "#frequencia\n",
    "freq=200\n",
    "func_gen.ch1.set_frequency(freq) \n",
    "func_gen.ch2.set_frequency(freq) \n",
    "#vetor de fase\n",
    "phasevec=np.linspace(0,90,10) # veja ?np.linspace para ajuda!\n",
    "#loop\n",
    "for phase in phasevec:\n",
    "    func_gen.ch1.set_phase(phase)\n",
    "    print('fase do canal 1 ='+ str(phase))\n",
    "    time.sleep(0.1)"
   ]
  },
  {
   "cell_type": "markdown",
   "metadata": {
    "button": false,
    "deletable": true,
    "new_sheet": false,
    "run_control": {
     "read_only": false
    }
   },
   "source": [
    "<span style=\"color:red\">Tarefa:</span> Escreva um código para ajustar a fase do canal 2, com 50 pontos, entre 0 e 180 graus. Coloque cada um dos canais com frequências que sejam múltiplas uma da outra."
   ]
  },
  {
   "cell_type": "markdown",
   "metadata": {
    "button": false,
    "deletable": true,
    "new_sheet": false,
    "run_control": {
     "read_only": false
    }
   },
   "source": [
    "## Osciloscópio Tektronix\n",
    "\n",
    "Para se conectar com o osciloscópio, seguiremos a mesma estratégia.\n",
    "\n",
    "Após o comando abaixo, deverás receber uma mensagem do tipo:\n",
    "\n",
    "``Osciloscópio conectado! Id = TEKTRONIX,TBS 1062,C011184,CF:91.1CT FV:v26.01``,\n",
    "\n",
    "caso não receba, reconecte os cabos USB."
   ]
  },
  {
   "cell_type": "code",
   "execution_count": null,
   "metadata": {
    "button": false,
    "collapsed": false,
    "deletable": true,
    "new_sheet": false,
    "run_control": {
     "read_only": false
    }
   },
   "outputs": [],
   "source": [
    "scope = pylef.TektronixTBS1062()   # definição do osciloscópio"
   ]
  },
  {
   "cell_type": "markdown",
   "metadata": {
    "button": false,
    "collapsed": true,
    "deletable": true,
    "new_sheet": false,
    "run_control": {
     "read_only": false
    }
   },
   "source": [
    "### Ajusta o Trigger (gatilho)\n",
    "\n",
    "Repare nas setinhas à direita da tela quando se ajusta o trigger!"
   ]
  },
  {
   "cell_type": "code",
   "execution_count": null,
   "metadata": {
    "button": false,
    "collapsed": true,
    "deletable": true,
    "new_sheet": false,
    "run_control": {
     "read_only": false
    }
   },
   "outputs": [],
   "source": [
    "scope.trigger.set_source('ch1')  # ajusta o trigger para o canal 1 no osciloscópio\n",
    "scope.trigger.set_level(0.1) # ajusta o nível do gatilho para 0 volts"
   ]
  },
  {
   "cell_type": "markdown",
   "metadata": {
    "button": false,
    "deletable": true,
    "new_sheet": false,
    "run_control": {
     "read_only": false
    }
   },
   "source": [
    "<span style=\"color:red\">Tarefa</span>: ajuste o trigger para diferentes níveis, tente entender como funciona. <span style=\"color:red\">Ajuste manualmente também!</span>, neste caso você pode usar o comando `scope.trigger.trigger_level()` para saber o nível do trigger, correlacione com a leitura indicada na tela do osciloscópio (canto direito inferior):"
   ]
  },
  {
   "cell_type": "code",
   "execution_count": null,
   "metadata": {
    "button": false,
    "collapsed": false,
    "deletable": true,
    "new_sheet": false,
    "run_control": {
     "read_only": false
    }
   },
   "outputs": [],
   "source": [
    "print(scope.trigger.level()) # verifica o nível do trigger"
   ]
  },
  {
   "cell_type": "code",
   "execution_count": null,
   "metadata": {
    "button": false,
    "collapsed": false,
    "deletable": true,
    "new_sheet": false,
    "run_control": {
     "read_only": false
    }
   },
   "outputs": [],
   "source": [
    "'''\n",
    "E as medidas? Use a subclasse measure:\n",
    "'''\n",
    "#periodo\n",
    "print( scope.ch1.measure.period() )\n",
    "#frequencia\n",
    "print( scope.ch1.measure.frequency() )\n",
    "#tensao pico-pico\n",
    "print( scope.ch1.measure.Vpp() )"
   ]
  },
  {
   "cell_type": "code",
   "execution_count": null,
   "metadata": {
    "button": false,
    "collapsed": false,
    "deletable": true,
    "new_sheet": false,
    "run_control": {
     "read_only": false
    }
   },
   "outputs": [],
   "source": [
    "'''\n",
    "Ajusta a escala horizontal (segundos/divisão)\n",
    "'''\n",
    "scope.set_horizontal_scale(0.01) # 10 ms/div"
   ]
  },
  {
   "cell_type": "code",
   "execution_count": null,
   "metadata": {
    "button": false,
    "collapsed": false,
    "deletable": true,
    "new_sheet": false,
    "run_control": {
     "read_only": false
    }
   },
   "outputs": [],
   "source": [
    "'''\n",
    "Ajuste automatico da escala vertical \n",
    "'''\n",
    "scope.ch1.set_smart_scale()  "
   ]
  },
  {
   "cell_type": "code",
   "execution_count": null,
   "metadata": {
    "button": false,
    "collapsed": false,
    "deletable": true,
    "new_sheet": false,
    "run_control": {
     "read_only": false
    }
   },
   "outputs": [],
   "source": [
    "func_gen.ch1.set_function('sine')\n",
    "t, V = scope.ch1.read_channel()   # adquire dados de tensão por tempo\n",
    "plt.plot(t, V,'.')   # plot V x t\n",
    "plt.show()       # mostra o gráfico"
   ]
  },
  {
   "cell_type": "markdown",
   "metadata": {
    "button": false,
    "deletable": true,
    "new_sheet": false,
    "run_control": {
     "read_only": false
    }
   },
   "source": [
    "O osciloscópio captura os dados com uma resolução vertical de 8 bits, isto significa que a diferença mínima entre dois valores de tensão são dados pela expressão: $$\\delta V= 10\\frac{\\text{volts/div}}{2^8}$$\n",
    "\n",
    "O fator 10 aparece pois, apesar da tela conter 8 divisões verticais, o osciloscópio adquire de fato dez divisões da tela, 5 abaixo do centro e 5 acima.\n",
    "\n",
    "Vamos verificar o impacto disto fazendo duas capturas:\n",
    "*  a primeira a onda de tensão deve compreender toda a tela do osciloscópio;\n",
    "* na segunda, ajustaremos a tensão para compreender apenas 1 divisão vertical da tela."
   ]
  },
  {
   "cell_type": "code",
   "execution_count": null,
   "metadata": {
    "button": false,
    "collapsed": false,
    "deletable": true,
    "new_sheet": false,
    "run_control": {
     "read_only": false
    }
   },
   "outputs": [],
   "source": [
    "'''\n",
    "CAPTURA 1\n",
    "'''\n",
    "### vamos colocar a onda que queremos\n",
    "freq = 100.0 # frequência de 100 Hz\n",
    "Vpp = 1.0    # voltagem pico-a-pico de 1 V\n",
    "offset = 0.0  # offset zero\n",
    "tipo = 'sine'   # tipo da forma de onda (em inglês)\n",
    "### enviar comando \n",
    "func_gen.ch1.set_function(tipo)\n",
    "time.sleep(wait) # aguarda\n",
    "func_gen.ch1.set_frequency(freq) \n",
    "time.sleep(wait) # aguarda\n",
    "func_gen.ch1.set_Vpp(Vpp)\n",
    "time.sleep(wait) # aguarda\n",
    "func_gen.ch1.set_offset(offset)\n",
    "time.sleep(wait) # aguarda\n",
    "## captura\n",
    "scope.ch1.set_smart_scale()  # ajusta a escala para preencher a tela\n",
    "time.sleep(wait) # aguarda\n",
    "t, V = scope.ch1.read_channel()   # adquire dados de tensão por tempo\n",
    "plt.plot(t, V,'.')   # plot V x t utilizando pontos\n",
    "plt.xlabel('tempo (s)')\n",
    "plt.ylabel('tensão  (V)')\n",
    "plt.show()       # mostra o gráfico\n",
    "'''\n",
    "CALCULANDO A DIFERENÇA CONSECUTIVA DO VETOR DE TENSOES ADQUIRIDO\n",
    "'''\n",
    "# diferença consecutiva, \n",
    "#NOTE QUE O VETOR RESULTANTE TEM UM PONTO A MENOS!\n",
    "#o fator 1e3 deixa o vetor em unidades de miliVolts\n",
    "Vdiff = 1e3*np.diff(V) \n",
    "plt.plot(Vdiff,'o-')   # plot V\n",
    "plt.xlabel('índice do vetor')\n",
    "plt.ylabel('V[n+1]-V[n] (mV)')\n",
    "plt.show()       # mostra o gráfico\n",
    "'''\n",
    "GRAFICANDO O HISTOGRAMA DO VETOR DE TENSÕES\n",
    "'''\n",
    "plt.hist(Vdiff,bins=50)\n",
    "plt.xlabel('V[n+1]-V[n] (mV)')\n",
    "plt.ylabel('Contagem')\n",
    "plt.show()       # mostra o gráfico"
   ]
  },
  {
   "cell_type": "code",
   "execution_count": null,
   "metadata": {
    "button": false,
    "collapsed": false,
    "deletable": true,
    "new_sheet": false,
    "run_control": {
     "read_only": false
    }
   },
   "outputs": [],
   "source": [
    "'''\n",
    "CAPTURA 2\n",
    "'''\n",
    "### vamos colocar a onda que queremos\n",
    "freq = 100.0 # frequência de 100 Hz\n",
    "Vpp = 1.0   # voltagem pico-a-pico de 100 mV\n",
    "offset = 0.0  # offset zero\n",
    "tipo = 'sine'   # tipo da forma de onda (em inglês)\n",
    "### enviar comando \n",
    "func_gen.ch1.set_function(tipo)\n",
    "func_gen.ch1.set_frequency(freq) \n",
    "func_gen.ch1.set_Vpp(Vpp)\n",
    "func_gen.ch1.set_offset(offset)\n",
    "## captura\n",
    "'''\n",
    "note abaixo a escale em 2V/div!\n",
    "'''\n",
    "#----------------------\n",
    "scope.ch1.set_scale(2.0)\n",
    "#----------------------\n",
    "time.sleep(1)\n",
    "t, V = scope.ch1.read_channel()   # adquire dados de tensão por tempo\n",
    "plt.plot(t, V,'.')   # plot V x t utilizando pontos\n",
    "plt.xlabel('tempo (s)')\n",
    "plt.ylabel('tensão  (V)')\n",
    "plt.show()       # mostra o gráfico\n",
    "'''\n",
    "CALCULANDO A DIFERENÇA CONSECUTIVA DO VETOR DE TENSOES ADQUIRIDO\n",
    "'''\n",
    "# diferença consecutiva, \n",
    "#NOTE QUE O VETOR RESULTANTE TEM UM PONTO A MENOS!\n",
    "#o fator 1e3 deixa o vetor em unidades de miliVolts\n",
    "Vdiff = 1e3*np.diff(V) \n",
    "plt.plot(Vdiff,'o-')   # plot V\n",
    "plt.xlabel('índice do vetor')\n",
    "plt.ylabel('V[n+1]-V[n] (mV)')\n",
    "plt.show()       # mostra o gráfico\n",
    "'''\n",
    "GRAFICANDO O HISTOGRAMA DO VETOR DE TENSÕES\n",
    "'''\n",
    "plt.hist(Vdiff,bins=50)\n",
    "plt.xlabel('V[n+1]-V[n] (mV)')\n",
    "plt.ylabel('Contagem')\n",
    "plt.show()       # mostra o gráfico"
   ]
  },
  {
   "cell_type": "markdown",
   "metadata": {
    "button": false,
    "deletable": true,
    "new_sheet": false,
    "run_control": {
     "read_only": false
    }
   },
   "source": [
    "### <span style=\"color:red\">Compare os resultados das duas capturas, o que você conclui?</span>\n",
    "\n",
    "Pense sobre o número de bits, compare o resultado com a equação proposta!"
   ]
  },
  {
   "cell_type": "code",
   "execution_count": null,
   "metadata": {
    "button": false,
    "collapsed": false,
    "deletable": true,
    "new_sheet": false,
    "run_control": {
     "read_only": false
    }
   },
   "outputs": [],
   "source": [
    "10*1/(2**8)*1e3"
   ]
  },
  {
   "cell_type": "markdown",
   "metadata": {
    "button": false,
    "deletable": true,
    "new_sheet": false,
    "run_control": {
     "read_only": false
    }
   },
   "source": [
    "---"
   ]
  },
  {
   "cell_type": "markdown",
   "metadata": {
    "button": false,
    "deletable": true,
    "new_sheet": false,
    "run_control": {
     "read_only": false
    }
   },
   "source": [
    "## Salvando os dados em arquivos\n",
    "\n",
    "Existem muitas maneiras de fazer isto em Python, existe uma maneira muito simples de fazer isto no ```pylef```, basta usar a função ``scope.save_channels``"
   ]
  },
  {
   "cell_type": "code",
   "execution_count": null,
   "metadata": {
    "button": false,
    "collapsed": false,
    "deletable": true,
    "new_sheet": false,
    "run_control": {
     "read_only": false
    }
   },
   "outputs": [],
   "source": [
    "#veja a ajuda para esta função\n",
    "?scope.save_channels"
   ]
  },
  {
   "cell_type": "markdown",
   "metadata": {
    "button": false,
    "deletable": true,
    "new_sheet": false,
    "run_control": {
     "read_only": false
    }
   },
   "source": [
    "Exemplo: Salvar os vetore de tempo e tensão obtidos nos canais 1 e 2 do osciloscópio. \n",
    "<span style=\"color:red\">Habilite os canais 1 e 2 antes de prosseguir!</span>"
   ]
  },
  {
   "cell_type": "code",
   "execution_count": null,
   "metadata": {
    "collapsed": false,
    "run_control": {}
   },
   "outputs": [],
   "source": [
    "scope.ch1.turn_on() #habilita o canal 1\n",
    "scope.ch2.turn_on() #habilita o canal 2"
   ]
  },
  {
   "cell_type": "code",
   "execution_count": null,
   "metadata": {
    "button": false,
    "collapsed": true,
    "deletable": true,
    "new_sheet": false,
    "run_control": {
     "read_only": false
    }
   },
   "outputs": [],
   "source": [
    "scope.save_channels('meu_arquivo')"
   ]
  },
  {
   "cell_type": "markdown",
   "metadata": {
    "button": false,
    "collapsed": true,
    "deletable": true,
    "new_sheet": false,
    "run_control": {
     "read_only": false
    }
   },
   "source": [
    "Os arquivos foram criados em uma sub-pasta na qual este caderno se encontra! \n",
    "\n",
    "A sub-pasta contém a data de hoje.\n",
    "\n",
    "Vá no Windows Explorer e localize o arquivo, abra-o com um editor de texto."
   ]
  },
  {
   "cell_type": "markdown",
   "metadata": {
    "button": false,
    "deletable": true,
    "new_sheet": false,
    "run_control": {
     "read_only": false
    }
   },
   "source": [
    "# Incertezas no osciloscópio\n",
    "\n",
    "Como em qualquer processo de medida, existe uma precisão com a qual os instrumentos utilizados no LF25 conseguem fazer medidas. Em razão da complexidade de alguns deles, como o osciloscópio, não é trivial compreender todos os fatores que influenciam a precisão das medições destes equipamentos. A precisão é influenciado por aspectos analógicos, i.e., a precisão dos componentes internos, como por aspectos digitais, i.e., a resolução do conversor analógico digital. Portanto o fabricante fornece, \\textbf{no manual do equipamento}, qual a precisão da medida e as condições necessárias para obtê-las.\n",
    "\n",
    "1. A incerteza dos multímetros digitais Minipa (ET 2002, ET 1002 e ET 1001) é ($\\pm$1% do valor de leitura + 1 dígito)\n",
    "    * Exemplo: Se $R=46.8\\Omega$, então $\\delta R=(46.8/100+0.1)\\Omega\\approx0.6\\Omega$.\n",
    "2. A incerteza de medição com o osciloscópio digital Tek TBS 1062 (veja o manual disponível no Moodle) depende de quantas formas de onda são utilizadas para a média, da escala utilizada e do sinal medido. As especificações abaixo são para medidas com 16 médias.\n",
    "3. A incerteza nas medidas de diferenças de **voltagem** é $\\pm$3% do valor de leitura + 5% da escala vertical (V/div) ).\n",
    "     * Exemplo: Se a leitura de uma diferença de voltagem é $V = 12.0V$ , na escala de 2\\V/div, então \n",
    "$\\delta V = (3\\times 12.0/100 + 2\\times0.05) = 0.46V$ $\\approx 0.5V$ (Erro relativo $\\delta V/V\\approx$ 4%)\n",
    "4. Para uma medida **temporal**, a precisão é de $\\pm$0.01\\% do valor de leitura + 0.4\\% da escala horizontal (s/div) +0.4 ns)\n",
    "    * Exemplo: Se mede $t = 600$ ns na escala de 100 ns/div, então\n",
    "$\\delta t = (0.01\\times600/100 + 0.4\\times100/100 + 0.4)$ ns = $(0.06 + 0.4 + 0.4)$ ns $\\approx 0.9$ ns (Erro relativo $\\delta t/t=0.15$ %).\n",
    "    Estes erros de medidas temporais só são especificados para escalas $\\ge 10$ mV/div e com ondas cuja amplitude pico-pico seja $\\ge5$ div.\n",
    "5. Note que, com osciloscópio, medidas de tempo são geralmente muito mais precisas que medidas de voltagem! \n",
    "\n",
    "<span style=\"color:red\">Abaixo você fará algumas medidas para entender alguns limites destas especificações.</span>"
   ]
  },
  {
   "cell_type": "markdown",
   "metadata": {
    "button": false,
    "collapsed": true,
    "deletable": true,
    "new_sheet": false,
    "run_control": {
     "read_only": false
    }
   },
   "source": [
    "1. Primeiro vamos configurar o canal 2 com as seguintes opções: $V_{pp}$=1V e  $f$=100 Hz\n",
    "2. Ative o canal 2 do gerador e osciloscópio, caso não estejam ativados.\n",
    "3. Configure (manualmente) o trigger do osciloscópio para o canal 2 (repare na <span style=\"color:blue\">seta azul</span> ao lado direito da tela). Isto é feito no botão \"Trigger\" ou \"Gatilho\"."
   ]
  },
  {
   "cell_type": "code",
   "execution_count": null,
   "metadata": {
    "button": false,
    "collapsed": false,
    "deletable": true,
    "new_sheet": false,
    "run_control": {
     "read_only": false
    }
   },
   "outputs": [],
   "source": [
    "'''\n",
    "Vamos medir várias vezes a amplitude do canal 1:\n",
    "VOLTE PARA O MODO YT DO OSCILOSCÓPIO!\n",
    "'''\n",
    "scope.set_sample() # coloca o scope no modo de amostragem (sem médias)\n",
    "nmedidas=10 # numero de medidas\n",
    "#amplitude\n",
    "vpp=1\n",
    "func_gen.ch1.set_Vpp(vpp)\n",
    "#vetor para acumular medidas\n",
    "Vpp1 = np.array([])\n",
    "#loop\n",
    "#-------------\n",
    "for i in range(0,nmedidas):\n",
    "    #medindo com o osciloscopio\n",
    "    Vpp1 = np.append(Vpp1,scope.ch1.measure.Vpp())\n",
    "    time.sleep(0.1) # pausa por 100 ms\n",
    "    print('iteração:'+str(i))\n",
    "#-------------\n",
    "plt.hist(Vpp1,bins=20) # histograma com 20 bins"
   ]
  },
  {
   "cell_type": "code",
   "execution_count": null,
   "metadata": {
    "button": false,
    "collapsed": false,
    "deletable": true,
    "new_sheet": false,
    "run_control": {
     "read_only": false
    }
   },
   "outputs": [],
   "source": [
    "plt.hist(Vpp1,bins=100);"
   ]
  },
  {
   "cell_type": "code",
   "execution_count": null,
   "metadata": {
    "button": false,
    "collapsed": false,
    "deletable": true,
    "new_sheet": false,
    "run_control": {
     "read_only": false
    },
    "scrolled": true
   },
   "outputs": [],
   "source": [
    "#frequency\n",
    "freq=1e3\n",
    "#amplitude\n",
    "vpp = 0.005\n",
    "func_gen.ch1.set_Vpp(vpp)\n",
    "func_gen.ch1.set_frequency(freq)\n",
    "#coloca o trigger no canal 2, para nao perder o trigger\n",
    "func_gen.ch2.set_Vpp(1)\n",
    "func_gen.ch2.set_frequency(freq)\n",
    "scope.trigger.set_source('ch2')\n",
    "time.sleep(0.5)\n",
    "#vetor para acumular medidas\n",
    "Vpp1 = np.array([])\n",
    "#loop\n",
    "#-------------\n",
    "for i in range(0,5):\n",
    "    #medindo com o osciloscopio\n",
    "    Vpp1 = np.append(Vpp1,scope.ch1.measure.Vpp())\n",
    "    time.sleep(0.05)\n",
    "    if np.mod(i,20)==0: print('iteração:'+str(i))\n",
    "#-------------\n",
    "#plt.hist(Vpp1-vpp)"
   ]
  },
  {
   "cell_type": "code",
   "execution_count": null,
   "metadata": {
    "button": false,
    "collapsed": false,
    "deletable": true,
    "new_sheet": false,
    "run_control": {
     "read_only": false
    }
   },
   "outputs": [],
   "source": [
    "#Escala de 2mV/div - 500 pontos\n",
    "plt.hist(1e3*Vpp1,bins=10);"
   ]
  },
  {
   "cell_type": "code",
   "execution_count": null,
   "metadata": {
    "button": false,
    "collapsed": false,
    "deletable": true,
    "new_sheet": false,
    "run_control": {
     "read_only": false
    }
   },
   "outputs": [],
   "source": [
    "#Escala de 2mV/div - 100 pontos\n",
    "plt.hist(1e3*Vpp1,bins=20);"
   ]
  },
  {
   "cell_type": "code",
   "execution_count": null,
   "metadata": {
    "button": false,
    "collapsed": false,
    "deletable": true,
    "new_sheet": false,
    "run_control": {
     "read_only": false
    }
   },
   "outputs": [],
   "source": [
    "#Escala de 10 mV\n",
    "plt.hist(1e3*Vpp1,bins=20);"
   ]
  },
  {
   "cell_type": "code",
   "execution_count": null,
   "metadata": {
    "button": false,
    "collapsed": false,
    "deletable": true,
    "new_sheet": false,
    "run_control": {
     "read_only": false
    }
   },
   "outputs": [],
   "source": [
    "10*10/(2**8)\n",
    "plt.plot(np.diff(1e3*Vpp1),'o')"
   ]
  },
  {
   "cell_type": "markdown",
   "metadata": {
    "button": false,
    "deletable": true,
    "new_sheet": false,
    "run_control": {
     "read_only": false
    }
   },
   "source": [
    "### Exatidão do osciloscópio (Talvez não de tempo de chegar aqui!)\n",
    "\n",
    "Exatidão é um conceito distinto de precisão, conforme ilustra a figura:\n",
    "\n",
    "<img src=\"Precision-Vs-Accuracy.png\",width=400>\n",
    "\n",
    "É sempre importante questionar a exatidão da medida. Este fator é influenciado pela calibração do instrumento de medida e , às vezes, foge do nosso controle.\n",
    "\n",
    "A seguir vamos comparar os valores de tensão ajustados no gerador com os valores de tensão medidos pelo osciloscópio."
   ]
  },
  {
   "cell_type": "code",
   "execution_count": null,
   "metadata": {
    "button": false,
    "collapsed": false,
    "deletable": true,
    "new_sheet": false,
    "run_control": {
     "read_only": false
    },
    "scrolled": true
   },
   "outputs": [],
   "source": [
    "#vetor de amplitude\n",
    "vppvec=np.arange(0.01,1,0.05)\n",
    "#vetor para acumular medidas\n",
    "Vpp1 = []  \n",
    "#loop\n",
    "#-------------\n",
    "for vpp in vppvec:\n",
    "    func_gen.ch1.set_Vpp(vpp)\n",
    "    print('tensao ajustada ='+ str(vpp))\n",
    "    time.sleep(0.2)\n",
    "    #medindo com o osciloscopio\n",
    "    Vpp1.append(scope.ch1.measure.Vpp())\n",
    "#-------------"
   ]
  },
  {
   "cell_type": "code",
   "execution_count": null,
   "metadata": {
    "button": false,
    "collapsed": false,
    "deletable": true,
    "new_sheet": false,
    "run_control": {
     "read_only": false
    }
   },
   "outputs": [],
   "source": [
    "'''\n",
    "Graficando tensao ajustada VS tensao medida\n",
    "'''\n",
    "plt.plot(vppvec,Vpp1,'*')"
   ]
  },
  {
   "cell_type": "code",
   "execution_count": null,
   "metadata": {
    "button": false,
    "collapsed": false,
    "deletable": true,
    "new_sheet": false,
    "run_control": {
     "read_only": false
    }
   },
   "outputs": [],
   "source": [
    "'''\n",
    "Graficando tensao ajustada VS tensao medida\n",
    "'''\n",
    "plt.plot(vppvec,vppvec,'r-',vppvec,Vpp1,'.')\n",
    "plt.show()\n",
    "'''\n",
    "Resíduo\n",
    "'''\n",
    "res=(vppvec-Vpp1);\n",
    "plt.plot(vppvec,res,'*')\n",
    "plt.show()\n",
    "plt.hist(res)\n",
    "plt.show()"
   ]
  }
 ],
 "metadata": {
  "kernelspec": {
   "display_name": "Python 3",
   "language": "python",
   "name": "python3"
  },
  "language_info": {
   "codemirror_mode": {
    "name": "ipython",
    "version": 3
   },
   "file_extension": ".py",
   "mimetype": "text/x-python",
   "name": "python",
   "nbconvert_exporter": "python",
   "pygments_lexer": "ipython3",
   "version": "3.5.0"
  }
 },
 "nbformat": 4,
 "nbformat_minor": 0
}
