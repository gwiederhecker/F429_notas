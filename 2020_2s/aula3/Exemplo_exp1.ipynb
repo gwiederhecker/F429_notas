{
  "nbformat": 4,
  "nbformat_minor": 0,
  "metadata": {
    "colab": {
      "name": "Exemplo_exp1.ipynb",
      "provenance": [],
      "authorship_tag": "ABX9TyPoWF+iPB1X9G/RqPFDi6hU",
      "include_colab_link": true
    },
    "kernelspec": {
      "name": "python3",
      "display_name": "Python 3"
    }
  },
  "cells": [
    {
      "cell_type": "markdown",
      "metadata": {
        "id": "view-in-github",
        "colab_type": "text"
      },
      "source": [
        "<a href=\"https://colab.research.google.com/github/gwiederhecker/F429_notas/blob/master/2020_2s/aula3/Exemplo_exp1.ipynb\" target=\"_parent\"><img src=\"https://colab.research.google.com/assets/colab-badge.svg\" alt=\"Open In Colab\"/></a>"
      ]
    },
    {
      "cell_type": "code",
      "metadata": {
        "id": "5fQE6AS69Kif",
        "outputId": "3a0911e3-e876-4aed-9797-4ef5373b20fd",
        "colab": {
          "base_uri": "https://localhost:8080/",
          "height": 34
        }
      },
      "source": [
        "import glob\n",
        "# Importing drive method from colab for accessing google drive\n",
        "from google.colab import drive\n",
        "import numpy as np\n",
        "import pandas as pd # pacote python\n",
        "import matplotlib.pyplot as plt # fazer graficosasd asdsada\n",
        "glob.glob('*')"
      ],
      "execution_count": 70,
      "outputs": [
        {
          "output_type": "execute_result",
          "data": {
            "text/plain": [
              "['drive', 'sample_data']"
            ]
          },
          "metadata": {
            "tags": []
          },
          "execution_count": 70
        }
      ]
    },
    {
      "cell_type": "code",
      "metadata": {
        "id": "apSgq8uh9VB-",
        "outputId": "7fae87e3-bcb5-47ba-f558-e69be80f0cb5",
        "colab": {
          "base_uri": "https://localhost:8080/",
          "height": 34
        }
      },
      "source": [
        "# This will require authentication : Follow the steps as guided\n",
        "drive.mount('/content/drive')"
      ],
      "execution_count": 18,
      "outputs": [
        {
          "output_type": "stream",
          "text": [
            "Drive already mounted at /content/drive; to attempt to forcibly remount, call drive.mount(\"/content/drive\", force_remount=True).\n"
          ],
          "name": "stdout"
        }
      ]
    },
    {
      "cell_type": "code",
      "metadata": {
        "id": "QsaOIRWK9W9f"
      },
      "source": [
        "data_files = glob.glob(\"/content/drive/My Drive/Colab Notebooks/F429/2020_2s/dados*\")\n",
        "file_name = data_files[0]"
      ],
      "execution_count": 22,
      "outputs": []
    },
    {
      "cell_type": "code",
      "metadata": {
        "id": "EXbFE2x295l-"
      },
      "source": [
        "data = pd.read_csv(file_name,sep='\\t') # pois escolhi TAB como separador!"
      ],
      "execution_count": 24,
      "outputs": []
    },
    {
      "cell_type": "code",
      "metadata": {
        "id": "RTZFjIP7-9Uo",
        "outputId": "8a78c0ad-702b-4180-a20f-53961c332893",
        "colab": {
          "base_uri": "https://localhost:8080/",
          "height": 204
        }
      },
      "source": [
        "data.head()"
      ],
      "execution_count": 25,
      "outputs": [
        {
          "output_type": "execute_result",
          "data": {
            "text/html": [
              "<div>\n",
              "<style scoped>\n",
              "    .dataframe tbody tr th:only-of-type {\n",
              "        vertical-align: middle;\n",
              "    }\n",
              "\n",
              "    .dataframe tbody tr th {\n",
              "        vertical-align: top;\n",
              "    }\n",
              "\n",
              "    .dataframe thead th {\n",
              "        text-align: right;\n",
              "    }\n",
              "</style>\n",
              "<table border=\"1\" class=\"dataframe\">\n",
              "  <thead>\n",
              "    <tr style=\"text-align: right;\">\n",
              "      <th></th>\n",
              "      <th>Frequencia (Hz)</th>\n",
              "      <th>Amplitude Ch1 (V)</th>\n",
              "      <th>Amplitude Ch2</th>\n",
              "      <th>T (s)</th>\n",
              "      <th>tau (s)</th>\n",
              "      <th>f (Hz)</th>\n",
              "      <th>omega (rad/s)</th>\n",
              "      <th>phi (graus)</th>\n",
              "      <th>F.D.E (ms)</th>\n",
              "      <th>m.FDE (ms)</th>\n",
              "      <th>incerteza - (ms)</th>\n",
              "      <th>F.D.E (V)</th>\n",
              "      <th>m.F.D.E (V)</th>\n",
              "      <th>incerteza - (V)</th>\n",
              "    </tr>\n",
              "  </thead>\n",
              "  <tbody>\n",
              "    <tr>\n",
              "      <th>0</th>\n",
              "      <td>12.8090</td>\n",
              "      <td>8.4</td>\n",
              "      <td>0.036</td>\n",
              "      <td>0.0800</td>\n",
              "      <td>0.02000</td>\n",
              "      <td>12.50</td>\n",
              "      <td>78.54</td>\n",
              "      <td>90.000</td>\n",
              "      <td>25.0</td>\n",
              "      <td>5.0</td>\n",
              "      <td>1.021</td>\n",
              "      <td>0.01</td>\n",
              "      <td>0.002</td>\n",
              "      <td>0.0004</td>\n",
              "    </tr>\n",
              "    <tr>\n",
              "      <th>1</th>\n",
              "      <td>23.9105</td>\n",
              "      <td>8.8</td>\n",
              "      <td>0.064</td>\n",
              "      <td>0.0400</td>\n",
              "      <td>0.01000</td>\n",
              "      <td>25.00</td>\n",
              "      <td>157.08</td>\n",
              "      <td>90.000</td>\n",
              "      <td>25.0</td>\n",
              "      <td>5.0</td>\n",
              "      <td>1.021</td>\n",
              "      <td>0.01</td>\n",
              "      <td>0.002</td>\n",
              "      <td>0.0004</td>\n",
              "    </tr>\n",
              "    <tr>\n",
              "      <th>2</th>\n",
              "      <td>28.1092</td>\n",
              "      <td>8.8</td>\n",
              "      <td>0.088</td>\n",
              "      <td>0.0355</td>\n",
              "      <td>0.00887</td>\n",
              "      <td>28.17</td>\n",
              "      <td>176.99</td>\n",
              "      <td>89.949</td>\n",
              "      <td>5.0</td>\n",
              "      <td>1.0</td>\n",
              "      <td>0.204</td>\n",
              "      <td>0.02</td>\n",
              "      <td>0.004</td>\n",
              "      <td>0.0008</td>\n",
              "    </tr>\n",
              "    <tr>\n",
              "      <th>3</th>\n",
              "      <td>40.9031</td>\n",
              "      <td>8.8</td>\n",
              "      <td>0.126</td>\n",
              "      <td>0.0250</td>\n",
              "      <td>0.00610</td>\n",
              "      <td>40.00</td>\n",
              "      <td>251.33</td>\n",
              "      <td>87.840</td>\n",
              "      <td>5.0</td>\n",
              "      <td>1.0</td>\n",
              "      <td>0.204</td>\n",
              "      <td>0.02</td>\n",
              "      <td>0.004</td>\n",
              "      <td>0.0008</td>\n",
              "    </tr>\n",
              "    <tr>\n",
              "      <th>4</th>\n",
              "      <td>107.4070</td>\n",
              "      <td>8.8</td>\n",
              "      <td>0.320</td>\n",
              "      <td>0.0093</td>\n",
              "      <td>0.00225</td>\n",
              "      <td>107.53</td>\n",
              "      <td>675.61</td>\n",
              "      <td>87.097</td>\n",
              "      <td>2.5</td>\n",
              "      <td>0.5</td>\n",
              "      <td>0.102</td>\n",
              "      <td>0.05</td>\n",
              "      <td>0.010</td>\n",
              "      <td>0.0020</td>\n",
              "    </tr>\n",
              "  </tbody>\n",
              "</table>\n",
              "</div>"
            ],
            "text/plain": [
              "   Frequencia (Hz)  Amplitude Ch1 (V)  ...  m.F.D.E (V)  incerteza - (V)\n",
              "0          12.8090                8.4  ...        0.002           0.0004\n",
              "1          23.9105                8.8  ...        0.002           0.0004\n",
              "2          28.1092                8.8  ...        0.004           0.0008\n",
              "3          40.9031                8.8  ...        0.004           0.0008\n",
              "4         107.4070                8.8  ...        0.010           0.0020\n",
              "\n",
              "[5 rows x 14 columns]"
            ]
          },
          "metadata": {
            "tags": []
          },
          "execution_count": 25
        }
      ]
    },
    {
      "cell_type": "code",
      "metadata": {
        "id": "3WZL1CVR_QRr",
        "outputId": "1c084f92-82f6-4442-c552-84a2c0378547",
        "colab": {
          "base_uri": "https://localhost:8080/",
          "height": 35
        }
      },
      "source": [
        "\n",
        "data.columns[0]"
      ],
      "execution_count": 33,
      "outputs": [
        {
          "output_type": "execute_result",
          "data": {
            "application/vnd.google.colaboratory.intrinsic+json": {
              "type": "string"
            },
            "text/plain": [
              "'Frequencia (Hz)'"
            ]
          },
          "metadata": {
            "tags": []
          },
          "execution_count": 33
        }
      ]
    },
    {
      "cell_type": "code",
      "metadata": {
        "id": "XlK5mXKe--3C",
        "outputId": "ea245fb7-a8fd-4b6f-a55f-ad96c3196dc5",
        "colab": {
          "base_uri": "https://localhost:8080/",
          "height": 255
        }
      },
      "source": [
        "data['Frequencia (Hz)']"
      ],
      "execution_count": 26,
      "outputs": [
        {
          "output_type": "execute_result",
          "data": {
            "text/plain": [
              "0       12.8090\n",
              "1       23.9105\n",
              "2       28.1092\n",
              "3       40.9031\n",
              "4      107.4070\n",
              "5      140.9000\n",
              "6      210.9600\n",
              "7      528.1170\n",
              "8      764.1150\n",
              "9     2349.3400\n",
              "10    3308.3400\n",
              "11    5678.3800\n",
              "12    9415.2300\n",
              "Name: Frequencia (Hz), dtype: float64"
            ]
          },
          "metadata": {
            "tags": []
          },
          "execution_count": 26
        }
      ]
    },
    {
      "cell_type": "code",
      "metadata": {
        "id": "54qathiU_VqN",
        "outputId": "fe139006-267d-4bfc-a2fb-c20bf33d3c6b",
        "colab": {
          "base_uri": "https://localhost:8080/",
          "height": 255
        }
      },
      "source": [
        "\n",
        "data[data.columns[1]]"
      ],
      "execution_count": 35,
      "outputs": [
        {
          "output_type": "execute_result",
          "data": {
            "text/plain": [
              "0     8.4\n",
              "1     8.8\n",
              "2     8.8\n",
              "3     8.8\n",
              "4     8.8\n",
              "5     9.0\n",
              "6     8.8\n",
              "7     8.8\n",
              "8     8.8\n",
              "9     8.8\n",
              "10    8.6\n",
              "11    8.4\n",
              "12    8.0\n",
              "Name: Amplitude Ch1 (V), dtype: float64"
            ]
          },
          "metadata": {
            "tags": []
          },
          "execution_count": 35
        }
      ]
    },
    {
      "cell_type": "code",
      "metadata": {
        "id": "sAu-H7jJ_DJF",
        "outputId": "ee9fcedd-319a-453d-b63d-22277cf1c769",
        "colab": {
          "base_uri": "https://localhost:8080/",
          "height": 255
        }
      },
      "source": [
        "data.iloc[:,2]"
      ],
      "execution_count": 30,
      "outputs": [
        {
          "output_type": "execute_result",
          "data": {
            "text/plain": [
              "0     0.036\n",
              "1     0.064\n",
              "2     0.088\n",
              "3     0.126\n",
              "4     0.320\n",
              "5     0.420\n",
              "6     0.630\n",
              "7     1.550\n",
              "8     2.150\n",
              "9     5.200\n",
              "10    6.200\n",
              "11    7.600\n",
              "12    8.000\n",
              "Name: Amplitude Ch2, dtype: float64"
            ]
          },
          "metadata": {
            "tags": []
          },
          "execution_count": 30
        }
      ]
    },
    {
      "cell_type": "code",
      "metadata": {
        "id": "_JW4anez_Fy5",
        "outputId": "0113a565-fbb4-4e4b-cba5-200a0648971a",
        "colab": {
          "base_uri": "https://localhost:8080/",
          "height": 297
        }
      },
      "source": [
        "plt.plot(data[data.columns[0]],data[data.columns[1]],'o',label='canal 1')\n",
        "plt.plot(data[data.columns[0]],data[data.columns[2]],'*',label='canal 2')\n",
        "plt.legend()\n",
        "plt.grid()\n",
        "plt.xlabel('Frequência (Hz)')\n",
        "plt.ylabel('Tensão (V)')"
      ],
      "execution_count": 51,
      "outputs": [
        {
          "output_type": "execute_result",
          "data": {
            "text/plain": [
              "Text(0, 0.5, 'Tensão (V)')"
            ]
          },
          "metadata": {
            "tags": []
          },
          "execution_count": 51
        },
        {
          "output_type": "display_data",
          "data": {
            "image/png": "[encoded data removed]",
            "text/plain": [
              "<Figure size 432x288 with 1 Axes>"
            ]
          },
          "metadata": {
            "tags": [],
            "needs_background": "light"
          }
        }
      ]
    },
    {
      "cell_type": "code",
      "metadata": {
        "id": "C60d_410_mrA",
        "outputId": "c05c1011-251c-4912-b17d-46e2e17e337d",
        "colab": {
          "base_uri": "https://localhost:8080/",
          "height": 170
        }
      },
      "source": [
        "data[data.columns[0]].describe()"
      ],
      "execution_count": 52,
      "outputs": [
        {
          "output_type": "execute_result",
          "data": {
            "text/plain": [
              "count      13.000000\n",
              "mean     1739.116985\n",
              "std      2871.963270\n",
              "min        12.809000\n",
              "25%        40.903100\n",
              "50%       210.960000\n",
              "75%      2349.340000\n",
              "max      9415.230000\n",
              "Name: Frequencia (Hz), dtype: float64"
            ]
          },
          "metadata": {
            "tags": []
          },
          "execution_count": 52
        }
      ]
    },
    {
      "cell_type": "code",
      "metadata": {
        "id": "96O5SGQADOvZ",
        "outputId": "e5c2315e-5196-4f5d-bd88-209815c153f5",
        "colab": {
          "base_uri": "https://localhost:8080/",
          "height": 307
        }
      },
      "source": [
        "plt.loglog(data[data.columns[0]],data[data.columns[1]],'o',label='canal 1')\n",
        "plt.loglog(data[data.columns[0]],data[data.columns[2]],'*',label='canal 2')\n",
        "plt.legend()\n",
        "plt.grid()\n",
        "plt.ylim([1e-2,1e2])\n",
        "plt.grid(True,which='Both')\n",
        "plt.xlabel('Frequência (Hz)')\n",
        "plt.ylabel('Tensão (V)')"
      ],
      "execution_count": 59,
      "outputs": [
        {
          "output_type": "execute_result",
          "data": {
            "text/plain": [
              "Text(0, 0.5, 'Tensão (V)')"
            ]
          },
          "metadata": {
            "tags": []
          },
          "execution_count": 59
        },
        {
          "output_type": "display_data",
          "data": {
            "image/png": "[encoded data removed]",
            "text/plain": [
              "<Figure size 432x288 with 1 Axes>"
            ]
          },
          "metadata": {
            "tags": [],
            "needs_background": "light"
          }
        }
      ]
    },
    {
      "cell_type": "code",
      "metadata": {
        "id": "BAonAQ6DDfvm",
        "outputId": "4a5aa45e-5cfb-4774-9e41-c9368c849302",
        "colab": {
          "base_uri": "https://localhost:8080/",
          "height": 170
        }
      },
      "source": [
        "data['phi (graus)'].describe()"
      ],
      "execution_count": 60,
      "outputs": [
        {
          "output_type": "execute_result",
          "data": {
            "text/plain": [
              "count    13.000000\n",
              "mean     68.259923\n",
              "std      32.407787\n",
              "min       1.713000\n",
              "25%      51.429000\n",
              "50%      85.263000\n",
              "75%      87.840000\n",
              "max      90.000000\n",
              "Name: phi (graus), dtype: float64"
            ]
          },
          "metadata": {
            "tags": []
          },
          "execution_count": 60
        }
      ]
    },
    {
      "cell_type": "code",
      "metadata": {
        "id": "auwaJkBvDnNY",
        "outputId": "6d605060-71b8-4242-b904-6ffa8530f5cc",
        "colab": {
          "base_uri": "https://localhost:8080/",
          "height": 305
        }
      },
      "source": [
        "plt.semilogx(data[data.columns[0]],data['phi (graus)'],'*',label='canal 2-canal1')\n",
        "plt.legend()\n",
        "plt.grid()\n",
        "plt.ylim([1e-2,1e2])\n",
        "plt.grid(True,which='Both')\n",
        "plt.xlabel('Frequência (Hz)')\n",
        "plt.ylabel('Fase, $\\Delta\\phi$')"
      ],
      "execution_count": 62,
      "outputs": [
        {
          "output_type": "execute_result",
          "data": {
            "text/plain": [
              "Text(0, 0.5, 'Fase, $\\\\Delta\\\\phi$')"
            ]
          },
          "metadata": {
            "tags": []
          },
          "execution_count": 62
        },
        {
          "output_type": "display_data",
          "data": {
            "image/png": "[encoded data removed]",
            "text/plain": [
              "<Figure size 432x288 with 1 Axes>"
            ]
          },
          "metadata": {
            "tags": [],
            "needs_background": "light"
          }
        }
      ]
    },
    {
      "cell_type": "code",
      "metadata": {
        "id": "vThKREu4GFa3",
        "outputId": "f0508235-a65a-4b8c-8fb8-4e75922d6f95",
        "colab": {
          "base_uri": "https://localhost:8080/",
          "height": 307
        }
      },
      "source": [
        "g = data[data.columns[2]]/data[data.columns[1]]\n",
        "G= np.abs(g)**2\n",
        "plt.loglog(data[data.columns[0]],g,'*',label='canal 1')\n",
        "plt.loglog(data[data.columns[0]],G,'o',label='canal 1')\n",
        "plt.legend()\n",
        "plt.grid()\n",
        "plt.ylim([1e-4,1e2])\n",
        "plt.grid(True,which='Both')\n",
        "plt.xlabel('Frequência (Hz)')\n",
        "plt.ylabel('g')"
      ],
      "execution_count": 73,
      "outputs": [
        {
          "output_type": "execute_result",
          "data": {
            "text/plain": [
              "Text(0, 0.5, 'g')"
            ]
          },
          "metadata": {
            "tags": []
          },
          "execution_count": 73
        },
        {
          "output_type": "display_data",
          "data": {
            "image/png": "[encoded data removed]",
            "text/plain": [
              "<Figure size 432x288 with 1 Axes>"
            ]
          },
          "metadata": {
            "tags": [],
            "needs_background": "light"
          }
        }
      ]
    },
    {
      "cell_type": "code",
      "metadata": {
        "id": "U0AxWLGGHiAX",
        "outputId": "8bfb4f69-1d24-401d-c6a2-4b580a6f8300",
        "colab": {
          "base_uri": "https://localhost:8080/",
          "height": 307
        }
      },
      "source": [
        "\n",
        "plt.loglog(data[data.columns[0]],g,'*',label='canal 1')\n",
        "plt.loglog(data[data.columns[0]],G,'o',label='canal 1')\n",
        "plt.legend()\n",
        "plt.grid()\n",
        "plt.ylim([1e-4,1e2])\n",
        "plt.grid(True,which='Both')\n",
        "plt.xlabel('Frequência (Hz)')\n",
        "plt.ylabel('Ganho')"
      ],
      "execution_count": 74,
      "outputs": [
        {
          "output_type": "execute_result",
          "data": {
            "text/plain": [
              "Text(0, 0.5, 'Ganho')"
            ]
          },
          "metadata": {
            "tags": []
          },
          "execution_count": 74
        },
        {
          "output_type": "display_data",
          "data": {
            "image/png": "[encoded data removed]",
            "text/plain": [
              "<Figure size 432x288 with 1 Axes>"
            ]
          },
          "metadata": {
            "tags": [],
            "needs_background": "light"
          }
        }
      ]
    },
    {
      "cell_type": "markdown",
      "metadata": {
        "id": "DxCd_O8ZGM54"
      },
      "source": [
        "$G(\\omega)=P_{out}(\\omega)/P_{in}(\\omega)$\n",
        "\n",
        "$P_{R}=V^2/R$\n",
        "\n",
        "$G(\\omega)=|V_{out}|^2/|V_{in}|^2=|V_{out}/V_{in}|^2$\n",
        "$$F_{dB}=10*\\log_{10}|F|^2$$\n",
        "$$F_{dB}=20*\\log_{10}|F|$$"
      ]
    },
    {
      "cell_type": "code",
      "metadata": {
        "id": "kpnkZWMsGHxV",
        "outputId": "53046c1f-baae-4c26-c99e-dde028c68b25",
        "colab": {
          "base_uri": "https://localhost:8080/",
          "height": 305
        }
      },
      "source": [
        "# GdB=10*np.log10(G)\n",
        "GdB=20*np.log10(g)\n",
        "plt.semilogx(data[data.columns[0]],GdB,'o',label='canal 1')\n",
        "plt.legend()\n",
        "plt.grid()\n",
        "plt.ylim([-40,20])\n",
        "plt.grid(True,which='Both')\n",
        "plt.xlabel('Frequência (Hz)')\n",
        "plt.ylabel('Ganho (dB)')"
      ],
      "execution_count": 77,
      "outputs": [
        {
          "output_type": "execute_result",
          "data": {
            "text/plain": [
              "Text(0, 0.5, 'Ganho (dB)')"
            ]
          },
          "metadata": {
            "tags": []
          },
          "execution_count": 77
        },
        {
          "output_type": "display_data",
          "data": {
            "image/png": "[encoded data removed]",
            "text/plain": [
              "<Figure size 432x288 with 1 Axes>"
            ]
          },
          "metadata": {
            "tags": [],
            "needs_background": "light"
          }
        }
      ]
    },
    {
      "cell_type": "code",
      "metadata": {
        "id": "pDV941FBIBJl"
      },
      "source": [
        ""
      ],
      "execution_count": null,
      "outputs": []
    }
  ]
}