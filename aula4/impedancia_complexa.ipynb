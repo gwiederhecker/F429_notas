{
 "cells": [
  {
   "cell_type": "markdown",
   "metadata": {},
   "source": [
    "# <span style=\"color:blue\">0. Definições </span>"
   ]
  },
  {
   "cell_type": "code",
   "execution_count": null,
   "metadata": {
    "button": false,
    "collapsed": true,
    "deletable": true,
    "new_sheet": false,
    "run_control": {
     "read_only": false
    }
   },
   "outputs": [],
   "source": [
    "import numpy as np\n",
    "import os\n",
    "import matplotlib.pyplot as plt\n",
    "%matplotlib inline"
   ]
  },
  {
   "cell_type": "code",
   "execution_count": null,
   "metadata": {
    "collapsed": false
   },
   "outputs": [],
   "source": [
    "#****************************\n",
    "#GRAFICOS\n",
    "#****************************\n",
    "#Ajsutando fontes padrão dos gráficos\n",
    "font = { 'weight' : 'normal',\n",
    "        'size'   : 12}\n",
    "\n",
    "plt.rc('font', **font)\n",
    "#Ajsutando espessura das linhas padrão dos gráficos\n",
    "plt.rcParams['lines.linewidth'] = 2\n",
    "plt.locator_params(nticks=4);\n",
    "# plt.locator_params(nticks=4);\n",
    "#****************************\n",
    "#FUNÇÃO PARA GRAFICAR DIAGRAMA DE ARGAND (PLANO COMPLEXO)\n",
    "#****************************\n",
    "def z_plot(zlist,scale_factor=1.1):\n",
    "    ''' FUNÇÃO PARA GRAFICAR NÚMERO COMPLEXO NO DIAGRAMA DE ARGAND, CARTESIANO E POLAR\n",
    "    entrada: \n",
    "    zlist = lista contendo um ou mais números (array ou numpy.array)\n",
    "    obs: se quiser apenas um número, coloque colchetes, [z]\n",
    "    scale_factor (opcional) = fator de escala para definir o excesso dos eixos\n",
    "    saída: figura matplotlib  \n",
    "    '''\n",
    "    fig, ax = plt.subplots(2, figsize=(10,5));\n",
    "    #----------------------\n",
    "    #GRÁFICO CARTESIANO\n",
    "    ax[0] = plt.subplot(1,2,1) # primeiro grafico de uma matrix 1x2\n",
    "    for z in zlist:\n",
    "        ax[0].plot([0,z.real],[0,z.imag],'.--k'); # desenha uma linha tracejada da origem até ponto\n",
    "        ax[0].plot(z.real,z.imag,'o',markersize = 10) #desenha o ponto\n",
    "    zmax = scale_factor*np.max(np.abs(zlist))\n",
    "    ax[0].plot(zmax*np.array([0,0]),zmax*np.array([-1,1]),'-k')#eixos cartesianos\n",
    "    ax[0].plot(zmax*np.array([-1,1]),zmax*np.array([0,0]),'-k')#eixos cartesianos\n",
    "    ax[0].set_xlim([-zmax,zmax]);\n",
    "    ax[0].set_ylim([-zmax,zmax]);\n",
    "    ax[0].set_xlabel('parte real');\n",
    "    ax[0].set_ylabel('parte imaginária');\n",
    "    plt.title('Diagrama de Argand');\n",
    "    ax[0].grid(True);\n",
    "    #----------------------\n",
    "    #GRÁFICO POLAR\n",
    "    ax[1] = plt.subplot(1,2,2,projection='polar') # primeiro grafico de uma matrix 1x2\n",
    "    count = 1\n",
    "    for z in zlist:\n",
    "        ax[1].plot([0,np.angle(z)],[0,np.abs(z)],'.--k'); # desenha uma linha tracejada da origem até ponto\n",
    "        ax[1].plot(np.angle(z),np.abs(z),'o', markersize = 10,  label = 'z'+str(count)) #desenha o ponto\n",
    "        count = count+1\n",
    "    #ax[1].set_rmax(scale_factor*np.array([-np.abs(z),np.abs(z)]));\n",
    "    plt.title('Diagrama de Argand (Forma polar)');\n",
    "    ax[1].grid(True);\n",
    "    ax[1].set_rlabel_position(0)\n",
    "    ax[1].set_rmax(zmax)\n",
    "    #ax[1].legend(loc='lower right')\n",
    "    ax[1].legend(loc=(1.2,0.45))\n",
    "    return fig; # retorna a figura\n",
    "#-------------------------------------------\n",
    "#****************************\n",
    "#FUNÇÃO PARA GRAFICAR DIAGRAMA DE BODE (|H|**2 E ARG(H)\n",
    "#****************************\n",
    "def fig_bode(freq,Tdbvec,fasevec,labelvec):\n",
    "    '''Função para graficar painel 2x1 com diagrama de Bode (amplitude e fase)\n",
    "    entrada:\n",
    "    freq (vetor numérico de frequência)\n",
    "    Tdbvec (vetor numérico)\n",
    "    '''\n",
    "    fig, ax = plt.subplots(2, sharex=True, figsize=(5, 10))\n",
    "    #--------------------------------------\n",
    "    #TRANSMITANCIA EM DECIBEIS\n",
    "    ax[0] = plt.subplot(211)\n",
    "    for m in range(np.shape(Tdbvec)[0]):\n",
    "        ax[0].plot(freq,np.array(Tdbvec)[m,:],linewidth=2,label=labelvec[m])\n",
    "    ax[0].set_ylim((-40,30))\n",
    "    ax[0].set_xscale('log')\n",
    "    ax[0].set_ylabel('T (dB)')\n",
    "    ax[0].legend(loc='lower right')\n",
    "    ax[0].grid(True)\n",
    "    #--------------------------------------\n",
    "    ax[1] = plt.subplot(212)\n",
    "    for m in range(np.shape(fasevec)[0]):\n",
    "        ax[1].plot(freq,np.array(fasevec)[m,:],linewidth=2,label=labelvec[m])\n",
    "    ax[1].set_ylim([-200,200])\n",
    "    ax[1].set_xscale('log')\n",
    "    ax[1].set_ylabel('Fase (graus)')\n",
    "    ax[1].grid(True)\n",
    "    #--------------------------------------\n",
    "    #geral\n",
    "    ax[0].set_title('Diagrama de Bode')\n",
    "    plt.xlabel('Frequência (Hz)')\n",
    "    return fig"
   ]
  },
  {
   "cell_type": "markdown",
   "metadata": {
    "button": false,
    "deletable": true,
    "new_sheet": false,
    "run_control": {
     "read_only": false
    }
   },
   "source": [
    "# <span style=\"color:blue\">1. Impedâncias complexas</span>"
   ]
  },
  {
   "cell_type": "markdown",
   "metadata": {
    "button": false,
    "deletable": true,
    "new_sheet": false,
    "run_control": {
     "read_only": false
    }
   },
   "source": [
    "Abaixo, definimos as impedâncias complexas para o capacitor, para o capacitor: $$Z_c=-j X_c=-j \\frac{1}{\\omega C}=-j \\frac{1}{2\\pi f C},$$ sendo $f$ a frequência (em [Hz]). \n",
    "\n",
    "Para o indutor, $$Z_l=j X_l=j \\omega L=j 2\\pi f L,$$ sendo $f$ a frequência (em [Hz])."
   ]
  },
  {
   "cell_type": "code",
   "execution_count": null,
   "metadata": {
    "button": false,
    "collapsed": false,
    "deletable": true,
    "new_sheet": false,
    "run_control": {
     "read_only": false
    }
   },
   "outputs": [],
   "source": [
    "#-----------------\n",
    "#CAPACITOR\n",
    "def Zc(freq,C):\n",
    "    j = complex(0,1)\n",
    "    #reatancia\n",
    "    Xc = 1/(2*np.pi*freq*C)\n",
    "    Zc = -j*Xc\n",
    "    return Zc\n",
    "#-----------------\n",
    "#INDUTOR\n",
    "def Zl(freq,L):\n",
    "    j = complex(0,1)\n",
    "    #reatancia\n",
    "    Xl = 2*np.pi*freq*L\n",
    "    Zl = j*Xl\n",
    "    return Zl"
   ]
  },
  {
   "cell_type": "markdown",
   "metadata": {
    "button": false,
    "deletable": true,
    "new_sheet": false,
    "run_control": {
     "read_only": false
    }
   },
   "source": [
    "A impedância de cada um dos componentes é __puramente reativo__, não possui parte real:"
   ]
  },
  {
   "cell_type": "code",
   "execution_count": null,
   "metadata": {
    "button": false,
    "collapsed": false,
    "deletable": true,
    "new_sheet": false,
    "run_control": {
     "read_only": false
    }
   },
   "outputs": [],
   "source": [
    "#definindo valores dos componentes\n",
    "freq = 500 # frequencia [Hz]\n",
    "C = 1e-6; #capacitancia [F]\n",
    "L = 50e-3; # indutancia  [H]\n",
    "#calculando\n",
    "print(Zc(freq,C))\n",
    "print(Zl(freq,L))\n",
    "#graficando:\n",
    "test=z_plot([Zc(freq,C),Zl(freq,L)])"
   ]
  },
  {
   "cell_type": "markdown",
   "metadata": {
    "button": false,
    "deletable": true,
    "new_sheet": false,
    "run_control": {
     "read_only": false
    }
   },
   "source": [
    "Já para o circuito $RC$ ou $RL$ série, a __impedância total possui parte real e imaginária__. <span style=\"color:red\">Note que o $RC$ possui parte imaginária negativa ($\\mathcal{Im}(Z)<0$, _capacitivo_) e o $RL$ possui parte imaginária positivo ($\\mathcal{Im}(Z)>0$, _indutivo_), </span>"
   ]
  },
  {
   "cell_type": "code",
   "execution_count": null,
   "metadata": {
    "button": false,
    "collapsed": false,
    "deletable": true,
    "new_sheet": false,
    "run_control": {
     "read_only": false
    }
   },
   "outputs": [],
   "source": [
    "#definindo valores dos componentes\n",
    "freq = 500 # frequencia [Hz]\n",
    "C = 1e-6; #capacitancia [F]\n",
    "L = 50e-3; # indutancia  [H]\n",
    "R = 100; #resistencia [Ohms]\n",
    "#impedancia total de um circuito RC ou RL\n",
    "print(R + Zc(freq,C))\n",
    "print(R + Zl(freq,L))\n",
    "#graficando:\n",
    "z_plot([R+Zc(freq,C),R+Zl(freq,L)]);"
   ]
  },
  {
   "cell_type": "markdown",
   "metadata": {
    "button": false,
    "deletable": true,
    "new_sheet": false,
    "run_control": {
     "read_only": false
    }
   },
   "source": [
    "Já para o circuito $RLC$ série, dependendo da frequência, ele pode ser mais indutivo $\\mathcal{Im}(Z)>0$ ou capacitivo $\\mathcal{Im}(Z)<0$.  Altere o valor da frequência (```freq```) e verifique este comportamento."
   ]
  },
  {
   "cell_type": "code",
   "execution_count": null,
   "metadata": {
    "button": false,
    "collapsed": false,
    "deletable": true,
    "new_sheet": false,
    "run_control": {
     "read_only": false
    }
   },
   "outputs": [],
   "source": [
    "#definindo valores dos componentes\n",
    "freq = 100 # frequencia [Hz]\n",
    "C = 1e-6; #capacitancia [F]\n",
    "L = 50e-3; # indutancia  [H]\n",
    "R = 100; #resistencia [Ohms]\n",
    "#impedancia total de um circuito RC ou RL\n",
    "print(R + Zl(freq,L) + Zc(freq,C))\n",
    "z_plot([R + Zl(freq,L) + Zc(freq,C)]);"
   ]
  },
  {
   "cell_type": "markdown",
   "metadata": {
    "button": false,
    "deletable": true,
    "new_sheet": false,
    "run_control": {
     "read_only": false
    }
   },
   "source": [
    "## Forma polar "
   ]
  },
  {
   "cell_type": "markdown",
   "metadata": {
    "button": false,
    "deletable": true,
    "new_sheet": false,
    "run_control": {
     "read_only": false
    }
   },
   "source": [
    "### Note a importância de usar a função ```np.angle``` (argumento), ao invés de usar o ```np.arctan``` (arco-tangente)"
   ]
  },
  {
   "cell_type": "markdown",
   "metadata": {
    "button": false,
    "deletable": true,
    "new_sheet": false,
    "run_control": {
     "read_only": false
    }
   },
   "source": [
    "No primeiro quadrante..."
   ]
  },
  {
   "cell_type": "code",
   "execution_count": null,
   "metadata": {
    "button": false,
    "collapsed": false,
    "deletable": true,
    "new_sheet": false,
    "run_control": {
     "read_only": false
    }
   },
   "outputs": [],
   "source": [
    "z = 0.5 + complex(0,1)\n",
    "print(z)\n",
    "print(z.real)\n",
    "print(z.imag)\n",
    "#calculando a fase (em graus):\n",
    "fase_atan = (180/np.pi)*np.arctan(z.imag/z.real)\n",
    "print(fase_atan)\n",
    "fase_angle = (180/np.pi)*np.angle(z)\n",
    "print(fase_angle)\n",
    "#graficando\n",
    "z_plot([z]);"
   ]
  },
  {
   "cell_type": "markdown",
   "metadata": {
    "button": false,
    "deletable": true,
    "new_sheet": false,
    "run_control": {
     "read_only": false
    }
   },
   "source": [
    "No segundo quadrante..."
   ]
  },
  {
   "cell_type": "code",
   "execution_count": null,
   "metadata": {
    "button": false,
    "collapsed": false,
    "deletable": true,
    "new_sheet": false,
    "run_control": {
     "read_only": false
    }
   },
   "outputs": [],
   "source": [
    "z = -0.5 + complex(0,1)\n",
    "print(z)\n",
    "print(z.real)\n",
    "print(z.imag)\n",
    "#calculando a fase (em graus):\n",
    "fase_atan = (180/np.pi)*np.arctan(z.imag/z.real)\n",
    "print(fase_atan)\n",
    "fase_angle = (180/np.pi)*np.angle(z)\n",
    "print(fase_angle)\n",
    "#graficando\n",
    "z_plot([z]);"
   ]
  },
  {
   "cell_type": "markdown",
   "metadata": {
    "button": false,
    "deletable": true,
    "new_sheet": false,
    "run_control": {
     "read_only": false
    }
   },
   "source": [
    "###  Convertendo entre as duas formas:\n",
    "\n",
    "$$z=a+jb\\rightarrow z=|z|\\exp(j\\theta),$$\n",
    "sendo que $\\theta=arg(z)$"
   ]
  },
  {
   "cell_type": "code",
   "execution_count": null,
   "metadata": {
    "button": false,
    "collapsed": false,
    "deletable": true,
    "new_sheet": false,
    "run_control": {
     "read_only": false
    }
   },
   "outputs": [],
   "source": [
    "z = -0.5 + complex(0,1)\n",
    "print('forma cartesiana:',z)\n",
    "print('parte real:',z.real)\n",
    "print('parte imaginaria:',z.imag)\n",
    "#fase\n",
    "theta = np.angle(z)\n",
    "print('fase (rad)',theta)\n",
    "#modulo\n",
    "zabs = np.abs(z)\n",
    "print('módulo',zabs)\n",
    "#FORMA POLAR\n",
    "j=complex(0,1)\n",
    "zpolar = zabs* np.exp(j*theta)\n",
    "print('forma polar:',zpolar)\n",
    "#---------------------------------------\n",
    "#Grafico representando o número complexo\n",
    "#graficando\n",
    "z_plot([z]);"
   ]
  },
  {
   "cell_type": "code",
   "execution_count": null,
   "metadata": {
    "button": false,
    "collapsed": false,
    "deletable": true,
    "new_sheet": false,
    "run_control": {
     "read_only": false
    }
   },
   "outputs": [],
   "source": [
    "j=complex(0,1)\n",
    "r1, theta1 = 1.5, np.pi/2\n",
    "r2, theta2 = 1.0, np.pi/4\n",
    "z1 = r1*np.exp(j*theta1)\n",
    "z2 = r2*np.exp(j*theta2)\n",
    "z3  = z1*z2\n",
    "z4 = z2/z1\n",
    "z_plot([z1,z2,z3,z4]);"
   ]
  },
  {
   "cell_type": "markdown",
   "metadata": {
    "button": false,
    "deletable": true,
    "new_sheet": false,
    "run_control": {
     "read_only": false
    }
   },
   "source": [
    "## Graficando as impedâncias dos componentes reativos"
   ]
  },
  {
   "cell_type": "code",
   "execution_count": null,
   "metadata": {
    "button": false,
    "collapsed": false,
    "deletable": true,
    "new_sheet": false,
    "run_control": {
     "read_only": false
    }
   },
   "outputs": [],
   "source": [
    "freq=np.linspace(10,1000,500) # vetor que vai de 10**0 até 10**6\n",
    "C=5e-6; \n",
    "L=100e-3;\n",
    "#-----\n",
    "#GRAFICOS\n",
    "#Ajsutando fontes padrão dos gráficos\n",
    "font = {'family' : 'arial',\n",
    "        'weight' : 'normal',\n",
    "        'size'   : 16} #este tipo de variável é um dicionário\n",
    "plt.rc('font', **font)\n",
    "plt.rcParams['lines.linewidth'] = 2\n",
    "\n",
    "#Ajsutando espessura das linhas padrão dos gráficos\n",
    "#IMPEDÂNCIA,|Z|\n",
    "fig, ax = plt.subplots(2,figsize=(14, 5))\n",
    "ax[0] = plt.subplot(121)\n",
    "ax[0].plot(freq,np.abs(Zl(freq,L)),label='indutor')\n",
    "ax[0].plot(freq,np.abs(Zc(freq,C)),label='capacitor')\n",
    "#nome dos eixos e legendas\n",
    "ax[0].set_xlabel('Frequência (Hz)')\n",
    "ax[0].set_ylabel('Impedância (Ohms)')\n",
    "ax[0].legend(loc='upper right')\n",
    "#-----\n",
    "#FASE,arg(Z)\n",
    "ax[1] = plt.subplot(122)\n",
    "ax[1].plot(freq,np.angle(Zl(freq,L),deg=True),label='indutor')\n",
    "ax[1].plot(freq,np.angle(Zc(freq,C),deg=True),label='capacitor')\n",
    "#nome dos eixos e legendas\n",
    "ax[1].set_xlabel('Frequência (Hz)')\n",
    "ax[1].set_ylabel('Fase (graus)')\n",
    "ax[1].legend(loc='center right')"
   ]
  },
  {
   "cell_type": "markdown",
   "metadata": {
    "button": false,
    "deletable": true,
    "new_sheet": false,
    "run_control": {
     "read_only": false
    }
   },
   "source": [
    "# <span style=\"color:blue\">2. Circuitos contendo 1 componentes reativos, RC e RL</span>"
   ]
  },
  {
   "cell_type": "markdown",
   "metadata": {
    "button": false,
    "deletable": true,
    "new_sheet": false,
    "run_control": {
     "read_only": false
    }
   },
   "source": [
    "### Abaixo definimos uma função para fazer diagramas de Bode"
   ]
  },
  {
   "cell_type": "markdown",
   "metadata": {
    "button": false,
    "deletable": true,
    "new_sheet": false,
    "run_control": {
     "read_only": false
    }
   },
   "source": [
    "### circuito RC"
   ]
  },
  {
   "cell_type": "code",
   "execution_count": null,
   "metadata": {
    "button": false,
    "collapsed": false,
    "deletable": true,
    "new_sheet": false,
    "run_control": {
     "read_only": false
    }
   },
   "outputs": [],
   "source": [
    "freq=np.logspace(0,6,200) # vetor que vai de 10**0 até 10**6\n",
    "#lomega=np.log10(omega)\n",
    "C=1e-3;\n",
    "L=1e-3/(2*np.pi)**2;\n",
    "R=0.2;\n",
    "#----------------\n",
    "Zt = Zc(freq,C)+R # impedancia total\n",
    "Hrc =  Zc(freq,C)/Zt # H com capacitor na saida\n",
    "Hcr = R/Zt # H com resistor na saida"
   ]
  },
  {
   "cell_type": "code",
   "execution_count": null,
   "metadata": {
    "button": false,
    "collapsed": true,
    "deletable": true,
    "new_sheet": false,
    "run_control": {
     "read_only": false
    }
   },
   "outputs": [],
   "source": [
    "#----------------\n",
    "Trc=np.abs(Hrc)\n",
    "Trcdb=20*np.log10(Trc)\n",
    "fase_rc = np.angle(Hrc,deg=True)\n",
    "#capacitor\n",
    "Tcr=np.abs(Hcr)\n",
    "Tcrdb=20*np.log10(Tcr)\n",
    "fase_cr = np.angle(Hcr,deg=True)"
   ]
  },
  {
   "cell_type": "code",
   "execution_count": null,
   "metadata": {
    "button": false,
    "collapsed": false,
    "deletable": true,
    "new_sheet": false,
    "run_control": {
     "read_only": false
    }
   },
   "outputs": [],
   "source": [
    "#GRAFICANDO BODE, RC e CR\n",
    "fig=fig_bode(freq,[Trcdb,Tcrdb],[fase_rc,fase_cr],['C','R']);"
   ]
  },
  {
   "cell_type": "code",
   "execution_count": null,
   "metadata": {
    "button": false,
    "collapsed": true,
    "deletable": true,
    "new_sheet": false,
    "run_control": {
     "read_only": false
    }
   },
   "outputs": [],
   "source": [
    "#SALVANDO FIGURA\n",
    "#-----------------------------\n",
    "print('pasta atual:',os.getcwd())  \n",
    "name='bode_rc'\n",
    "folder_path=os.getcwd()\n",
    "ext='pdf'\n",
    "path=os.path.join(folder_path,name + '.' + ext)\n",
    "fig.savefig(path,format='pdf')\n",
    "print('arquivo salvo:',path)"
   ]
  },
  {
   "cell_type": "markdown",
   "metadata": {
    "button": false,
    "deletable": true,
    "new_sheet": false,
    "run_control": {
     "read_only": false
    }
   },
   "source": [
    "###  circuito RL"
   ]
  },
  {
   "cell_type": "code",
   "execution_count": null,
   "metadata": {
    "button": false,
    "collapsed": false,
    "deletable": true,
    "new_sheet": false,
    "run_control": {
     "read_only": false
    }
   },
   "outputs": [],
   "source": [
    "freq=np.logspace(0,6,200) # vetor que vai de 10**0 até 10**6\n",
    "#lomega=np.log10(omega)\n",
    "C=1e-3;\n",
    "L=1e-3/(2*np.pi)**2;\n",
    "R=0.2;\n",
    "#----------------\n",
    "Zt = Zl(freq,L)+R\n",
    "Hrl,Hlr = Zl(freq,L)/Zt, R/Zt\n",
    "#----------------\n",
    "Trl=np.abs(Hrl)\n",
    "Trldb=20*np.log10(Trl)\n",
    "fase_rl = np.angle(Hrl,deg=True)\n",
    "#capacitor\n",
    "Tlr=np.abs(Hlr)\n",
    "Tlrdb=20*np.log10(Tlr)\n",
    "fase_lr = np.angle(Hlr,deg=True)"
   ]
  },
  {
   "cell_type": "code",
   "execution_count": null,
   "metadata": {
    "button": false,
    "collapsed": true,
    "deletable": true,
    "new_sheet": false,
    "run_control": {
     "read_only": false
    }
   },
   "outputs": [],
   "source": [
    "#GRAFICANDO BODE, LR e RL\n",
    "fig=fig_bode(freq,[Trldb,Tlrdb],[fase_rc,fase_cr],['L','R']);"
   ]
  },
  {
   "cell_type": "code",
   "execution_count": null,
   "metadata": {
    "button": false,
    "collapsed": true,
    "deletable": true,
    "new_sheet": false,
    "run_control": {
     "read_only": false
    }
   },
   "outputs": [],
   "source": [
    "#SALVANDO FIGURA\n",
    "#-----------------------------\n",
    "print('pasta atual:',os.getcwd())  \n",
    "name='bode_rl'\n",
    "folder_path=os.getcwd()\n",
    "ext='pdf'\n",
    "path=os.path.join(folder_path,name + '.' + ext)\n",
    "fig.savefig(path,format='pdf')\n",
    "print('arquivo salvo:',path)"
   ]
  },
  {
   "cell_type": "markdown",
   "metadata": {
    "button": false,
    "deletable": true,
    "new_sheet": false,
    "run_control": {
     "read_only": false
    }
   },
   "source": [
    "## Circuitos contendo 2 componentes reativos, RLC"
   ]
  },
  {
   "cell_type": "code",
   "execution_count": null,
   "metadata": {
    "button": false,
    "collapsed": false,
    "deletable": true,
    "new_sheet": false,
    "run_control": {
     "read_only": false
    }
   },
   "outputs": [],
   "source": [
    "freq=np.logspace(0,6,500) # vetor que vai de 10**0 até 10**6\n",
    "#lomega=np.log10(omega)\n",
    "C=1e-3;\n",
    "L=1e-3/(2*np.pi)**2;\n",
    "R=0.1;\n",
    "#----------------\n",
    "Zt = Zc(freq,C)+Zl(freq,L)+R # impedancia total\n",
    "Hr = R/Zt # resistor na saida\n",
    "Hc = Zc(freq,C)/Zt # capacitor na saida\n",
    "Hl = Zl(freq,L)/Zt # indutor na saida\n",
    "Hlc = (Zc(freq,C)+Zl(freq,L))/Zt # indutor e capacitor na saida\n",
    "#----------------\n",
    "Tr=np.abs(Hr)\n",
    "Trdb=20*np.log10(Tr)\n",
    "fase_r = np.angle(Hr,deg=True)\n",
    "#capacitor\n",
    "Tc=np.abs(Hc)\n",
    "Tcdb=20*np.log10(Tc)\n",
    "fase_c = np.angle(Hc,deg=True)\n",
    "#indutor\n",
    "Tl=np.abs(Hl)\n",
    "Tldb=20*np.log10(Tl)\n",
    "fase_l = np.angle(Hl,deg=True)\n",
    "#indutor+capacitor\n",
    "Tlc=np.abs(Hlc)\n",
    "Tlcdb=20*np.log10(Tlc)\n",
    "fase_lc = np.angle(Hlc,deg=True)"
   ]
  },
  {
   "cell_type": "code",
   "execution_count": null,
   "metadata": {
    "button": false,
    "collapsed": false,
    "deletable": true,
    "new_sheet": false,
    "run_control": {
     "read_only": false
    }
   },
   "outputs": [],
   "source": [
    "fig=fig_bode(freq,[Trdb,Tcdb,Tldb,Tlcdb],[fase_r,fase_c,fase_l,fase_lc],['R','L','C','LC']);"
   ]
  },
  {
   "cell_type": "code",
   "execution_count": null,
   "metadata": {
    "button": false,
    "collapsed": false,
    "deletable": true,
    "new_sheet": false,
    "run_control": {
     "read_only": false
    }
   },
   "outputs": [],
   "source": [
    "#-----------------------------\n",
    "print('pasta atual:',os.getcwd())  \n",
    "name='bode_rlc'\n",
    "folder_path=os.getcwd()\n",
    "ext='pdf'\n",
    "path=os.path.join(folder_path,name + '.' + ext)\n",
    "fig.savefig(path,format='pdf')\n",
    "print('arquivo salvo:',path)"
   ]
  },
  {
   "cell_type": "code",
   "execution_count": null,
   "metadata": {
    "button": false,
    "collapsed": true,
    "deletable": true,
    "new_sheet": false,
    "run_control": {
     "read_only": false
    }
   },
   "outputs": [],
   "source": []
  }
 ],
 "metadata": {
  "kernelspec": {
   "display_name": "Python 3",
   "language": "python",
   "name": "python3"
  },
  "language_info": {
   "codemirror_mode": {
    "name": "ipython",
    "version": 3
   },
   "file_extension": ".py",
   "mimetype": "text/x-python",
   "name": "python",
   "nbconvert_exporter": "python",
   "pygments_lexer": "ipython3",
   "version": "3.5.0"
  }
 },
 "nbformat": 4,
 "nbformat_minor": 0
}
