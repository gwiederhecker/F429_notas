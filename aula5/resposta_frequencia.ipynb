{
 "cells": [
  {
   "cell_type": "markdown",
   "metadata": {
    "button": false,
    "new_sheet": false,
    "run_control": {
     "read_only": false
    }
   },
   "source": [
    "# Exemplo de programa para varredura em frequência"
   ]
  },
  {
   "cell_type": "markdown",
   "metadata": {
    "button": false,
    "new_sheet": false,
    "run_control": {
     "read_only": false
    }
   },
   "source": [
    "## 1.Inicialização"
   ]
  },
  {
   "cell_type": "markdown",
   "metadata": {},
   "source": [
    "Na celula são inicializadas..."
   ]
  },
  {
   "cell_type": "code",
   "execution_count": 1,
   "metadata": {
    "button": false,
    "collapsed": true,
    "new_sheet": false,
    "run_control": {
     "read_only": false
    }
   },
   "outputs": [],
   "source": [
    "'''importa as bibliotecas necessárias'''\n",
    "import pylef   # importar pylef \n",
    "import visa    # importar a bilioteca pyVISA para lidar com virtualização de instrumentos\n",
    "import matplotlib.pyplot as plt  # importar a bilioteca pyplot para fazer gráficos\n",
    "import numpy as np   # importar a biblioteca Numpy para lidar com matrizes\n",
    "import time          # importar a bilioteca para funções temporais\n",
    "import pandas as pd   # importa bilioteca pandas para  lidar com processamento de dados\n",
    "import os            # biblioteca para lidar com diretórios\n",
    "#import sys \n",
    "#bibliotecas para atualizacoa de grafico\n",
    "from IPython.core.display import clear_output\n",
    "from IPython.display import display, Javascript\n",
    "# próxima linha faz plotar o gráfico dentro do notebook\n",
    "%matplotlib inline   "
   ]
  },
  {
   "cell_type": "markdown",
   "metadata": {},
   "source": [
    " <span style=\"color:red\">Você dever ...</span>"
   ]
  },
  {
   "cell_type": "code",
   "execution_count": 2,
   "metadata": {
    "button": false,
    "new_sheet": false,
    "run_control": {
     "read_only": false
    }
   },
   "outputs": [
    {
     "data": {
      "text/plain": [
       "('USB0::0xF4ED::0xEE3A::388C14164::INSTR',\n",
       " 'USB0::0x0699::0x03B0::C011175::INSTR',\n",
       " 'ASRL1::INSTR')"
      ]
     },
     "execution_count": 2,
     "metadata": {},
     "output_type": "execute_result"
    }
   ],
   "source": [
    "# imprime os recursos para ter certeza que os instrumentos estão conectados\n",
    "visa.ResourceManager().list_resources()"
   ]
  },
  {
   "cell_type": "code",
   "execution_count": 3,
   "metadata": {
    "button": false,
    "new_sheet": false,
    "run_control": {
     "read_only": false
    }
   },
   "outputs": [
    {
     "name": "stdout",
     "output_type": "stream",
     "text": [
      "Gerador de Funções conectado! Id = *IDN BK Precision,4052,388C14164,1.01.01.31R1,02-00-00-22-26\n",
      "Osciloscópio conectado! Id = TEKTRONIX,TBS 1062,C011175,CF:91.1CT FV:v26.01\n"
     ]
    }
   ],
   "source": [
    "'''Inicializa classes para controlar instrumentos'''\n",
    "func_gen = pylef.BK4052()          # definição do gerador de funções\n",
    "scope = pylef.TektronixTBS1062()   # definição do osciloscópio"
   ]
  },
  {
   "cell_type": "code",
   "execution_count": 45,
   "metadata": {
    "collapsed": true
   },
   "outputs": [],
   "source": [
    "%matplotlib inline"
   ]
  },
  {
   "cell_type": "code",
   "execution_count": 9,
   "metadata": {},
   "outputs": [
    {
     "data": {
      "image/png": "[encoded data removed]",
      "text/plain": [
       "<matplotlib.figure.Figure at 0x107b1c390>"
      ]
     },
     "metadata": {},
     "output_type": "display_data"
    },
    {
     "name": "stdout",
     "output_type": "stream",
     "text": [
      "Fim! Tempo total de medida=8.83406 s\n"
     ]
    }
   ],
   "source": [
    "Vpp =2.0      # Tensão pico-a-pico na saida do gerador\n",
    "Nfreq = 3   # frequências número de pontos\n",
    "freq0 = 100   # frequências inicial\n",
    "freq1 = 1e5  # frequências final\n",
    "figure,freq,Vpp1,Vpp2,phase=sweep_frequency(freq0, freq1, Nfreq, spacing='log', average=16)"
   ]
  },
  {
   "cell_type": "code",
   "execution_count": 8,
   "metadata": {
    "button": false,
    "new_sheet": false,
    "run_control": {
     "read_only": false
    }
   },
   "outputs": [],
   "source": [
    "'''\n",
    "--------------------------\n",
    "Funções para graficar ao vivo e adquirir dados\n",
    "NÃO ALTERE NADA NESTA CÉLULA\n",
    "--------------------------\n",
    "'''\n",
    "#***********************************************\n",
    "#***********************************************\n",
    "def plot_bode(freq,phase,T,T_dB,spacing='log'):\n",
    "    '''\n",
    "    Função para graficar transmistância e fase\n",
    "    ===============\n",
    "    Uso simples:\n",
    "    >>> figure = plot_bode(freq,phase,T,T_dB,spacing)\n",
    "    entrada:\n",
    "    --------\n",
    "    freq: vetor de frequências (lista ou numpy.array)\n",
    "    phase: vetor de fases (lista ou numpy.array)\n",
    "    T: vetor de transmitância linear (lista ou numpy.array)\n",
    "    T_dB: vetor de transmitância em decibéis (lista ou numpy.array)\n",
    "    spacing (opcional): 'linear' (espaçamento linear) ou 'log' (espaçamento logarítmico); por padrao o espaçamento é linear\n",
    "    --------\n",
    "    saída:\n",
    "    figure:objeto gráfico do Matplotlib\n",
    "    '''\n",
    "    #Identificando se é linear ou log\n",
    "    npt = len(T_dB)\n",
    "    fig, ax = plt.subplots(2, sharex=True)\n",
    "    if spacing=='log':\n",
    "        y=T_dB\n",
    "        y_label='Transmissão (dB)'\n",
    "    elif spacing=='linear':\n",
    "        y=T\n",
    "        y_label='Transmissão'\n",
    "    #-----------------------------------\n",
    "    #TRANSMISSION PLOT\n",
    "    #-----------------------------------\n",
    "    ax[0] = plt.subplot(211)  # define um eixo\n",
    "    ax[0].plot(freq[0:npt], y[0:npt], 'ko')   # plota a transmissão  \n",
    "    ax[0].set_xscale(spacing)   # seta a escala de x para logaritmica\n",
    "    # Por que não usamos escala log no eixo y também?\n",
    "    #ax[0].set_xlabel('frequência (Hz)')   # seta escala do eixo x\n",
    "    ax[0].set_ylabel(y_label)   # seta escala do eixo y\n",
    "    plt.xlim((freq.min(),freq.max()))\n",
    "    #-----------------------------------\n",
    "    #PHASE PLOT\n",
    "    #-----------------------------------\n",
    "    ax[1] = plt.subplot(212)  # define um eixo\n",
    "    ax[1].plot(freq[0:npt], phase[0:npt], 'ro')   # plota a transmissão  \n",
    "    ax[1].set_xscale(spacing)   # seta a escala de x para logaritmica\n",
    "    # Por que não usamos escala log no eixo y também?\n",
    "    ax[1].set_xlabel('frequência (Hz)')   # seta escala do eixo x\n",
    "    ax[1].set_ylabel('Fase (graus)')   # seta escala do eixo y\n",
    "    plt.xlim((freq.min(),freq.max()))\n",
    "    plt.ylim((-180,180))\n",
    "    #------------------------------------\n",
    "    clear_output(True)\n",
    "    display(fig)\n",
    "    plt.close() \n",
    "    return fig\n",
    "#***********************************************\n",
    "#***********************************************\n",
    "def sweep_frequency(freq0, freq1, Nfreq, spacing = 'linear', average = 4):\n",
    "    '''\n",
    "    Função para realizar um sweep e fazer gráfico\n",
    "    ===============\n",
    "    Uso simples:\n",
    "    >>> figure, freq, vpp1, vpp2, phase = sweep_frequency(freq0,freq1,Nfreq,spacing = 'linear')\n",
    "    figure: figura\n",
    "    freq0: frequência inicial (Hz)\n",
    "    freq1: frequencia final (Hz)\n",
    "    Nfreq: número de pontos no vetor de frequências\n",
    "    spacing (opcional): 'linear' (espaçamento linear) ou 'log' (espaçamento logarítmico)\n",
    "    average: número de médias a serem realizadas\n",
    "    '''\n",
    "    display(Javascript(\"\"\"\n",
    "    require(\n",
    "    [\"base/js/dialog\"], \n",
    "    function(dialog) {\n",
    "        dialog.modal({\n",
    "            title: 'Hello world',\n",
    "            body: 'Hi, lorem ipsum and such',\n",
    "            buttons: {\n",
    "                'kthxbye': {}\n",
    "                }\n",
    "            });\n",
    "        }\n",
    "    );\"\"\"))\n",
    "    start=time.time() # conta tempo\n",
    "    #------------------\n",
    "    #constroi vetor de frequencias\n",
    "    #------------------\n",
    "    if spacing == 'linear':\n",
    "        freq = np.linspace(freq0, freq1, Nfreq, endpoint = True)  # varredura logaritmica\n",
    "    elif spacing == 'log':\n",
    "        freq = np.logspace(np.log10(freq0), np.log10(freq1), Nfreq, endpoint = True)  # varredura logaritmica\n",
    "    else:\n",
    "        raise ValueError('O espaçamento entre os pontos deve ser linear ou log')\n",
    "    #### Aquisição de dados!! ####\n",
    "    scope.set_average_number(average)  # ajusta o número de médias\n",
    "    scope.set_average()    # turn average ON\n",
    "    #-----------------\n",
    "    Vpp1, Vpp2 = [], []    # listas para guardar as variáveis\n",
    "    #phase1, phase2 = [], []    # listas para guardar as variáveis\n",
    "    phase = []   # listas para guardar as variáveis\n",
    "    ### aquisição de dados no gerador com varredura de frequência\n",
    "    scope.write('MEASUREment:MEAS1:TYPE NONE')\n",
    "    scope.write('MEASUREment:MEAS2:TYPE NONE')\n",
    "    scope.write('MEASUREment:MEAS3:TYPE NONE')\n",
    "    scope.write('MEASUREment:MEAS4:TYPE NONE')\n",
    "    scope.write('MEASUREment:MEAS5:TYPE NONE')\n",
    "    for m, freqP in enumerate(list(freq)):  # loop de aquisição\n",
    "        #print('Medida ' + str(m + 1))\n",
    "        print('Frequencia atual={:2g} Hz'.format(freq[m]))\n",
    "        start=time.time()\n",
    "        ### ajuste dos instrumentos\n",
    "        func_gen.ch1.set_frequency(freqP)   # muda a frequência\n",
    "        periodP = 1./freqP   # período da onda\n",
    "        scope.set_horizontal_scale(periodP/4.)  # escala horizontal = 1/4 período (2.5 oscilações em tela)\n",
    "        scope.ch1.set_smart_scale()    #  rescala o canal 1\n",
    "        scope.ch2.set_smart_scale()    #  rescala o canal 2\n",
    "        ### aquisição de dados\n",
    "        Vpp1.append(scope.ch1.measure.Vpp()) # acumula a medida do Vpp no canal 1\n",
    "        phase.append(-scope.ch1.measure.phase()) # acumula a medida da fase no canal 1    \n",
    "        Vpp2.append(scope.ch2.measure.Vpp())  # acumula a medida do Vpp no canal 2\n",
    "        #---------plotting stuff-------\n",
    "        T = (np.array(Vpp2)/np.array(Vpp1))**2   # cálculo da transmissão \n",
    "        T_dB = 10*np.log10(T)  # transmissão em dB\n",
    "        # plota o diagrama de bode para a transmissão e exporta em png\n",
    "        fig = plot_bode(freq,phase,T,T_dB,spacing)\n",
    "        #-------\n",
    "    print('Fim! Tempo total de medida={:2g} s'.format(time.time()-start))\n",
    "    Vpp1 = np.array(Vpp1)  # convete a lista em array\n",
    "    Vpp2 = np.array(Vpp2)  # convete a lista em array\n",
    "    phase = np.array(phase)  # convete a lista em array\n",
    "    return fig, freq, Vpp1, Vpp2, phase"
   ]
  },
  {
   "cell_type": "markdown",
   "metadata": {
    "button": false,
    "new_sheet": false,
    "run_control": {
     "read_only": false
    }
   },
   "source": [
    "<span style='color:red'>Veja como a função de varredura funciona:</span>"
   ]
  },
  {
   "cell_type": "code",
   "execution_count": null,
   "metadata": {
    "button": false,
    "collapsed": true,
    "new_sheet": false,
    "run_control": {
     "read_only": false
    }
   },
   "outputs": [],
   "source": [
    "?sweep_frequency"
   ]
  },
  {
   "cell_type": "code",
   "execution_count": 19,
   "metadata": {},
   "outputs": [
    {
     "name": "stdout",
     "output_type": "stream",
     "text": [
      "Fim! Tempo total de medida=203.434 s\n"
     ]
    }
   ],
   "source": [
    "  print('Fim! Tempo total de medida={:2g} s'.format(203.434))"
   ]
  },
  {
   "cell_type": "code",
   "execution_count": 34,
   "metadata": {},
   "outputs": [
    {
     "data": {
      "text/plain": [
       "-2.877122879"
      ]
     },
     "execution_count": 34,
     "metadata": {},
     "output_type": "execute_result"
    }
   ],
   "source": [
    "scope.ch1.measure.phase()"
   ]
  },
  {
   "cell_type": "markdown",
   "metadata": {
    "button": false,
    "new_sheet": false,
    "run_control": {
     "read_only": false
    }
   },
   "source": [
    "## 2. Executando a varredura"
   ]
  },
  {
   "cell_type": "code",
   "execution_count": 23,
   "metadata": {
    "button": false,
    "collapsed": true,
    "new_sheet": false,
    "run_control": {
     "read_only": false
    }
   },
   "outputs": [],
   "source": [
    "Vpp = 1.0      # Tensão pico-a-pico na saida do gerador\n",
    "Nfreq = 10    # frequências número de pontos\n",
    "freq0 = 100   # frequências inicial\n",
    "freq1 = 1e5  # frequências final"
   ]
  },
  {
   "cell_type": "code",
   "execution_count": 7,
   "metadata": {
    "button": false,
    "new_sheet": false,
    "run_control": {
     "read_only": false
    }
   },
   "outputs": [
    {
     "ename": "ValueError",
     "evalue": "O canal CH2 está desligado!",
     "output_type": "error",
     "traceback": [
      "\u001b[0;31m---------------------------------------------------------------------------\u001b[0m",
      "\u001b[0;31mValueError\u001b[0m                                Traceback (most recent call last)",
      "\u001b[0;32m<ipython-input-7-0ef482729719>\u001b[0m in \u001b[0;36m<module>\u001b[0;34m()\u001b[0m\n\u001b[1;32m     21\u001b[0m \u001b[0mscope\u001b[0m\u001b[0;34m.\u001b[0m\u001b[0mset_horizontal_scale\u001b[0m\u001b[0;34m(\u001b[0m\u001b[0;34m(\u001b[0m\u001b[0;36m1\u001b[0m\u001b[0;34m/\u001b[0m\u001b[0mfreq0\u001b[0m\u001b[0;34m)\u001b[0m\u001b[0;34m/\u001b[0m\u001b[0;36m4.\u001b[0m\u001b[0;34m)\u001b[0m  \u001b[0;31m# escala horizontal = 1/4 período (2.5 oscilações em tela)\u001b[0m\u001b[0;34m\u001b[0m\u001b[0m\n\u001b[1;32m     22\u001b[0m \u001b[0mscope\u001b[0m\u001b[0;34m.\u001b[0m\u001b[0mch1\u001b[0m\u001b[0;34m.\u001b[0m\u001b[0mset_smart_scale\u001b[0m\u001b[0;34m(\u001b[0m\u001b[0;34m)\u001b[0m  \u001b[0;31m# rescala o canal 1\u001b[0m\u001b[0;34m\u001b[0m\u001b[0m\n\u001b[0;32m---> 23\u001b[0;31m \u001b[0mscope\u001b[0m\u001b[0;34m.\u001b[0m\u001b[0mch2\u001b[0m\u001b[0;34m.\u001b[0m\u001b[0mset_smart_scale\u001b[0m\u001b[0;34m(\u001b[0m\u001b[0;34m)\u001b[0m  \u001b[0;31m# rescala o canal 2\u001b[0m\u001b[0;34m\u001b[0m\u001b[0m\n\u001b[0m",
      "\u001b[0;32m/Library/Frameworks/Python.framework/Versions/3.6/lib/python3.6/site-packages/pylef/scope.py\u001b[0m in \u001b[0;36mset_smart_scale\u001b[0;34m(self, log_step, Vmax, D)\u001b[0m\n\u001b[1;32m    394\u001b[0m         \u001b[0;31m#test whether channel is on\u001b[0m\u001b[0;34m\u001b[0m\u001b[0;34m\u001b[0m\u001b[0m\n\u001b[1;32m    395\u001b[0m         \u001b[0;32mif\u001b[0m \u001b[0mself\u001b[0m\u001b[0;34m.\u001b[0m\u001b[0mstate\u001b[0m\u001b[0;34m(\u001b[0m\u001b[0;34m)\u001b[0m \u001b[0;34m==\u001b[0m \u001b[0;34m'off'\u001b[0m\u001b[0;34m:\u001b[0m\u001b[0;34m\u001b[0m\u001b[0m\n\u001b[0;32m--> 396\u001b[0;31m             \u001b[0;32mraise\u001b[0m \u001b[0mValueError\u001b[0m\u001b[0;34m(\u001b[0m\u001b[0;34m'O canal %s está desligado!'\u001b[0m \u001b[0;34m%\u001b[0m \u001b[0mself\u001b[0m\u001b[0;34m.\u001b[0m\u001b[0mchannel\u001b[0m\u001b[0;34m)\u001b[0m\u001b[0;34m\u001b[0m\u001b[0m\n\u001b[0m\u001b[1;32m    397\u001b[0m         \u001b[0mkeep_loop\u001b[0m \u001b[0;34m=\u001b[0m \u001b[0;32mTrue\u001b[0m\u001b[0;34m\u001b[0m\u001b[0m\n\u001b[1;32m    398\u001b[0m         \u001b[0;32mwhile\u001b[0m \u001b[0mkeep_loop\u001b[0m\u001b[0;34m:\u001b[0m\u001b[0;34m\u001b[0m\u001b[0m\n",
      "\u001b[0;31mValueError\u001b[0m: O canal CH2 está desligado!"
     ]
    }
   ],
   "source": [
    "#---------------------------------------\n",
    "# Pré-aquisição\n",
    "#---------------------------------------\n",
    "# mude a onda para uma senóide!\n",
    "func_gen.ch1.set_function('sine')\n",
    "# ajuste o trigger externo\n",
    "scope.trigger.set_source('ch1')  # ajusta o trigger para externo no osciloscópio\n",
    "## ajusta média nos canais\n",
    "scope.set_average_number(4)  # ajusta o número de médias\n",
    "scope.set_average()    # turn average ON\n",
    "#scope.set_sample()       # turn average OFF\n",
    "#---------------------------------------\n",
    "## parâmetros inicias do gerador\n",
    "func_gen.ch1.set_frequency(freq0) \n",
    "func_gen.ch1.set_Vpp(Vpp)\n",
    "func_gen.ch1.set_offset(0.0)\n",
    "func_gen.ch1.set_phase(0.0)\n",
    "## tenha certeza que o gerador está ligado e que o canal 1 está na escala certa\n",
    "func_gen.ch1.turn_on()   # liga o canal 1\n",
    "#---------------------------------------\n",
    "scope.set_horizontal_scale((1/freq0)/4.)  # escala horizontal = 1/4 período (2.5 oscilações em tela)\n",
    "scope.ch1.set_smart_scale()  # rescala o canal 1\n",
    "scope.ch2.set_smart_scale()  # rescala o canal 2"
   ]
  },
  {
   "cell_type": "markdown",
   "metadata": {
    "button": false,
    "new_sheet": false,
    "run_control": {
     "read_only": false
    }
   },
   "source": [
    "### <span style=\"color:red\">Importante</span>\n",
    "\n",
    "* Antes de executar a próxima linha de código, verifique se o gerador e o osciloscópio estão nas configurações esperadas. \n",
    "\n",
    "* Tenha certeza que você entendeu o que cada um dos comandos acima está fazendo.\n",
    "\n",
    "* Identifique quais botões do osciloscópio/gerador realizam as funções similares às executadas acima"
   ]
  },
  {
   "cell_type": "code",
   "execution_count": 25,
   "metadata": {
    "button": false,
    "new_sheet": false,
    "run_control": {
     "read_only": false
    }
   },
   "outputs": [
    {
     "data": {
      "image/png": "[encoded data removed]",
      "text/plain": [
       "<matplotlib.figure.Figure at 0x10bc35eb8>"
      ]
     },
     "metadata": {},
     "output_type": "display_data"
    },
    {
     "name": "stdout",
     "output_type": "stream",
     "text": [
      "tempo de medida (s)=  5.6930460929870605\n"
     ]
    }
   ],
   "source": [
    "Vpp =2.0      # Tensão pico-a-pico na saida do gerador\n",
    "Nfreq = 10    # frequências número de pontos\n",
    "freq0 = 100   # frequências inicial\n",
    "freq1 = 1e5  # frequências final\n",
    "figure,freq,Vpp1,Vpp2,phase=sweep_frequency(freq0, freq1, Nfreq, spacing='log')"
   ]
  },
  {
   "cell_type": "markdown",
   "metadata": {
    "button": false,
    "new_sheet": false,
    "run_control": {
     "read_only": false
    }
   },
   "source": [
    "## 3. Organizando os dados em ```Dataframe``` do Pandas"
   ]
  },
  {
   "cell_type": "code",
   "execution_count": 26,
   "metadata": {
    "button": false,
    "collapsed": true,
    "new_sheet": false,
    "run_control": {
     "read_only": false
    }
   },
   "outputs": [],
   "source": [
    "#calculando a transmitância\n",
    "T=Vpp2/Vpp1   # cálculo da transmissão \n",
    "T_dB = 20*np.log10(T)  # transmissão em dB\n",
    "#gerando tabelas\n",
    "dados = pd.DataFrame()   # inicializa um dataframe do pandas\n",
    "dados['Vpp1 (V)'], dados['Vpp2 (V)'] = Vpp1, Vpp2\n",
    "dados['fase (Ch1-Ch2) (graus)']= phase\n",
    "dados['frequencia (Hz)'], dados['T'] , dados['T_dB'] = freq, T, T_dB "
   ]
  },
  {
   "cell_type": "markdown",
   "metadata": {
    "button": false,
    "new_sheet": false,
    "run_control": {
     "read_only": false
    }
   },
   "source": [
    "Verificando o resultado, a tabela resultante do comando abaixo é o que você obterá no seu arquivo! "
   ]
  },
  {
   "cell_type": "code",
   "execution_count": 34,
   "metadata": {
    "button": false,
    "new_sheet": false,
    "run_control": {
     "read_only": false
    }
   },
   "outputs": [
    {
     "data": {
      "text/html": [
       "<div>\n",
       "<table border=\"1\" class=\"dataframe\">\n",
       "  <thead>\n",
       "    <tr style=\"text-align: right;\">\n",
       "      <th></th>\n",
       "      <th>Vpp1 (V)</th>\n",
       "      <th>Vpp2 (V)</th>\n",
       "      <th>fase (Ch1-Ch2) (graus)</th>\n",
       "      <th>frequencia (Hz)</th>\n",
       "      <th>T</th>\n",
       "      <th>T_dB</th>\n",
       "    </tr>\n",
       "  </thead>\n",
       "  <tbody>\n",
       "    <tr>\n",
       "      <th>0</th>\n",
       "      <td>10.131415</td>\n",
       "      <td>10.221927</td>\n",
       "      <td>1.800000</td>\n",
       "      <td>100.000000</td>\n",
       "      <td>1.008934</td>\n",
       "      <td>0.077253</td>\n",
       "    </tr>\n",
       "    <tr>\n",
       "      <th>1</th>\n",
       "      <td>10.131415</td>\n",
       "      <td>10.127982</td>\n",
       "      <td>-1.860465</td>\n",
       "      <td>215.443469</td>\n",
       "      <td>0.999661</td>\n",
       "      <td>-0.002944</td>\n",
       "    </tr>\n",
       "    <tr>\n",
       "      <th>2</th>\n",
       "      <td>10.068876</td>\n",
       "      <td>10.096416</td>\n",
       "      <td>-6.679036</td>\n",
       "      <td>464.158883</td>\n",
       "      <td>1.002735</td>\n",
       "      <td>0.023724</td>\n",
       "    </tr>\n",
       "  </tbody>\n",
       "</table>\n",
       "</div>"
      ],
      "text/plain": [
       "    Vpp1 (V)   Vpp2 (V)  fase (Ch1-Ch2) (graus)  frequencia (Hz)         T  \\\n",
       "0  10.131415  10.221927                1.800000       100.000000  1.008934   \n",
       "1  10.131415  10.127982               -1.860465       215.443469  0.999661   \n",
       "2  10.068876  10.096416               -6.679036       464.158883  1.002735   \n",
       "\n",
       "       T_dB  \n",
       "0  0.077253  \n",
       "1 -0.002944  \n",
       "2  0.023724  "
      ]
     },
     "execution_count": 34,
     "metadata": {},
     "output_type": "execute_result"
    }
   ],
   "source": [
    "dados.head(3) # mostra as três primeiras linhas..."
   ]
  },
  {
   "cell_type": "markdown",
   "metadata": {
    "button": false,
    "new_sheet": false,
    "run_control": {
     "read_only": false
    }
   },
   "source": [
    "### Salvando arquivo"
   ]
  },
  {
   "cell_type": "code",
   "execution_count": 35,
   "metadata": {
    "button": false,
    "new_sheet": false,
    "run_control": {
     "read_only": false
    }
   },
   "outputs": [
    {
     "name": "stdout",
     "output_type": "stream",
     "text": [
      "pasta atual: /Users/gsw/Dropbox/Disciplinas/f429/2017_1s/python\n"
     ]
    }
   ],
   "source": [
    "## parametros de varredura\n",
    "PATH = 'meu_experimento/'     # pasta onde salvar todos os arquivos\n",
    "## Não coloque .dat aqui, pois as extensões são adicionadas automaticamente\n",
    "nome_arquivo = 'exp_1a'    # nome prefixo dos arquivos  \n",
    "##--------------------------------------------------------\n",
    "#Cria a pasta no computador, veja a variável PATH\n",
    "try: \n",
    "    os.makedirs(PATH)     # make new directory unless it already exists\n",
    "except OSError:\n",
    "    if not os.path.isdir(PATH):\n",
    "        raise\n",
    "#qual pasta estou?\n",
    "print('pasta atual:',os.getcwd())        \n",
    "time_suf = time.strftime('_%H_%M_%S', time.localtime(time.time())) \n",
    "nome_fig = PATH + nome_arquivo + '_bode' + time_suf + '.png'\n",
    "nome_csv = PATH + nome_arquivo + '_dados' + time_suf + '.dat'\n",
    "#Salvando\n",
    "figure.savefig(nome_fig, bbox_inches = 'tight')  # salva figura na pasta de trabalho\n",
    "dados.to_csv(nome_csv, sep = '\\t')   # \\t significa que o separador é uma tabulação, index=False remove os indices da coluna"
   ]
  },
  {
   "cell_type": "markdown",
   "metadata": {
    "button": false,
    "new_sheet": false,
    "run_control": {
     "read_only": false
    }
   },
   "source": [
    "## 4. Encerrando comunicação com os instrumentos"
   ]
  },
  {
   "cell_type": "code",
   "execution_count": 36,
   "metadata": {
    "button": false,
    "collapsed": true,
    "new_sheet": false,
    "run_control": {
     "read_only": false
    }
   },
   "outputs": [],
   "source": [
    "''' encerra a comunicação osciloscópio e o gerador de funções '''\n",
    "scope.close()\n",
    "func_gen.close()\n",
    "'''APÓS ESTE COMANDO É NECESSÁRIO ABRIR NOVAMENTE CASO QUEIRA COMUNICAR DE NOVO\n",
    "'''"
   ]
  }
 ],
 "metadata": {
  "kernelspec": {
   "display_name": "Python 3",
   "language": "python",
   "name": "python3"
  },
  "language_info": {
   "codemirror_mode": {
    "name": "ipython",
    "version": 3
   },
   "file_extension": ".py",
   "mimetype": "text/x-python",
   "name": "python",
   "nbconvert_exporter": "python",
   "pygments_lexer": "ipython3",
   "version": "3.6.1"
  }
 },
 "nbformat": 4,
 "nbformat_minor": 1
}
