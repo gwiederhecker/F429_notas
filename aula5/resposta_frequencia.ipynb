{
 "cells": [
  {
   "cell_type": "markdown",
   "metadata": {
    "button": false,
    "deletable": true,
    "new_sheet": false,
    "run_control": {
     "read_only": false
    }
   },
   "source": [
    "# Exemplo de programa para varredura em frequência"
   ]
  },
  {
   "cell_type": "markdown",
   "metadata": {
    "button": false,
    "deletable": true,
    "new_sheet": false,
    "run_control": {
     "read_only": false
    }
   },
   "source": [
    "## 1.Inicialização"
   ]
  },
  {
   "cell_type": "code",
   "execution_count": 1,
   "metadata": {
    "button": false,
    "collapsed": true,
    "deletable": true,
    "new_sheet": false,
    "run_control": {
     "read_only": false
    }
   },
   "outputs": [],
   "source": [
    "'''importa as bibliotecas necessárias'''\n",
    "import pylef   # importar pylef \n",
    "import visa    # importar a bilioteca pyVISA para lidar com virtualização de instrumentos\n",
    "import matplotlib.pyplot as plt  # importar a bilioteca pyplot para fazer gráficos\n",
    "import numpy as np   # importar a biblioteca Numpy para lidar com matrizes\n",
    "import time          # importar a bilioteca para funções temporais\n",
    "import pandas as pd   # importa bilioteca pandas para  lidar com processamento de dados\n",
    "import os            # biblioteca para lidar com diretórios\n",
    "#import sys \n",
    "#bibliotecas para atualizacoa de grafico\n",
    "from IPython.core.display import clear_output\n",
    "from IPython.display import display\n",
    "# próxima linha faz plotar o gráfico dentro do notebook\n",
    "%matplotlib inline   "
   ]
  },
  {
   "cell_type": "code",
   "execution_count": 2,
   "metadata": {
    "button": false,
    "collapsed": false,
    "deletable": true,
    "new_sheet": false,
    "run_control": {
     "read_only": false
    }
   },
   "outputs": [
    {
     "data": {
      "text/plain": [
       "('USB0::0x0699::0x03B0::C011206::INSTR',\n",
       " 'USB0::0xF4ED::0xEE3A::389K15134::INSTR',\n",
       " 'ASRL1::INSTR')"
      ]
     },
     "execution_count": 2,
     "metadata": {},
     "output_type": "execute_result"
    }
   ],
   "source": [
    "# imprime os recursos para ter certeza que os instrumentos estão conectados\n",
    "visa.ResourceManager().list_resources()"
   ]
  },
  {
   "cell_type": "code",
   "execution_count": 3,
   "metadata": {
    "button": false,
    "collapsed": false,
    "deletable": true,
    "new_sheet": false,
    "run_control": {
     "read_only": false
    }
   },
   "outputs": [
    {
     "name": "stdout",
     "output_type": "stream",
     "text": [
      "Gerador de Funções conectado! Id = *IDN BK Precision,SDG1010,389K15134,1.01.01.37R5,04-00-00-23-28\n",
      "Osciloscópio conectado! Id = TEKTRONIX,TBS 1062,C011206,CF:91.1CT FV:v26.01\n"
     ]
    }
   ],
   "source": [
    "'''Inicializa classes para controlar instrumentos'''\n",
    "func_gen = pylef.BK4052()          # definição do gerador de funções\n",
    "scope = pylef.TektronixTBS1062()   # definição do osciloscópio"
   ]
  },
  {
   "cell_type": "code",
   "execution_count": 4,
   "metadata": {
    "button": false,
    "collapsed": false,
    "deletable": true,
    "new_sheet": false,
    "run_control": {
     "read_only": false
    }
   },
   "outputs": [],
   "source": [
    "'''\n",
    "--------------------------\n",
    "Funções para graficar ao vivo e adquirir dados\n",
    "NÃO ALTERE NADA NESTA CÉLULA\n",
    "--------------------------\n",
    "'''\n",
    "#***********************************************\n",
    "#***********************************************\n",
    "def plot_bode(freq,phase,T,T_dB,spacing='log'):\n",
    "    '''\n",
    "    Função para graficar transmistância e fase\n",
    "    ===============\n",
    "    Uso simples:\n",
    "    >>> figure = plot_bode(freq,phase,T,T_dB,spacing)\n",
    "    entrada:\n",
    "    --------\n",
    "    freq: vetor de frequências (lista ou numpy.array)\n",
    "    phase: vetor de fases (lista ou numpy.array)\n",
    "    T: vetor de transmitância linear (lista ou numpy.array)\n",
    "    T_dB: vetor de transmitância em decibéis (lista ou numpy.array)\n",
    "    spacing (opcional): 'linear' (espaçamento linear) ou 'log' (espaçamento logarítmico); por padrao o espaçamento é linear\n",
    "    --------\n",
    "    saída:\n",
    "    figure:objeto gráfico do Matplotlib\n",
    "    '''\n",
    "    #Identificando se é linear ou log\n",
    "    npt = len(T_dB)\n",
    "    fig, ax = plt.subplots(2, sharex=True)\n",
    "    if spacing=='log':\n",
    "        y=T_dB\n",
    "        y_label='Transmissão (dB)'\n",
    "    elif spacing=='linear':\n",
    "        y=T\n",
    "        y_label='Transmissão'\n",
    "    #-----------------------------------\n",
    "    #TRANSMISSION PLOT\n",
    "    #-----------------------------------\n",
    "    ax[0] = plt.subplot(211)  # define um eixo\n",
    "    ax[0].plot(freq[0:npt], y[0:npt], 'ko')   # plota a transmissão  \n",
    "    ax[0].set_xscale(spacing)   # seta a escala de x para logaritmica\n",
    "    # Por que não usamos escala log no eixo y também?\n",
    "    #ax[0].set_xlabel('frequência (Hz)')   # seta escala do eixo x\n",
    "    ax[0].set_ylabel(y_label)   # seta escala do eixo y\n",
    "    plt.xlim((freq.min(),freq.max()))\n",
    "    #-----------------------------------\n",
    "    #PHASE PLOT\n",
    "    #-----------------------------------\n",
    "    ax[1] = plt.subplot(212)  # define um eixo\n",
    "    ax[1].plot(freq[0:npt], phase[0:npt], 'ro')   # plota a transmissão  \n",
    "    ax[1].set_xscale(spacing)   # seta a escala de x para logaritmica\n",
    "    # Por que não usamos escala log no eixo y também?\n",
    "    ax[1].set_xlabel('frequência (Hz)')   # seta escala do eixo x\n",
    "    ax[1].set_ylabel('Fase (graus)')   # seta escala do eixo y\n",
    "    plt.xlim((freq.min(),freq.max()))\n",
    "    #------------------------------------\n",
    "    clear_output(True)\n",
    "    display(fig)\n",
    "    plt.close() \n",
    "    return fig\n",
    "#***********************************************\n",
    "#***********************************************\n",
    "def sweep_frequency(freq0, freq1, Nfreq, spacing = 'linear'):\n",
    "    '''\n",
    "    Função para realizar um sweep e fazer gráfico\n",
    "    ===============\n",
    "    Uso simples:\n",
    "    >>> figure, freq, vpp1, vpp2, phase = sweep_frequency(freq0,freq1,Nfreq,spacing = 'linear')\n",
    "    figure: figura\n",
    "    freq0: frequência inicial (Hz)\n",
    "    freq1: frequencia final (Hz)\n",
    "    Nfreq: número de pontos no vetor de frequências\n",
    "    spacing (opcional): 'linear' (espaçamento linear) ou 'log' (espaçamento logarítmico)\n",
    "    '''\n",
    "    start=time.time() # conta tempo\n",
    "    #------------------\n",
    "    #constroi vetor de frequencias\n",
    "    #------------------\n",
    "    if spacing == 'linear':\n",
    "        freq = np.linspace(freq0, freq1, Nfreq, endpoint = True)  # varredura logaritmica\n",
    "    elif spacing == 'log':\n",
    "        freq = np.logspace(np.log10(freq0), np.log10(freq1), Nfreq, endpoint = True)  # varredura logaritmica\n",
    "    else:\n",
    "        raise ValueError('O espaçamento entre os pontos deve ser linear ou log')\n",
    "    #### Aquisição de dados!! ####\n",
    "    scope.set_average_number(4)  # ajusta o número de médias\n",
    "    scope.set_average()    # turn average ON\n",
    "    #-----------------\n",
    "    Vpp1, Vpp2 = [], []    # listas para guardar as variáveis\n",
    "    #phase1, phase2 = [], []    # listas para guardar as variáveis\n",
    "    phase = []   # listas para guardar as variáveis\n",
    "    ### aquisição de dados no gerador com varredura de frequência\n",
    "    scope.write('MEASUREment:MEAS1:TYPE NONE')\n",
    "    scope.write('MEASUREment:MEAS2:TYPE NONE')\n",
    "    scope.write('MEASUREment:MEAS3:TYPE NONE')\n",
    "    scope.write('MEASUREment:MEAS4:TYPE NONE')\n",
    "    scope.write('MEASUREment:MEAS5:TYPE NONE')\n",
    "    for m, freqP in enumerate(list(freq)):  # loop de aquisição\n",
    "        #print('Medida ' + str(m + 1))\n",
    "        print('freq=',freq[m])\n",
    "        start=time.time()\n",
    "        ### ajuste dos instrumentos\n",
    "        func_gen.ch1.set_frequency(freqP)   # muda a frequência\n",
    "        periodP = 1./freqP   # período da onda\n",
    "        scope.set_horizontal_scale(periodP/4.)  # escala horizontal = 1/4 período (2.5 oscilações em tela)\n",
    "        scope.ch1.set_smart_scale()    #  rescala o canal 1\n",
    "        scope.ch2.set_smart_scale()    #  rescala o canal 2\n",
    "        ### aquisição de dados\n",
    "        Vpp1.append(scope.ch1.measure.Vpp()) # acumula a medida do Vpp no canal 1\n",
    "        phase.append(-scope.ch1.measure.phase()) # acumula a medida da fase no canal 1    \n",
    "        Vpp2.append(scope.ch2.measure.Vpp())  # acumula a medida do Vpp no canal 2\n",
    "        #---------plotting stuff-------\n",
    "        T = (np.array(Vpp2)/np.array(Vpp1))**2   # cálculo da transmissão \n",
    "        T_dB = 10*np.log10(T)  # transmissão em dB\n",
    "        # plota o diagrama de bode para a transmissão e exporta em png\n",
    "        fig = plot_bode(freq,phase,T,T_dB,spacing)\n",
    "        #-------\n",
    "    print('tempo de medida (s)= ',time.time()-start)   \n",
    "    Vpp1 = np.array(Vpp1)  # convete a lista em array\n",
    "    Vpp2 = np.array(Vpp2)  # convete a lista em array\n",
    "    phase = np.array(phase)  # convete a lista em array\n",
    "    return fig, freq, Vpp1, Vpp2, phase"
   ]
  },
  {
   "cell_type": "markdown",
   "metadata": {
    "button": false,
    "deletable": true,
    "new_sheet": false,
    "run_control": {
     "read_only": false
    }
   },
   "source": [
    "<span style='color:red'>Veja como a função de varredura funciona:</span>"
   ]
  },
  {
   "cell_type": "code",
   "execution_count": null,
   "metadata": {
    "button": false,
    "collapsed": true,
    "deletable": true,
    "new_sheet": false,
    "run_control": {
     "read_only": false
    }
   },
   "outputs": [],
   "source": [
    "?sweep_frequency"
   ]
  },
  {
   "cell_type": "markdown",
   "metadata": {
    "button": false,
    "deletable": true,
    "new_sheet": false,
    "run_control": {
     "read_only": false
    }
   },
   "source": [
    "## 2. Executando a varredura"
   ]
  },
  {
   "cell_type": "code",
   "execution_count": 23,
   "metadata": {
    "button": false,
    "collapsed": true,
    "deletable": true,
    "new_sheet": false,
    "run_control": {
     "read_only": false
    }
   },
   "outputs": [],
   "source": [
    "Vpp = 1.0      # Tensão pico-a-pico na saida do gerador\n",
    "Nfreq = 10    # frequências número de pontos\n",
    "freq0 = 100   # frequências inicial\n",
    "freq1 = 1e5  # frequências final"
   ]
  },
  {
   "cell_type": "code",
   "execution_count": 24,
   "metadata": {
    "button": false,
    "collapsed": true,
    "deletable": true,
    "new_sheet": false,
    "run_control": {
     "read_only": false
    }
   },
   "outputs": [],
   "source": [
    "#---------------------------------------\n",
    "# Pré-aquisição\n",
    "#---------------------------------------\n",
    "# mude a onda para uma senóide!\n",
    "func_gen.ch1.set_function('sine')\n",
    "# ajuste o trigger externo\n",
    "scope.trigger.set_source('ch1')  # ajusta o trigger para externo no osciloscópio\n",
    "## ajusta média nos canais\n",
    "scope.set_average_number(4)  # ajusta o número de médias\n",
    "scope.set_average()    # turn average ON\n",
    "#scope.set_sample()       # turn average OFF\n",
    "#---------------------------------------\n",
    "## parâmetros inicias do gerador\n",
    "func_gen.ch1.set_frequency(freq0) \n",
    "func_gen.ch1.set_Vpp(Vpp)\n",
    "func_gen.ch1.set_offset(0.0)\n",
    "func_gen.ch1.set_phase(0.0)\n",
    "## tenha certeza que o gerador está ligado e que o canal 1 está na escala certa\n",
    "func_gen.ch1.turn_on()   # liga o canal 1\n",
    "#---------------------------------------\n",
    "scope.set_horizontal_scale((1/freq0)/4.)  # escala horizontal = 1/4 período (2.5 oscilações em tela)\n",
    "scope.ch1.set_smart_scale()  # rescala o canal 1\n",
    "scope.ch2.set_smart_scale()  # rescala o canal 2"
   ]
  },
  {
   "cell_type": "markdown",
   "metadata": {
    "button": false,
    "deletable": true,
    "new_sheet": false,
    "run_control": {
     "read_only": false
    }
   },
   "source": [
    "### <span style=\"color:red\">Importante</span>\n",
    "\n",
    "* Antes de executar a próxima linha de código, verifique se o gerador e o osciloscópio estão nas configurações esperadas. \n",
    "\n",
    "* Tenha certeza que você entendeu o que cada um dos comandos acima está fazendo.\n",
    "\n",
    "* Identifique quais botões do osciloscópio/gerador realizam as funções similares às executadas acima"
   ]
  },
  {
   "cell_type": "code",
   "execution_count": 25,
   "metadata": {
    "button": false,
    "collapsed": false,
    "deletable": true,
    "new_sheet": false,
    "run_control": {
     "read_only": false
    }
   },
   "outputs": [
    {
     "data": {
      "image/png": "[encoded data removed]",
      "text/plain": [
       "<matplotlib.figure.Figure at 0x10bc35eb8>"
      ]
     },
     "metadata": {},
     "output_type": "display_data"
    },
    {
     "name": "stdout",
     "output_type": "stream",
     "text": [
      "tempo de medida (s)=  5.6930460929870605\n"
     ]
    }
   ],
   "source": [
    "figure,freq,Vpp1,Vpp2,phase=sweep_frequency(freq0, freq1, Nfreq, spacing='log')"
   ]
  },
  {
   "cell_type": "markdown",
   "metadata": {
    "button": false,
    "deletable": true,
    "new_sheet": false,
    "run_control": {
     "read_only": false
    }
   },
   "source": [
    "## 3. Organizando os dados em ```Dataframe``` do Pandas"
   ]
  },
  {
   "cell_type": "code",
   "execution_count": 26,
   "metadata": {
    "button": false,
    "collapsed": true,
    "deletable": true,
    "new_sheet": false,
    "run_control": {
     "read_only": false
    }
   },
   "outputs": [],
   "source": [
    "#calculando a transmitância\n",
    "T=Vpp2/Vpp1   # cálculo da transmissão \n",
    "T_dB = 20*np.log10(T)  # transmissão em dB\n",
    "#gerando tabelas\n",
    "dados = pd.DataFrame()   # inicializa um dataframe do pandas\n",
    "dados['Vpp1 (V)'], dados['Vpp2 (V)'] = Vpp1, Vpp2\n",
    "dados['fase (Ch1-Ch2) (graus)']= phase\n",
    "dados['frequencia (Hz)'], dados['T'] , dados['T_dB'] = freq, T, T_dB "
   ]
  },
  {
   "cell_type": "markdown",
   "metadata": {
    "button": false,
    "deletable": true,
    "new_sheet": false,
    "run_control": {
     "read_only": false
    }
   },
   "source": [
    "Verificando o resultado, a tabela resultante do comando abaixo é o que você obterá no seu arquivo! "
   ]
  },
  {
   "cell_type": "code",
   "execution_count": 34,
   "metadata": {
    "button": false,
    "collapsed": false,
    "deletable": true,
    "new_sheet": false,
    "run_control": {
     "read_only": false
    }
   },
   "outputs": [
    {
     "data": {
      "text/html": [
       "<div>\n",
       "<table border=\"1\" class=\"dataframe\">\n",
       "  <thead>\n",
       "    <tr style=\"text-align: right;\">\n",
       "      <th></th>\n",
       "      <th>Vpp1 (V)</th>\n",
       "      <th>Vpp2 (V)</th>\n",
       "      <th>fase (Ch1-Ch2) (graus)</th>\n",
       "      <th>frequencia (Hz)</th>\n",
       "      <th>T</th>\n",
       "      <th>T_dB</th>\n",
       "    </tr>\n",
       "  </thead>\n",
       "  <tbody>\n",
       "    <tr>\n",
       "      <th>0</th>\n",
       "      <td>10.131415</td>\n",
       "      <td>10.221927</td>\n",
       "      <td>1.800000</td>\n",
       "      <td>100.000000</td>\n",
       "      <td>1.008934</td>\n",
       "      <td>0.077253</td>\n",
       "    </tr>\n",
       "    <tr>\n",
       "      <th>1</th>\n",
       "      <td>10.131415</td>\n",
       "      <td>10.127982</td>\n",
       "      <td>-1.860465</td>\n",
       "      <td>215.443469</td>\n",
       "      <td>0.999661</td>\n",
       "      <td>-0.002944</td>\n",
       "    </tr>\n",
       "    <tr>\n",
       "      <th>2</th>\n",
       "      <td>10.068876</td>\n",
       "      <td>10.096416</td>\n",
       "      <td>-6.679036</td>\n",
       "      <td>464.158883</td>\n",
       "      <td>1.002735</td>\n",
       "      <td>0.023724</td>\n",
       "    </tr>\n",
       "  </tbody>\n",
       "</table>\n",
       "</div>"
      ],
      "text/plain": [
       "    Vpp1 (V)   Vpp2 (V)  fase (Ch1-Ch2) (graus)  frequencia (Hz)         T  \\\n",
       "0  10.131415  10.221927                1.800000       100.000000  1.008934   \n",
       "1  10.131415  10.127982               -1.860465       215.443469  0.999661   \n",
       "2  10.068876  10.096416               -6.679036       464.158883  1.002735   \n",
       "\n",
       "       T_dB  \n",
       "0  0.077253  \n",
       "1 -0.002944  \n",
       "2  0.023724  "
      ]
     },
     "execution_count": 34,
     "metadata": {},
     "output_type": "execute_result"
    }
   ],
   "source": [
    "dados.head(3) # mostra as três primeiras linhas..."
   ]
  },
  {
   "cell_type": "markdown",
   "metadata": {
    "button": false,
    "deletable": true,
    "new_sheet": false,
    "run_control": {
     "read_only": false
    }
   },
   "source": [
    "### Salvando arquivo"
   ]
  },
  {
   "cell_type": "code",
   "execution_count": 35,
   "metadata": {
    "button": false,
    "collapsed": false,
    "deletable": true,
    "new_sheet": false,
    "run_control": {
     "read_only": false
    }
   },
   "outputs": [
    {
     "name": "stdout",
     "output_type": "stream",
     "text": [
      "pasta atual: /Users/gsw/Dropbox/Disciplinas/f429/2017_1s/python\n"
     ]
    }
   ],
   "source": [
    "## parametros de varredura\n",
    "PATH = 'meu_experimento/'     # pasta onde salvar todos os arquivos\n",
    "## Não coloque .dat aqui, pois as extensões são adicionadas automaticamente\n",
    "nome_arquivo = 'exp_1a'    # nome prefixo dos arquivos  \n",
    "##--------------------------------------------------------\n",
    "#Cria a pasta no computador, veja a variável PATH\n",
    "try: \n",
    "    os.makedirs(PATH)     # make new directory unless it already exists\n",
    "except OSError:\n",
    "    if not os.path.isdir(PATH):\n",
    "        raise\n",
    "#qual pasta estou?\n",
    "print('pasta atual:',os.getcwd())        \n",
    "time_suf = time.strftime('_%H_%M_%S', time.localtime(time.time())) \n",
    "nome_fig = PATH + nome_arquivo + '_bode' + time_suf + '.png'\n",
    "nome_csv = PATH + nome_arquivo + '_dados' + time_suf + '.dat'\n",
    "#Salvando\n",
    "figure.savefig(nome_fig, bbox_inches = 'tight')  # salva figura na pasta de trabalho\n",
    "dados.to_csv(nome_csv, sep = '\\t')   # \\t significa que o separador é uma tabulação, index=False remove os indices da coluna"
   ]
  },
  {
   "cell_type": "markdown",
   "metadata": {
    "button": false,
    "deletable": true,
    "new_sheet": false,
    "run_control": {
     "read_only": false
    }
   },
   "source": [
    "## 4. Encerrando comunicação com os instrumentos"
   ]
  },
  {
   "cell_type": "code",
   "execution_count": 36,
   "metadata": {
    "button": false,
    "collapsed": true,
    "deletable": true,
    "new_sheet": false,
    "run_control": {
     "read_only": false
    }
   },
   "outputs": [],
   "source": [
    "''' encerra a comunicação osciloscópio e o gerador de funções '''\n",
    "scope.close()\n",
    "func_gen.close()\n",
    "'''APÓS ESTE COMANDO É NECESSÁRIO ABRIR NOVAMENTE CASO QUEIRA COMUNICAR DE NOVO\n",
    "'''"
   ]
  }
 ],
 "metadata": {
  "kernelspec": {
   "display_name": "Python 3",
   "language": "python",
   "name": "python3"
  },
  "language_info": {
   "codemirror_mode": {
    "name": "ipython",
    "version": 3
   },
   "file_extension": ".py",
   "mimetype": "text/x-python",
   "name": "python",
   "nbconvert_exporter": "python",
   "pygments_lexer": "ipython3",
   "version": "3.5.0"
  }
 },
 "nbformat": 4,
 "nbformat_minor": 0
}
