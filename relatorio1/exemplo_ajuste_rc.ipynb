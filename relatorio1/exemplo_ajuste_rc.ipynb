{
 "cells": [
  {
   "cell_type": "code",
   "execution_count": 1,
   "metadata": {
    "button": false,
    "collapsed": true,
    "deletable": true,
    "new_sheet": false,
    "run_control": {
     "read_only": false
    }
   },
   "outputs": [],
   "source": [
    "'''importa as bibliotecas necessárias'''\n",
    "import matplotlib.pyplot as plt  # importar a bilioteca pyplot para fazer gráficos\n",
    "import numpy as np   # importar a biblioteca Numpy para lidar com matrizes\n",
    "import time          # importar a bilioteca para funções temporais\n",
    "import pandas as pd   # importa bilioteca pandas para  lidar com processamento de dados\n",
    "import os            # biblioteca para lidar com diretórios\n",
    "import scipy.io #pacote para carregar dados do matlab\n",
    "from scipy.optimize import curve_fit # pacote para ajuste de curvas\n",
    "from scipy import optimize\n",
    "%matplotlib inline   "
   ]
  },
  {
   "cell_type": "code",
   "execution_count": 2,
   "metadata": {
    "button": false,
    "collapsed": false,
    "deletable": true,
    "new_sheet": false,
    "run_control": {
     "read_only": false
    }
   },
   "outputs": [
    {
     "name": "stdout",
     "output_type": "stream",
     "text": [
      "pasta atual: /Users/gsw/github/F429_notas/relatorio1\n"
     ]
    },
    {
     "data": {
      "text/html": [
       "<div>\n",
       "<table border=\"1\" class=\"dataframe\">\n",
       "  <thead>\n",
       "    <tr style=\"text-align: right;\">\n",
       "      <th></th>\n",
       "      <th>Unnamed: 0</th>\n",
       "      <th>Vpp1 (V)</th>\n",
       "      <th>Vpp2 (V)</th>\n",
       "      <th>fase (Ch1-Ch2) (graus)</th>\n",
       "      <th>frequencia (Hz)</th>\n",
       "      <th>T</th>\n",
       "      <th>T_dB</th>\n",
       "    </tr>\n",
       "  </thead>\n",
       "  <tbody>\n",
       "    <tr>\n",
       "      <th>0</th>\n",
       "      <td>0</td>\n",
       "      <td>10.131415</td>\n",
       "      <td>10.221927</td>\n",
       "      <td>1.800000</td>\n",
       "      <td>100.000000</td>\n",
       "      <td>1.008934</td>\n",
       "      <td>0.077253</td>\n",
       "    </tr>\n",
       "    <tr>\n",
       "      <th>1</th>\n",
       "      <td>1</td>\n",
       "      <td>10.131415</td>\n",
       "      <td>10.127982</td>\n",
       "      <td>-1.860465</td>\n",
       "      <td>215.443469</td>\n",
       "      <td>0.999661</td>\n",
       "      <td>-0.002944</td>\n",
       "    </tr>\n",
       "    <tr>\n",
       "      <th>2</th>\n",
       "      <td>2</td>\n",
       "      <td>10.068876</td>\n",
       "      <td>10.096416</td>\n",
       "      <td>-6.679036</td>\n",
       "      <td>464.158883</td>\n",
       "      <td>1.002735</td>\n",
       "      <td>0.023724</td>\n",
       "    </tr>\n",
       "    <tr>\n",
       "      <th>3</th>\n",
       "      <td>3</td>\n",
       "      <td>9.756178</td>\n",
       "      <td>9.328147</td>\n",
       "      <td>-15.808384</td>\n",
       "      <td>1000.000000</td>\n",
       "      <td>0.956127</td>\n",
       "      <td>-0.389687</td>\n",
       "    </tr>\n",
       "    <tr>\n",
       "      <th>4</th>\n",
       "      <td>4</td>\n",
       "      <td>8.818084</td>\n",
       "      <td>7.497087</td>\n",
       "      <td>-31.641535</td>\n",
       "      <td>2154.434690</td>\n",
       "      <td>0.850195</td>\n",
       "      <td>-1.409633</td>\n",
       "    </tr>\n",
       "  </tbody>\n",
       "</table>\n",
       "</div>"
      ],
      "text/plain": [
       "   Unnamed: 0   Vpp1 (V)   Vpp2 (V)  fase (Ch1-Ch2) (graus)  frequencia (Hz)  \\\n",
       "0           0  10.131415  10.221927                1.800000       100.000000   \n",
       "1           1  10.131415  10.127982               -1.860465       215.443469   \n",
       "2           2  10.068876  10.096416               -6.679036       464.158883   \n",
       "3           3   9.756178   9.328147              -15.808384      1000.000000   \n",
       "4           4   8.818084   7.497087              -31.641535      2154.434690   \n",
       "\n",
       "          T      T_dB  \n",
       "0  1.008934  0.077253  \n",
       "1  0.999661 -0.002944  \n",
       "2  1.002735  0.023724  \n",
       "3  0.956127 -0.389687  \n",
       "4  0.850195 -1.409633  "
      ]
     },
     "execution_count": 2,
     "metadata": {},
     "output_type": "execute_result"
    }
   ],
   "source": [
    "folder_path=os.getcwd()\n",
    "print('pasta atual:',folder_path)        \n",
    "#O ARQUIVO DE DADOS DEVE ESTAR NESTA PASTA:\n",
    "file_name = 'exp_1a_dados_22_33_42.dat'\n",
    "file=os.path.join(folder_path,file_name)\n",
    "dados_bruto = pd.read_csv(file, sep='\\t') #separador TAB\n",
    "#ver o cabeçalho....\n",
    "dados_bruto.head()"
   ]
  },
  {
   "cell_type": "code",
   "execution_count": 3,
   "metadata": {
    "button": false,
    "collapsed": false,
    "deletable": true,
    "new_sheet": false,
    "run_control": {
     "read_only": false
    }
   },
   "outputs": [
    {
     "data": {
      "text/html": [
       "<div>\n",
       "<table border=\"1\" class=\"dataframe\">\n",
       "  <thead>\n",
       "    <tr style=\"text-align: right;\">\n",
       "      <th></th>\n",
       "      <th>Vpp1 (V)</th>\n",
       "      <th>Vpp2 (V)</th>\n",
       "      <th>fase (Ch1-Ch2) (graus)</th>\n",
       "      <th>frequencia (Hz)</th>\n",
       "      <th>T</th>\n",
       "      <th>T_dB</th>\n",
       "    </tr>\n",
       "  </thead>\n",
       "  <tbody>\n",
       "    <tr>\n",
       "      <th>0</th>\n",
       "      <td>10.131415</td>\n",
       "      <td>10.221927</td>\n",
       "      <td>1.800000</td>\n",
       "      <td>100.000000</td>\n",
       "      <td>1.008934</td>\n",
       "      <td>0.077253</td>\n",
       "    </tr>\n",
       "    <tr>\n",
       "      <th>1</th>\n",
       "      <td>10.131415</td>\n",
       "      <td>10.127982</td>\n",
       "      <td>-1.860465</td>\n",
       "      <td>215.443469</td>\n",
       "      <td>0.999661</td>\n",
       "      <td>-0.002944</td>\n",
       "    </tr>\n",
       "    <tr>\n",
       "      <th>2</th>\n",
       "      <td>10.068876</td>\n",
       "      <td>10.096416</td>\n",
       "      <td>-6.679036</td>\n",
       "      <td>464.158883</td>\n",
       "      <td>1.002735</td>\n",
       "      <td>0.023724</td>\n",
       "    </tr>\n",
       "    <tr>\n",
       "      <th>3</th>\n",
       "      <td>9.756178</td>\n",
       "      <td>9.328147</td>\n",
       "      <td>-15.808384</td>\n",
       "      <td>1000.000000</td>\n",
       "      <td>0.956127</td>\n",
       "      <td>-0.389687</td>\n",
       "    </tr>\n",
       "    <tr>\n",
       "      <th>4</th>\n",
       "      <td>8.818084</td>\n",
       "      <td>7.497087</td>\n",
       "      <td>-31.641535</td>\n",
       "      <td>2154.434690</td>\n",
       "      <td>0.850195</td>\n",
       "      <td>-1.409633</td>\n",
       "    </tr>\n",
       "  </tbody>\n",
       "</table>\n",
       "</div>"
      ],
      "text/plain": [
       "    Vpp1 (V)   Vpp2 (V)  fase (Ch1-Ch2) (graus)  frequencia (Hz)         T  \\\n",
       "0  10.131415  10.221927                1.800000       100.000000  1.008934   \n",
       "1  10.131415  10.127982               -1.860465       215.443469  0.999661   \n",
       "2  10.068876  10.096416               -6.679036       464.158883  1.002735   \n",
       "3   9.756178   9.328147              -15.808384      1000.000000  0.956127   \n",
       "4   8.818084   7.497087              -31.641535      2154.434690  0.850195   \n",
       "\n",
       "       T_dB  \n",
       "0  0.077253  \n",
       "1 -0.002944  \n",
       "2  0.023724  \n",
       "3 -0.389687  \n",
       "4 -1.409633  "
      ]
     },
     "execution_count": 3,
     "metadata": {},
     "output_type": "execute_result"
    }
   ],
   "source": [
    "dados = dados_bruto.drop('Unnamed: 0',axis=1) #remove a primeira coluna\n",
    "dados.head()"
   ]
  },
  {
   "cell_type": "markdown",
   "metadata": {
    "button": false,
    "deletable": true,
    "new_sheet": false,
    "run_control": {
     "read_only": false
    }
   },
   "source": [
    "Note que na célula abaixo, estamos convertendo a estrutura de dados do PANDAS para vetores do Numpy. Para acessar as colunas do PANDAS, podemos usar o cabeçalho da coluna (veja acima), ou o índice da mesma (usando o método .iloc[] ), e.g.,\n",
    "```\n",
    "freq_vec = dados['frequencia (Hz)'] # primeira coluna, com nome 'frequencia (Hz)'\n",
    "freq_vec = dados.iloc[:,0] # primeira (0-ésima) coluna, o : indica que todas as linhas serão consideradas\n",
    "```\n",
    "\n",
    "Compare os resultados:"
   ]
  },
  {
   "cell_type": "code",
   "execution_count": 4,
   "metadata": {
    "button": false,
    "collapsed": false,
    "deletable": true,
    "new_sheet": false,
    "run_control": {
     "read_only": false
    }
   },
   "outputs": [
    {
     "name": "stdout",
     "output_type": "stream",
     "text": [
      "0    10.131415\n",
      "1    10.131415\n",
      "2    10.068876\n",
      "3     9.756178\n",
      "4     8.818084\n",
      "5     7.629831\n",
      "6     7.066975\n",
      "7     6.879356\n",
      "8     6.816816\n",
      "9     6.879356\n",
      "Name: Vpp1 (V), dtype: float64\n",
      "0    10.131415\n",
      "1    10.131415\n",
      "2    10.068876\n",
      "3     9.756178\n",
      "4     8.818084\n",
      "5     7.629831\n",
      "6     7.066975\n",
      "7     6.879356\n",
      "8     6.816816\n",
      "9     6.879356\n",
      "Name: Vpp1 (V), dtype: float64\n"
     ]
    }
   ],
   "source": [
    "print(dados['Vpp1 (V)'])\n",
    "print(dados.iloc[:,0])"
   ]
  },
  {
   "cell_type": "code",
   "execution_count": 5,
   "metadata": {
    "button": false,
    "collapsed": false,
    "deletable": true,
    "new_sheet": false,
    "run_control": {
     "read_only": false
    }
   },
   "outputs": [],
   "source": [
    "#*********************************************\n",
    "#atribuindo variáveis\n",
    "#*********************************************\n",
    "freq_vec =  np.array(dados['frequencia (Hz)'])\n",
    "vpp1_vec =  np.array(dados['Vpp1 (V)'] )\n",
    "vpp2_vec =  np.array(dados['Vpp2 (V)'] )\n",
    "fase_vec =  np.array(dados['fase (Ch1-Ch2) (graus)'])\n",
    "npt = len(vpp1_vec) # numero de pontos\n",
    "#*********************************************\n",
    "#calculando transmistancia a partir dos vetores de vpp\n",
    "#*********************************************\n",
    "t = (vpp2_vec/vpp1_vec)**2\n",
    "t_db = 10*np.log10(t)\n",
    "#*********************************************\n",
    "#---------------------------\n",
    "#horizontal [segundos]\n",
    "fase_vec_rad=fase_vec*np.pi/180 #fase em radianos\n",
    "omega_vec = 2*np.pi*freq_vec # frequencia angular\n",
    "#*********************************************\n",
    "#recortando os vetores, caso possuam ponto a serem excluidos\n",
    "#*********************************************\n",
    "pi = 0 # indice do primeiro ponto\n",
    "pf = npt # indice do último ponto\n",
    "freq_vecr = freq_vec[pi:pf]\n",
    "tr = t[pi:pf]\n",
    "t_dbr = t_db[pi:pf]\n",
    "fase_vecr = fase_vec[pi:pf]"
   ]
  },
  {
   "cell_type": "code",
   "execution_count": 6,
   "metadata": {
    "button": false,
    "collapsed": false,
    "deletable": true,
    "new_sheet": false,
    "run_control": {
     "read_only": false
    }
   },
   "outputs": [
    {
     "data": {
      "text/plain": [
       "<matplotlib.figure.Figure at 0x10e5bb8d0>"
      ]
     },
     "metadata": {},
     "output_type": "display_data"
    },
    {
     "data": {
      "image/png": "[encoded data removed]",
      "text/plain": [
       "<matplotlib.figure.Figure at 0x10e5bb908>"
      ]
     },
     "metadata": {},
     "output_type": "display_data"
    }
   ],
   "source": [
    "#*********************************************\n",
    "#grafico\n",
    "#*********************************************\n",
    "fig = plt.figure();\n",
    "fig, ax = plt.subplots(2, sharex=True, figsize=(6, 10))\n",
    "ax1 = plt.subplot(211);\n",
    "ax2 = plt.subplot(212);\n",
    "#DADOS\n",
    "#*********************************************\n",
    "#grafico experimental\n",
    "ax1.semilogx(freq_vecr,t_dbr, 'og', markersize=5, label='dados')\n",
    "ax2.semilogx(freq_vecr,fase_vecr,'og', markersize=5)\n",
    "\n",
    "fig; # mostra a figura\n"
   ]
  },
  {
   "cell_type": "markdown",
   "metadata": {
    "button": false,
    "deletable": true,
    "new_sheet": false,
    "run_control": {
     "read_only": false
    }
   },
   "source": [
    "Na célula abaixo, definimos funções para calcular a função de transferência complexa para um circuito $RC$, a transmitância e a fase de função de transferência\n",
    "$$H(\\omega,R,C)=\\frac{Z_c}{R+Zc}=\\frac{-j/(\\omega C)}{R-j/(\\omega C)};$$ \n",
    "a transmitância $$T(\\omega,R,C)=|H(\\omega,R,C)|^2;$$\n",
    "e a fase da função de transferência $$\\phi(\\omega,R,C)=\\arg(H(\\omega,R,C)).$$\n",
    "\n",
    "Explicitamos acima a dependência com os parâmetros $R$ e $C$ para lembrá-los que estes parâmetros devem ser considerados no caso de outro circuito, e.g., no $RL$ devemos ter uma função que depende de $R,L$"
   ]
  },
  {
   "cell_type": "code",
   "execution_count": 7,
   "metadata": {
    "button": false,
    "collapsed": true,
    "deletable": true,
    "new_sheet": false,
    "run_control": {
     "read_only": false
    }
   },
   "outputs": [],
   "source": [
    "#*********************************************\n",
    "#definindo funcao que calcula a curva teorica\n",
    "#r - resistencia\n",
    "#c - capacitancia\n",
    "#*********************************************\n",
    "def funcH(freq, r, c):\n",
    "    j=complex(0,1)\n",
    "    omega=2*np.pi*freq\n",
    "    #reatancias\n",
    "    Xc=1/(omega*c)\n",
    "    #impedancias\n",
    "    Zc=-j*Xc\n",
    "    #funcao de transferencia\n",
    "    H= Zc/(r+Zc)\n",
    "    return H\n",
    "def funcT(freq, r, c):\n",
    "    #****************\n",
    "    #comente estes valores \n",
    "    #caso deseje que eles tambem sejam ajustados\n",
    "    #****************\n",
    "    H = funcH(freq, r, c)\n",
    "    #transmitancia, linear\n",
    "    T = np.abs(H)**2\n",
    "    return T\n",
    "def funcTdb(freq, r, c):\n",
    "    #****************\n",
    "    #comente estes valores \n",
    "    #caso deseje que eles tambem sejam ajustados\n",
    "    #****************\n",
    "    H = funcH(freq, r, c)\n",
    "    #transmitancia, linear\n",
    "    Tdb = 20*np.log10(np.abs(H))\n",
    "    return Tdb\n",
    "def funcPhi(freq, r, c):\n",
    "    #****************\n",
    "    #comente estes valores \n",
    "    #caso deseje que eles tambem sejam ajustados\n",
    "    #****************\n",
    "    #Funcao H\n",
    "    H = funcH(freq, r, c)\n",
    "    #fase em graus\n",
    "    phi = np.angle(H,deg=True)\n",
    "    return phi"
   ]
  },
  {
   "cell_type": "code",
   "execution_count": 9,
   "metadata": {
    "button": false,
    "collapsed": false,
    "deletable": true,
    "new_sheet": false,
    "run_control": {
     "read_only": false
    }
   },
   "outputs": [
    {
     "name": "stdout",
     "output_type": "stream",
     "text": [
      "\n",
      "Parâmetros ajustados segundo a função curve_fit:\n",
      "pfit =  [  1.54908472e+02   2.56710281e-07]\n",
      "\n",
      "Erros estimados pela função curve_fit:\n",
      "perr =  [ inf  inf]\n"
     ]
    },
    {
     "name": "stderr",
     "output_type": "stream",
     "text": [
      "/Applications/Pineapple.app/Contents/Frameworks/Python.framework/Versions/3.5/lib/python3.5/site-packages/scipy/optimize/minpack.py:779: OptimizeWarning: Covariance of the parameters could not be estimated\n",
      "  category=OptimizeWarning)\n"
     ]
    }
   ],
   "source": [
    "chute_inicial = (150,0.22e-6,) #chute inicial igual parametros nominais\n",
    "pfit, pcov = curve_fit(funcTdb, freq_vecr, t_dbr, p0=chute_inicial)\n",
    "#print('Parametros do ajuste (r (Ohms),c (faraday)):', pfit)\n",
    "#print(popt)\n",
    "perr = np.sqrt(np.diag(pcov))\n",
    "print(\"\\nParâmetros ajustados segundo a função curve_fit:\")\n",
    "print(\"pfit = \", pfit)\n",
    "print(\"\\nErros estimados pela função curve_fit:\")\n",
    "print(\"perr = \", perr)"
   ]
  },
  {
   "cell_type": "markdown",
   "metadata": {
    "run_control": {}
   },
   "source": [
    "Na célula abaixo, é claro que será necessário alterar os valores dos argumentos das funções funcT e funcPhi:\n",
    "```\n",
    "T = funcT(freq_t,150,0.22e-6)\n",
    "fase = funcPhi(freq_t,150,0.22e-6)\n",
    "```\n",
    "Também é assumido que você já fez as alterações necessárias nas funções para contemplar as sutilezas do seu circuito."
   ]
  },
  {
   "cell_type": "code",
   "execution_count": 10,
   "metadata": {
    "button": false,
    "collapsed": false,
    "deletable": true,
    "new_sheet": false,
    "run_control": {
     "read_only": false
    }
   },
   "outputs": [
    {
     "data": {
      "image/png": "[encoded data removed]",
      "text/plain": [
       "<matplotlib.figure.Figure at 0x10e5bb908>"
      ]
     },
     "execution_count": 10,
     "metadata": {},
     "output_type": "execute_result"
    }
   ],
   "source": [
    "#*********************************************\n",
    "#vetor de frequencias teorica, com bem mais pontos que o experimental\n",
    "freq_t=np.logspace(np.log10(freq_vecr[0]),np.log10(freq_vecr[-1]),1000)\n",
    "#transmicao teorica usando valores nominais, checar se a curva parece com o experimento\n",
    "T = funcT(freq_t,150,0.22e-6)\n",
    "fase = funcPhi(freq_t,150,0.22e-6)\n",
    "#*********************************************\n",
    "ax1.semilogx(freq_t,10*np.log10(T),'-b',label='teórico nominal') # curva teorica\n",
    "ax2.semilogx(freq_t,fase,'-b') # curva teorica\n",
    "fig"
   ]
  },
  {
   "cell_type": "markdown",
   "metadata": {
    "run_control": {}
   },
   "source": [
    "<span style='color:red'>OBS:</span>Abaixo, usamos a notação ```Tfit = funcT(freq_t, *pfit)``` para passar o argumento ```pfit```. Esta notação, que inlcui um asterísco, significa que ```pfit``` pode ser um escalar ou um vetor. No caso de ser um vetor, a sua função deverá receber tantos argumentos (após o argumento ```freq_t```) quanto elementos no vetor ```pfit```"
   ]
  },
  {
   "cell_type": "code",
   "execution_count": 11,
   "metadata": {
    "button": false,
    "collapsed": false,
    "deletable": true,
    "new_sheet": false,
    "run_control": {
     "read_only": false
    }
   },
   "outputs": [
    {
     "data": {
      "image/png": "[encoded data removed]",
      "text/plain": [
       "<matplotlib.figure.Figure at 0x10e5bb908>"
      ]
     },
     "execution_count": 11,
     "metadata": {},
     "output_type": "execute_result"
    },
    {
     "data": {
      "text/plain": [
       "<matplotlib.figure.Figure at 0x10e8d0390>"
      ]
     },
     "metadata": {},
     "output_type": "display_data"
    }
   ],
   "source": [
    "#*********************************************\n",
    "#graficando o ajuste em vermelho solido \n",
    "#calculando os a funcao teorica com os valores obtidos do ajuste\n",
    "Tfit = funcT(freq_t, *pfit)\n",
    "fasefit = funcPhi(freq_t, *pfit)\n",
    "\n",
    "ax1.semilogx(freq_t,10*np.log10(Tfit),'-r',linewidth=2, label='ajuste')\n",
    "ax2.semilogx(freq_t,fasefit,'-r',linewidth=2)\n",
    "\n",
    "#ajustes dos graficos\n",
    "#ax1.set_xlabel('meu eixo freq')\n",
    "ax1.set_ylabel('meu eixo t')\n",
    "ax2.set_xlabel('meu eixo de freq')\n",
    "ax2.set_ylabel('meu eixo fase')\n",
    "ax2.set_xlim((100,1e5)) #LIMITES DO EIXO X\n",
    "#ax2.set_xlim((100,1e5))\n",
    "ax1.set_ylim((-45,5)) #LIMITES DO EIXO Y\n",
    "#ax1.legend(loc='lower right')\n",
    "#plt.title('Diagrama Bode')\n",
    "fig.tight_layout\n",
    "plt.subplots_adjust(hspace=0.5)\n",
    "#plt.subplots_adjust(wspace=0.4)\n",
    "ax1.legend(loc='lower left')\n",
    "fig"
   ]
  },
  {
   "cell_type": "code",
   "execution_count": 12,
   "metadata": {
    "button": false,
    "collapsed": false,
    "deletable": true,
    "new_sheet": false,
    "run_control": {
     "read_only": false
    }
   },
   "outputs": [
    {
     "name": "stdout",
     "output_type": "stream",
     "text": [
      "pasta atual: /Users/gsw/github/F429_notas/relatorio1\n",
      "arquivo salvo: /Users/gsw/github/F429_notas/relatorio1/bode_rc_dados.pdf\n"
     ]
    }
   ],
   "source": [
    "#salvando\n",
    "print('pasta atual:',os.getcwd())  \n",
    "name='bode_rc_dados'\n",
    "folder_path=os.getcwd()\n",
    "ext='pdf'\n",
    "path=os.path.join(folder_path,name + '.' + ext)\n",
    "fig.savefig(path,format='pdf')\n",
    "print('arquivo salvo:',path)"
   ]
  }
 ],
 "metadata": {
  "kernelspec": {
   "display_name": "Python 3",
   "language": "python",
   "name": "python3"
  },
  "language_info": {
   "codemirror_mode": {
    "name": "ipython",
    "version": 3
   },
   "file_extension": ".py",
   "mimetype": "text/x-python",
   "name": "python",
   "nbconvert_exporter": "python",
   "pygments_lexer": "ipython3",
   "version": "3.5.0"
  }
 },
 "nbformat": 4,
 "nbformat_minor": 0
}
