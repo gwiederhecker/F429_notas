{
 "cells": [
  {
   "cell_type": "markdown",
   "metadata": {},
   "source": [
    "# Carregando pacotes"
   ]
  },
  {
   "cell_type": "code",
   "execution_count": 150,
   "metadata": {},
   "outputs": [],
   "source": [
    "import matplotlib.pyplot as plt\n",
    "import numpy as np\n",
    "import pandas as pd"
   ]
  },
  {
   "cell_type": "markdown",
   "metadata": {},
   "source": [
    "# Carregando dados"
   ]
  },
  {
   "cell_type": "markdown",
   "metadata": {},
   "source": [
    "Lista com o nomes dos arquivos correspondendo à sequência de dados, neste caso foram três varreduras, cada uma com um valor diferente de resistência. Também será criado um vetor ``res_list = [r1,r2,r3]`` correspondendo aos valores de resistência. Note que abaixo estes são valores **nominais** dos componentes.\n",
    "\n",
    "O melhor aqui é literalmente fazer um Ctrl-C, Ctrl-V no nome do arquivo que você gerou."
   ]
  },
  {
   "cell_type": "code",
   "execution_count": 144,
   "metadata": {},
   "outputs": [],
   "source": [
    "file_list = ['4 - 0,047uF - 100 - 10hz-50khz_dados.csv',\n",
    "             '4 - 0,047uF - 1k - 10hz-50kz_dados.csv',\n",
    "             '4 - 0,047uF - 10k - 10hz-50khz_dados.csv']\n",
    "res_list = [1e2,1e3,1e4]  # lista com valores de resistência correspondente aos arquivos"
   ]
  },
  {
   "cell_type": "markdown",
   "metadata": {},
   "source": [
    "Cada elemento da lista de arquivos pode ser acessada usando ```file_list[i]``` sendo ```i```  um número inteiro.  \n",
    "<span style=\"color:red\">**Note que em Python a contagem se inicia no** ```i=0```</span>."
   ]
  },
  {
   "cell_type": "markdown",
   "metadata": {},
   "source": [
    "Usaremos o pacotes [```pandas```](https://pandas.pydata.org) para ler os arquivos .CSV na forma de tabelas. Este pacote foi carregado com ```pd``` (``` import pandas as pd ```) no início deste notebook.\n",
    "Para ter ajuda sobre o comando, digite ? antes do mesmo, por exemplo, ```?pd.read_csv```"
   ]
  },
  {
   "cell_type": "code",
   "execution_count": 148,
   "metadata": {},
   "outputs": [],
   "source": [
    "df_list = [] # inicializamos uma lista que irá armazenar os três conjuntos de dados\n",
    "for filename in file_list: # for loop sobre todos os arquivos da lista file_list\n",
    "    df0 = pd.read_csv(filename) # comando para ler CSV, \n",
    "    df_list.append(df0) # concatena na lista o conjunto de dados"
   ]
  },
  {
   "cell_type": "markdown",
   "metadata": {},
   "source": [
    "Pode-se visualizar o resultado, por exemplo:"
   ]
  },
  {
   "cell_type": "code",
   "execution_count": 152,
   "metadata": {},
   "outputs": [
    {
     "data": {
      "text/html": [
       "<div>\n",
       "<style scoped>\n",
       "    .dataframe tbody tr th:only-of-type {\n",
       "        vertical-align: middle;\n",
       "    }\n",
       "\n",
       "    .dataframe tbody tr th {\n",
       "        vertical-align: top;\n",
       "    }\n",
       "\n",
       "    .dataframe thead th {\n",
       "        text-align: right;\n",
       "    }\n",
       "</style>\n",
       "<table border=\"1\" class=\"dataframe\">\n",
       "  <thead>\n",
       "    <tr style=\"text-align: right;\">\n",
       "      <th></th>\n",
       "      <th>frequencia (Hz)</th>\n",
       "      <th>Vpp1 (V)</th>\n",
       "      <th>Vpp2 (V)</th>\n",
       "      <th>fase (Ch2-Ch1) (graus)</th>\n",
       "      <th>T</th>\n",
       "      <th>T_dB</th>\n",
       "    </tr>\n",
       "  </thead>\n",
       "  <tbody>\n",
       "    <tr>\n",
       "      <th>0</th>\n",
       "      <td>10.000000</td>\n",
       "      <td>3.387681</td>\n",
       "      <td>0.013266</td>\n",
       "      <td>-67.988274</td>\n",
       "      <td>0.000015</td>\n",
       "      <td>-48.143092</td>\n",
       "    </tr>\n",
       "    <tr>\n",
       "      <th>1</th>\n",
       "      <td>25.763014</td>\n",
       "      <td>3.954158</td>\n",
       "      <td>0.031632</td>\n",
       "      <td>92.631561</td>\n",
       "      <td>0.000064</td>\n",
       "      <td>-41.938438</td>\n",
       "    </tr>\n",
       "    <tr>\n",
       "      <th>2</th>\n",
       "      <td>66.373288</td>\n",
       "      <td>4.062914</td>\n",
       "      <td>0.078565</td>\n",
       "      <td>88.924309</td>\n",
       "      <td>0.000374</td>\n",
       "      <td>-34.272202</td>\n",
       "    </tr>\n",
       "    <tr>\n",
       "      <th>3</th>\n",
       "      <td>170.997595</td>\n",
       "      <td>4.050258</td>\n",
       "      <td>0.202184</td>\n",
       "      <td>85.819672</td>\n",
       "      <td>0.002492</td>\n",
       "      <td>-26.034704</td>\n",
       "    </tr>\n",
       "    <tr>\n",
       "      <th>4</th>\n",
       "      <td>440.541340</td>\n",
       "      <td>3.987944</td>\n",
       "      <td>0.579798</td>\n",
       "      <td>77.392075</td>\n",
       "      <td>0.021138</td>\n",
       "      <td>-16.749452</td>\n",
       "    </tr>\n",
       "    <tr>\n",
       "      <th>5</th>\n",
       "      <td>1134.967265</td>\n",
       "      <td>3.053780</td>\n",
       "      <td>2.001715</td>\n",
       "      <td>-13.469388</td>\n",
       "      <td>0.429664</td>\n",
       "      <td>-3.668708</td>\n",
       "    </tr>\n",
       "    <tr>\n",
       "      <th>6</th>\n",
       "      <td>2924.017738</td>\n",
       "      <td>4.084675</td>\n",
       "      <td>0.506432</td>\n",
       "      <td>-80.421051</td>\n",
       "      <td>0.015372</td>\n",
       "      <td>-18.132734</td>\n",
       "    </tr>\n",
       "    <tr>\n",
       "      <th>7</th>\n",
       "      <td>7533.150951</td>\n",
       "      <td>4.107714</td>\n",
       "      <td>0.177882</td>\n",
       "      <td>-86.101700</td>\n",
       "      <td>0.001875</td>\n",
       "      <td>-27.269348</td>\n",
       "    </tr>\n",
       "    <tr>\n",
       "      <th>8</th>\n",
       "      <td>19407.667237</td>\n",
       "      <td>4.120832</td>\n",
       "      <td>0.066705</td>\n",
       "      <td>-87.726402</td>\n",
       "      <td>0.000262</td>\n",
       "      <td>-35.816494</td>\n",
       "    </tr>\n",
       "    <tr>\n",
       "      <th>9</th>\n",
       "      <td>50000.000000</td>\n",
       "      <td>4.082793</td>\n",
       "      <td>0.021453</td>\n",
       "      <td>-80.559441</td>\n",
       "      <td>0.000028</td>\n",
       "      <td>-45.589451</td>\n",
       "    </tr>\n",
       "  </tbody>\n",
       "</table>\n",
       "</div>"
      ],
      "text/plain": [
       "   frequencia (Hz)  Vpp1 (V)  Vpp2 (V)  fase (Ch2-Ch1) (graus)         T  \\\n",
       "0        10.000000  3.387681  0.013266              -67.988274  0.000015   \n",
       "1        25.763014  3.954158  0.031632               92.631561  0.000064   \n",
       "2        66.373288  4.062914  0.078565               88.924309  0.000374   \n",
       "3       170.997595  4.050258  0.202184               85.819672  0.002492   \n",
       "4       440.541340  3.987944  0.579798               77.392075  0.021138   \n",
       "5      1134.967265  3.053780  2.001715              -13.469388  0.429664   \n",
       "6      2924.017738  4.084675  0.506432              -80.421051  0.015372   \n",
       "7      7533.150951  4.107714  0.177882              -86.101700  0.001875   \n",
       "8     19407.667237  4.120832  0.066705              -87.726402  0.000262   \n",
       "9     50000.000000  4.082793  0.021453              -80.559441  0.000028   \n",
       "\n",
       "        T_dB  \n",
       "0 -48.143092  \n",
       "1 -41.938438  \n",
       "2 -34.272202  \n",
       "3 -26.034704  \n",
       "4 -16.749452  \n",
       "5  -3.668708  \n",
       "6 -18.132734  \n",
       "7 -27.269348  \n",
       "8 -35.816494  \n",
       "9 -45.589451  "
      ]
     },
     "execution_count": 152,
     "metadata": {},
     "output_type": "execute_result"
    }
   ],
   "source": [
    "df_list[0]"
   ]
  },
  {
   "cell_type": "markdown",
   "metadata": {},
   "source": [
    "Para acessar cada uma das colunas, a maneira mais simples é utilizando o nome da coluna:"
   ]
  },
  {
   "cell_type": "code",
   "execution_count": 160,
   "metadata": {},
   "outputs": [
    {
     "data": {
      "text/plain": [
       "0       10.000000\n",
       "1       25.763014\n",
       "2       66.373288\n",
       "3      170.997595\n",
       "4      440.541340\n",
       "5     1134.967265\n",
       "6     2924.017738\n",
       "7     7533.150951\n",
       "8    19407.667237\n",
       "9    50000.000000\n",
       "Name: frequencia (Hz), dtype: float64"
      ]
     },
     "execution_count": 160,
     "metadata": {},
     "output_type": "execute_result"
    }
   ],
   "source": [
    "df_list[0]['frequencia (Hz)'] #coluna de frequências do primeiro conjunto de dados"
   ]
  },
  {
   "cell_type": "code",
   "execution_count": 161,
   "metadata": {},
   "outputs": [
    {
     "data": {
      "text/plain": [
       "0       10.000000\n",
       "1       25.763014\n",
       "2       66.373288\n",
       "3      170.997595\n",
       "4      440.541340\n",
       "5     1134.967265\n",
       "6     2924.017738\n",
       "7     7533.150951\n",
       "8    19407.667237\n",
       "9    50000.000000\n",
       "Name: frequencia (Hz), dtype: float64"
      ]
     },
     "execution_count": 161,
     "metadata": {},
     "output_type": "execute_result"
    }
   ],
   "source": [
    "df_list[1]['frequencia (Hz)'] #coluna de frequências do segundo conjunto de dados"
   ]
  },
  {
   "cell_type": "code",
   "execution_count": 162,
   "metadata": {},
   "outputs": [
    {
     "data": {
      "text/plain": [
       "0    3.387681\n",
       "1    3.954158\n",
       "2    4.062914\n",
       "3    4.050258\n",
       "4    3.987944\n",
       "5    3.053780\n",
       "6    4.084675\n",
       "7    4.107714\n",
       "8    4.120832\n",
       "9    4.082793\n",
       "Name: Vpp1 (V), dtype: float64"
      ]
     },
     "execution_count": 162,
     "metadata": {},
     "output_type": "execute_result"
    }
   ],
   "source": [
    "df_list[0]['Vpp1 (V)'] #coluna de Vpp1 do primeiro conjunto de dados"
   ]
  },
  {
   "cell_type": "markdown",
   "metadata": {},
   "source": [
    "# Gerando gráficos"
   ]
  },
  {
   "cell_type": "markdown",
   "metadata": {},
   "source": [
    "## Gráfico simples de um dos dados"
   ]
  },
  {
   "cell_type": "code",
   "execution_count": 214,
   "metadata": {},
   "outputs": [
    {
     "name": "stdout",
     "output_type": "stream",
     "text": [
      "100 Ω\n"
     ]
    },
    {
     "data": {
      "image/png": "[encoded data removed]",
      "text/plain": [
       "<Figure size 360x216 with 1 Axes>"
      ]
     },
     "metadata": {},
     "output_type": "display_data"
    }
   ],
   "source": [
    "i=0 # selecionamos qual dos dataframes iremos trabalhar\n",
    "df = df_list[i]\n",
    "leg = '{:1g} Ω'.format(res_list[i]) # string definindo a legenda para esta figura\n",
    "print(leg) # imprime a legenda para visualização\n",
    "\n",
    "#------------------------------------\n",
    "#Figura\n",
    "#------\n",
    "fig,ax = plt.subplots(1,figsize=(5,3))\n",
    "ax.plot(df['frequencia (Hz)'],df['T_dB'],'*-',label=leg)\n",
    "#formatando eixo x em scala log\n",
    "ax.set_xscale('log')\n",
    "#nome dos eixos\n",
    "plt.xlabel('Frequência (Hz)')\n",
    "plt.ylabel('Transmitância (dB)')\n",
    "#posicao da legenda\n",
    "plt.legend(loc='best')\n",
    "#desenha grades\n",
    "plt.grid()\n",
    "#salva figura\n",
    "plt.tight_layout() # ajusta para salvar\n",
    "plt.savefig('exemplo_simples.pdf',bbox_to_anchor=True)\n",
    "#------\n",
    "plt.show()"
   ]
  },
  {
   "cell_type": "markdown",
   "metadata": {},
   "source": [
    "## Gráfico que coloca os três dados juntos"
   ]
  },
  {
   "cell_type": "code",
   "execution_count": 212,
   "metadata": {},
   "outputs": [
    {
     "data": {
      "image/png": "[encoded data removed]",
      "text/plain": [
       "<Figure size 360x216 with 1 Axes>"
      ]
     },
     "metadata": {},
     "output_type": "display_data"
    }
   ],
   "source": [
    "fig,ax = plt.subplots(1,figsize=(5,3))\n",
    "for i  in range(0,3):\n",
    "    df = df_list[i]\n",
    "    leg = '{:1g} Ω'.format(res_list[i])\n",
    "    ax.plot(df['frequencia (Hz)'],df['T_dB'],'*-',label=leg)\n",
    "    ax.set_xscale('log')\n",
    "    plt.xlabel('Frequência (Hz)')\n",
    "    plt.ylabel('Transmitância (dB)')\n",
    "    plt.legend(loc='best',)\n",
    "    plt.grid()  \n",
    "plt.tight_layout() # ajusta para salvar\n",
    "plt.savefig('exemplo_sobreposicao.pdf',bbox_to_anchor=True)\n",
    "plt.show()"
   ]
  },
  {
   "cell_type": "markdown",
   "metadata": {},
   "source": [
    "## Gráfico que concatena horizontalmente"
   ]
  },
  {
   "cell_type": "code",
   "execution_count": 213,
   "metadata": {},
   "outputs": [
    {
     "data": {
      "image/png": "[encoded data removed]",
      "text/plain": [
       "<Figure size 576x144 with 3 Axes>"
      ]
     },
     "metadata": {},
     "output_type": "display_data"
    }
   ],
   "source": [
    "fig,ax = plt.subplots(1,3,figsize=(8,2),sharey=True)\n",
    "for i  in range(0,3):\n",
    "    df = df_list[i]\n",
    "    leg = 'r = {:1g} Ω'.format(res_list[i])\n",
    "    ax[i].plot(df['frequencia (Hz)'],df['T_dB'],'*-',label=leg)\n",
    "    ax[i].set_xscale('log')\n",
    "    ax[i].set_xlabel('Frequência (Hz)')\n",
    "    ax[i].legend(loc='lower center')\n",
    "    ax[i].grid()\n",
    "    # apenas o eixo da esquerda (0) terá o nome!\n",
    "    ax[0].set_ylabel('Transmitância (dB)')\n",
    "plt.savefig('exemplo_horizontal.pdf',bbox_to_anchor=True)\n",
    "plt.show()"
   ]
  },
  {
   "cell_type": "markdown",
   "metadata": {},
   "source": [
    "## Gráfico que concatena verticalmente"
   ]
  },
  {
   "cell_type": "code",
   "execution_count": 215,
   "metadata": {},
   "outputs": [
    {
     "data": {
      "image/png": "[encoded data removed]",
      "text/plain": [
       "<Figure size 216x432 with 3 Axes>"
      ]
     },
     "metadata": {},
     "output_type": "display_data"
    }
   ],
   "source": [
    "fig,ax = plt.subplots(3,1,figsize=(3,6),sharex=True)\n",
    "for i  in range(0,3):\n",
    "    df = df_list[i]\n",
    "    leg = 'r = {:1g} Ω'.format(res_list[i])\n",
    "    ax[i].plot(df['frequencia (Hz)'],df['T_dB'],'*-',label=leg)\n",
    "    ax[i].set_xscale('log')\n",
    "    ax[i].set_ylabel('Transmitância (dB)')\n",
    "    ax[i].legend(loc='lower center')\n",
    "    ax[i].grid()\n",
    "    # apenas o eixo inferior (2) terá o nome!\n",
    "    ax[2].set_xlabel('Frequência (Hz)')    \n",
    "plt.savefig('exemplo_vertical.pdf',bbox_to_anchor=True)\n",
    "plt.show()"
   ]
  }
 ],
 "metadata": {
  "kernelspec": {
   "display_name": "Python 3",
   "language": "python",
   "name": "python3"
  },
  "language_info": {
   "codemirror_mode": {
    "name": "ipython",
    "version": 3
   },
   "file_extension": ".py",
   "mimetype": "text/x-python",
   "name": "python",
   "nbconvert_exporter": "python",
   "pygments_lexer": "ipython3",
   "version": "3.6.4"
  },
  "toc": {
   "nav_menu": {},
   "number_sections": true,
   "sideBar": true,
   "skip_h1_title": false,
   "title_cell": "Table of Contents",
   "title_sidebar": "Contents",
   "toc_cell": false,
   "toc_position": {},
   "toc_section_display": true,
   "toc_window_display": false
  }
 },
 "nbformat": 4,
 "nbformat_minor": 2
}
